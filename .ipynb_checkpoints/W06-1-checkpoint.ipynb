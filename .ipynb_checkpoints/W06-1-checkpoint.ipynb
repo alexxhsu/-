{
 "cells": [
  {
   "cell_type": "code",
   "execution_count": 1,
   "id": "9796937d",
   "metadata": {},
   "outputs": [],
   "source": [
    "from glob import glob\n",
    "import pandas\n",
    "from datetime import datetime\n",
    "import numpy"
   ]
  },
  {
   "cell_type": "markdown",
   "id": "3d4bce4e",
   "metadata": {},
   "source": [
    "將原始資料解析成正確形式\n",
    "\"-\"的處理,避免每一欄都是文字\n",
    "<h3>任務->產生SQL語句</h3>"
   ]
  },
  {
   "cell_type": "code",
   "execution_count": 2,
   "id": "e8ea3b14",
   "metadata": {},
   "outputs": [
    {
     "data": {
      "text/plain": [
       "['C:/Users/user/anaconda3/Projects/data/W06_data\\\\NQF-2017.txt',\n",
       " 'C:/Users/user/anaconda3/Projects/data/W06_data\\\\NQF-2018.txt',\n",
       " 'C:/Users/user/anaconda3/Projects/data/W06_data\\\\NQF-2019.txt',\n",
       " 'C:/Users/user/anaconda3/Projects/data/W06_data\\\\NQF-2020.txt']"
      ]
     },
     "execution_count": 2,
     "metadata": {},
     "output_type": "execute_result"
    }
   ],
   "source": [
    "data_path='C:/Users/user/anaconda3/Projects/data/W06_data'\n",
    "\n",
    "file_list=glob('%s/NQF-*.txt'% data_path)\n",
    "#會進行代換*\n",
    "file_list"
   ]
  },
  {
   "cell_type": "code",
   "execution_count": 3,
   "id": "3b494883",
   "metadata": {},
   "outputs": [],
   "source": [
    "datatable='StockInfo'"
   ]
  },
  {
   "cell_type": "markdown",
   "id": "b11b04f4",
   "metadata": {},
   "source": [
    "<h3>工具函數-依據輸入的不同做執行</h3>\n",
    "\n",
    "欄位間格為tab(\\t),\n",
    "將[0]解析為單獨的日期列(處理空格問題),\n",
    "推斷日期時間字符串的格式,\n",
    "header=0表示有檔頭,並將欄位名稱做相對應的代換\n",
    "\n",
    "新增衍生欄位stockID,\n",
    "由小到大排列,並將產生的index拆掉(drop),內部結構改變(inpalce)\n",
    "\n",
    "利用loc尋找沒有\"-\"的 資料(將-刪掉)\n",
    "\n",
    "定義數值欄,\n",
    "apply各個欄位都執行一件事:轉成字串,將\",\"replace掉,再轉為數值\n",
    "\n",
    "<h3>函數導向設計</h3>.\n",
    "lambda x:傳回變數,內容可代換(自行定義)->第二次期中"
   ]
  },
  {
   "cell_type": "code",
   "execution_count": 4,
   "id": "898f3fd8",
   "metadata": {},
   "outputs": [],
   "source": [
    "def import_data(stockID, file_name):\n",
    "    _dataset = pandas.read_csv(\n",
    "        file_name, delimiter='\\t', parse_dates=[0], infer_datetime_format=True,\n",
    "        header=0, names=['StockDate', 'StockOpen', 'StockHigh', \n",
    "                         'StockLow', 'StockClose', 'StockAdjClose', 'StockVol'],\n",
    "    )\n",
    "    \n",
    "    _dataset['StockID'] = stockID\n",
    "    _dataset = _dataset.sort_values(by=['StockDate'])\n",
    "    \n",
    "    _dataset.reset_index(drop=True, inplace=True)\n",
    "    \n",
    "    _dataset = _dataset.loc[_dataset['StockOpen'] != '-']\n",
    "    \n",
    "    _number_fields = ['StockOpen', 'StockHigh', 'StockLow', 'StockClose', \n",
    "                      'StockAdjClose', 'StockVol']\n",
    "    \n",
    "    _dataset[_number_fields] = _dataset[_number_fields].apply(\n",
    "        lambda x: pandas.to_numeric(x.astype(str).str.replace(',', ''), errors='coerce')\n",
    "    )\n",
    "    \n",
    "    _dataset['StockVol'] = _dataset['StockVol'] / 1000.0\n",
    "            \n",
    "    return _dataset[['StockID', 'StockDate', \n",
    "                    'StockOpen', 'StockHigh', 'StockLow', 'StockClose', \n",
    "                    'StockAdjClose', 'StockVol']]"
   ]
  },
  {
   "cell_type": "markdown",
   "id": "8a2300d9",
   "metadata": {},
   "source": [
    "<h3>載入檔案</h3>"
   ]
  },
  {
   "cell_type": "code",
   "execution_count": 5,
   "id": "b15177c6",
   "metadata": {},
   "outputs": [],
   "source": [
    "_dataset=import_data('NQF',file_list[0])\n",
    "#呼叫工具程式傳入\"(NQF,檔名)\""
   ]
  },
  {
   "cell_type": "code",
   "execution_count": 6,
   "id": "49b9bc86",
   "metadata": {},
   "outputs": [
    {
     "data": {
      "text/html": [
       "<div>\n",
       "<style scoped>\n",
       "    .dataframe tbody tr th:only-of-type {\n",
       "        vertical-align: middle;\n",
       "    }\n",
       "\n",
       "    .dataframe tbody tr th {\n",
       "        vertical-align: top;\n",
       "    }\n",
       "\n",
       "    .dataframe thead th {\n",
       "        text-align: right;\n",
       "    }\n",
       "</style>\n",
       "<table border=\"1\" class=\"dataframe\">\n",
       "  <thead>\n",
       "    <tr style=\"text-align: right;\">\n",
       "      <th></th>\n",
       "      <th>StockID</th>\n",
       "      <th>StockDate</th>\n",
       "      <th>StockOpen</th>\n",
       "      <th>StockHigh</th>\n",
       "      <th>StockLow</th>\n",
       "      <th>StockClose</th>\n",
       "      <th>StockAdjClose</th>\n",
       "      <th>StockVol</th>\n",
       "    </tr>\n",
       "  </thead>\n",
       "  <tbody>\n",
       "    <tr>\n",
       "      <th>246</th>\n",
       "      <td>NQF</td>\n",
       "      <td>2017-12-22</td>\n",
       "      <td>6489.75</td>\n",
       "      <td>6501.75</td>\n",
       "      <td>6467.50</td>\n",
       "      <td>6483.75</td>\n",
       "      <td>6483.75</td>\n",
       "      <td>130.810</td>\n",
       "    </tr>\n",
       "    <tr>\n",
       "      <th>247</th>\n",
       "      <td>NQF</td>\n",
       "      <td>2017-12-26</td>\n",
       "      <td>6482.50</td>\n",
       "      <td>6492.00</td>\n",
       "      <td>6432.25</td>\n",
       "      <td>6460.00</td>\n",
       "      <td>6460.00</td>\n",
       "      <td>135.130</td>\n",
       "    </tr>\n",
       "    <tr>\n",
       "      <th>248</th>\n",
       "      <td>NQF</td>\n",
       "      <td>2017-12-27</td>\n",
       "      <td>6461.25</td>\n",
       "      <td>6475.50</td>\n",
       "      <td>6442.00</td>\n",
       "      <td>6454.00</td>\n",
       "      <td>6454.00</td>\n",
       "      <td>158.481</td>\n",
       "    </tr>\n",
       "    <tr>\n",
       "      <th>249</th>\n",
       "      <td>NQF</td>\n",
       "      <td>2017-12-28</td>\n",
       "      <td>6452.25</td>\n",
       "      <td>6477.50</td>\n",
       "      <td>6442.25</td>\n",
       "      <td>6446.25</td>\n",
       "      <td>6446.25</td>\n",
       "      <td>138.254</td>\n",
       "    </tr>\n",
       "    <tr>\n",
       "      <th>250</th>\n",
       "      <td>NQF</td>\n",
       "      <td>2017-12-29</td>\n",
       "      <td>6444.50</td>\n",
       "      <td>6467.75</td>\n",
       "      <td>6383.25</td>\n",
       "      <td>6408.75</td>\n",
       "      <td>6408.75</td>\n",
       "      <td>210.114</td>\n",
       "    </tr>\n",
       "  </tbody>\n",
       "</table>\n",
       "</div>"
      ],
      "text/plain": [
       "    StockID  StockDate  StockOpen  StockHigh  StockLow  StockClose  \\\n",
       "246     NQF 2017-12-22    6489.75    6501.75   6467.50     6483.75   \n",
       "247     NQF 2017-12-26    6482.50    6492.00   6432.25     6460.00   \n",
       "248     NQF 2017-12-27    6461.25    6475.50   6442.00     6454.00   \n",
       "249     NQF 2017-12-28    6452.25    6477.50   6442.25     6446.25   \n",
       "250     NQF 2017-12-29    6444.50    6467.75   6383.25     6408.75   \n",
       "\n",
       "     StockAdjClose  StockVol  \n",
       "246        6483.75   130.810  \n",
       "247        6460.00   135.130  \n",
       "248        6454.00   158.481  \n",
       "249        6446.25   138.254  \n",
       "250        6408.75   210.114  "
      ]
     },
     "execution_count": 6,
     "metadata": {},
     "output_type": "execute_result"
    }
   ],
   "source": [
    "_dataset.tail()"
   ]
  },
  {
   "cell_type": "markdown",
   "id": "9a334a60",
   "metadata": {},
   "source": [
    "<h3>建立表格SQL命令搞(樣板)</h3>\n",
    "用pandas函數將datasets傳入,並給一個table,用換行鍵(\\n)拆分,以向量形式輸出"
   ]
  },
  {
   "cell_type": "code",
   "execution_count": 7,
   "id": "891b619a",
   "metadata": {},
   "outputs": [
    {
     "data": {
      "text/plain": [
       "['CREATE TABLE \"StockInfo\" (',\n",
       " '\"StockID\" TEXT,',\n",
       " '  \"StockDate\" TIMESTAMP,',\n",
       " '  \"StockOpen\" REAL,',\n",
       " '  \"StockHigh\" REAL,',\n",
       " '  \"StockLow\" REAL,',\n",
       " '  \"StockClose\" REAL,',\n",
       " '  \"StockAdjClose\" REAL,',\n",
       " '  \"StockVol\" REAL',\n",
       " ')']"
      ]
     },
     "execution_count": 7,
     "metadata": {},
     "output_type": "execute_result"
    }
   ],
   "source": [
    "_create_table_sql=pandas.io.sql.get_schema(_dataset,datatable).split('\\n')\n",
    "_create_table_sql"
   ]
  },
  {
   "cell_type": "markdown",
   "id": "a7894158",
   "metadata": {},
   "source": [
    "<h3>新增筆錄至表格內SQL命令搞</h3>"
   ]
  },
  {
   "cell_type": "code",
   "execution_count": 8,
   "id": "f4b15512",
   "metadata": {},
   "outputs": [
    {
     "data": {
      "text/plain": [
       "\"INSERT INTO StockInfo (StockID, StockDate, StockOpen, StockHigh, StockLow, StockClose, StockAdjClose, StockVol) VALUES('NQF','2017-01-03',4876.75,4927.5,4876.75,4906.25,4906.25,215.983)\""
      ]
     },
     "execution_count": 8,
     "metadata": {},
     "output_type": "execute_result"
    }
   ],
   "source": [
    "_sql = 'INSERT INTO %s ' % datatable\n",
    "_sql = _sql + '(%s, %s, %s, %s, %s, %s, %s, %s) ' % tuple(_dataset.columns)\n",
    "#tuple格式化分配\n",
    "\n",
    "_insert_table_sql_list = []\n",
    "\n",
    "#用迴圈將每筆資料放入陣列,存入DB\n",
    "for i in range(_dataset.shape[0]):\n",
    "    #shape0是維度,表示資料有幾筆\n",
    "    #shape1表示欄位\n",
    "    _row = _dataset.iloc[i]\n",
    "    #第幾筆資料\n",
    "    _insert_table_sql = _sql + \"VALUES('%s','%s',%s,%s,%s,%s,%s,%s)\" % (\n",
    "        _row['StockID'], _row['StockDate'].strftime('%Y-%m-%d'), #字串轉日期 \n",
    "        _row['StockOpen'], _row['StockHigh'], _row['StockLow'], _row['StockClose'],\n",
    "        _row['StockAdjClose'], _row['StockVol']\n",
    "    )    \n",
    "    \n",
    "    _insert_table_sql_list.append(_insert_table_sql)\n",
    "\n",
    "_insert_table_sql_list[0]"
   ]
  },
  {
   "cell_type": "code",
   "execution_count": 9,
   "id": "7be5d2f0",
   "metadata": {},
   "outputs": [
    {
     "data": {
      "text/plain": [
       "'INSERT INTO StockInfo (StockID, StockDate, StockOpen, StockHigh, StockLow, StockClose, StockAdjClose, StockVol) VALUES(NQF, 2020-12-24, -100.0, -100.0, -100.0, -100.0, -100.0, -100.0)'"
      ]
     },
     "execution_count": 9,
     "metadata": {},
     "output_type": "execute_result"
    }
   ],
   "source": [
    "#單筆資料寫法\n",
    "_insert_table_sql= _sql+\"VALUES(%s, %s, %s, %s, %s, %s, %s, %s)\"%(\n",
    "    'NQF','2020-12-24',-100.0,-100.0,-100.0,-100.0,-100.0,-100.0\n",
    "    )\n",
    "_insert_table_sql"
   ]
  },
  {
   "cell_type": "markdown",
   "id": "3dee6c70",
   "metadata": {},
   "source": [
    "<h3>異動筆錄至表格內SQL命令稿</h3>"
   ]
  },
  {
   "cell_type": "code",
   "execution_count": 10,
   "id": "f16f520e",
   "metadata": {},
   "outputs": [
    {
     "data": {
      "text/plain": [
       "\"UPDATE StockInfo SET StockVol=0.0 WHERE StockID='NQF' AND StockDate ='2020-12-24'\""
      ]
     },
     "execution_count": 10,
     "metadata": {},
     "output_type": "execute_result"
    }
   ],
   "source": [
    "_update_table_sql=\"UPDATE %s SET %s=%s WHERE StockID='%s' AND StockDate ='%s'\" %(\n",
    "    datatable,'StockVol',0.0,'NQF','2020-12-24')\n",
    "_update_table_sql"
   ]
  },
  {
   "cell_type": "markdown",
   "id": "40635b2b",
   "metadata": {},
   "source": [
    "<h3>刪除筆錄至表格內SQL命令稿</h3>"
   ]
  },
  {
   "cell_type": "code",
   "execution_count": 13,
   "id": "f7428451",
   "metadata": {},
   "outputs": [
    {
     "data": {
      "text/plain": [
       "\"DELETE FROM StockInfo WHERE StockID='NQF'AND StockDate='2020-12-24'\""
      ]
     },
     "execution_count": 13,
     "metadata": {},
     "output_type": "execute_result"
    }
   ],
   "source": [
    "_delete_table_sql=\"DELETE FROM %s WHERE StockID='%s'AND StockDate='%s'\"%(\n",
    "    datatable, 'NQF', '2020-12-24')\n",
    "_delete_table_sql"
   ]
  },
  {
   "cell_type": "code",
   "execution_count": null,
   "id": "e43cea12",
   "metadata": {},
   "outputs": [],
   "source": []
  }
 ],
 "metadata": {
  "kernelspec": {
   "display_name": "Python 3 (ipykernel)",
   "language": "python",
   "name": "python3"
  },
  "language_info": {
   "codemirror_mode": {
    "name": "ipython",
    "version": 3
   },
   "file_extension": ".py",
   "mimetype": "text/x-python",
   "name": "python",
   "nbconvert_exporter": "python",
   "pygments_lexer": "ipython3",
   "version": "3.8.11"
  }
 },
 "nbformat": 4,
 "nbformat_minor": 5
}
