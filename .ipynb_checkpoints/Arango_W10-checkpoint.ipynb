{
 "cells": [
  {
   "cell_type": "code",
   "execution_count": 1,
   "id": "aa6aba3c",
   "metadata": {},
   "outputs": [],
   "source": [
    "import sqlite3\n",
    "import pandas"
   ]
  },
  {
   "cell_type": "markdown",
   "id": "741f5ea7",
   "metadata": {},
   "source": [
    "<h3>pip install pyArango</h3>"
   ]
  },
  {
   "cell_type": "code",
   "execution_count": 2,
   "id": "d5f6e911",
   "metadata": {},
   "outputs": [],
   "source": [
    "from pyArango.connection import*\n",
    "from pyArango.query import*"
   ]
  },
  {
   "cell_type": "markdown",
   "id": "6135f351",
   "metadata": {},
   "source": [
    "<h3>讀取sqlite3資料庫</h3>"
   ]
  },
  {
   "cell_type": "code",
   "execution_count": 4,
   "id": "cc0346ad",
   "metadata": {},
   "outputs": [],
   "source": [
    "data_path='C:\\\\Users\\\\user\\\\anaconda3\\\\Projects\\\\data'\n",
    "db_file='%s/StockInfo.sqlite3' % data_path"
   ]
  },
  {
   "cell_type": "code",
   "execution_count": 5,
   "id": "230a1c17",
   "metadata": {},
   "outputs": [],
   "source": [
    "file_names=[\n",
    "    'StockID','StockDate','StockOpen',\n",
    "    'StockHigh','StockLow','StockClose',\n",
    "    'StockAdjClose','Stockvol'\n",
    "]"
   ]
  },
  {
   "cell_type": "code",
   "execution_count": 13,
   "id": "9f3ccb89",
   "metadata": {},
   "outputs": [],
   "source": [
    "sql=\"SELECT %s FROM StockInfo ORDER BY StockID,StockDate \"%','.join(file_names)"
   ]
  },
  {
   "cell_type": "markdown",
   "id": "80904213",
   "metadata": {},
   "source": [
    "db_conn_source=sqlite3.connect(db_file)\n",
    "data=pandas.read_sql_query(\"SELECT %s FROM StockInfo ORDER BY StockID,StockDate \"%','.join(file_names),db_conn_source)\n",
    "db_conn_source.close()"
   ]
  },
  {
   "cell_type": "code",
   "execution_count": 16,
   "id": "87bd4008",
   "metadata": {},
   "outputs": [],
   "source": [
    "def LoadDate(sql):\n",
    "    global db_file\n",
    "    _db_conn_source=sqlite3.connect(db_file)\n",
    "    _data=pandas.read_sql_query(sql,_db_conn_source)\n",
    "    _db_conn_source.close\n",
    "    return _data"
   ]
  },
  {
   "cell_type": "code",
   "execution_count": 17,
   "id": "9ee2c505",
   "metadata": {},
   "outputs": [],
   "source": [
    "data=LoadDate(sql)"
   ]
  },
  {
   "cell_type": "code",
   "execution_count": 18,
   "id": "d1893c2d",
   "metadata": {},
   "outputs": [],
   "source": [
    "df_index=[]\n",
    "for i in range(data.shape[0]):\n",
    "    row=data.iloc[i]\n",
    "    idx='%s-%s'%(row['StockDate'],row['StockID'])\n",
    "    df_index.append(idx)\n",
    "data.index=df_index"
   ]
  },
  {
   "cell_type": "code",
   "execution_count": 19,
   "id": "b7179962",
   "metadata": {},
   "outputs": [
    {
     "data": {
      "text/html": [
       "<div>\n",
       "<style scoped>\n",
       "    .dataframe tbody tr th:only-of-type {\n",
       "        vertical-align: middle;\n",
       "    }\n",
       "\n",
       "    .dataframe tbody tr th {\n",
       "        vertical-align: top;\n",
       "    }\n",
       "\n",
       "    .dataframe thead th {\n",
       "        text-align: right;\n",
       "    }\n",
       "</style>\n",
       "<table border=\"1\" class=\"dataframe\">\n",
       "  <thead>\n",
       "    <tr style=\"text-align: right;\">\n",
       "      <th></th>\n",
       "      <th>StockID</th>\n",
       "      <th>StockDate</th>\n",
       "      <th>StockOpen</th>\n",
       "      <th>StockHigh</th>\n",
       "      <th>StockLow</th>\n",
       "      <th>StockClose</th>\n",
       "      <th>StockAdjClose</th>\n",
       "      <th>StockVol</th>\n",
       "    </tr>\n",
       "  </thead>\n",
       "  <tbody>\n",
       "    <tr>\n",
       "      <th>2018-01-02-IBM</th>\n",
       "      <td>IBM</td>\n",
       "      <td>2018-01-02</td>\n",
       "      <td>154.500000</td>\n",
       "      <td>154.809998</td>\n",
       "      <td>153.539993</td>\n",
       "      <td>154.250000</td>\n",
       "      <td>149.454422</td>\n",
       "      <td>4202500</td>\n",
       "    </tr>\n",
       "    <tr>\n",
       "      <th>2018-01-03-IBM</th>\n",
       "      <td>IBM</td>\n",
       "      <td>2018-01-03</td>\n",
       "      <td>157.339996</td>\n",
       "      <td>159.809998</td>\n",
       "      <td>156.330002</td>\n",
       "      <td>158.490005</td>\n",
       "      <td>153.562622</td>\n",
       "      <td>9441600</td>\n",
       "    </tr>\n",
       "    <tr>\n",
       "      <th>2018-01-04-IBM</th>\n",
       "      <td>IBM</td>\n",
       "      <td>2018-01-04</td>\n",
       "      <td>159.649994</td>\n",
       "      <td>162.320007</td>\n",
       "      <td>159.369995</td>\n",
       "      <td>161.699997</td>\n",
       "      <td>156.672821</td>\n",
       "      <td>7556200</td>\n",
       "    </tr>\n",
       "    <tr>\n",
       "      <th>2018-01-05-IBM</th>\n",
       "      <td>IBM</td>\n",
       "      <td>2018-01-05</td>\n",
       "      <td>162.440002</td>\n",
       "      <td>162.899994</td>\n",
       "      <td>161.100006</td>\n",
       "      <td>162.490005</td>\n",
       "      <td>157.438263</td>\n",
       "      <td>5195800</td>\n",
       "    </tr>\n",
       "    <tr>\n",
       "      <th>2018-01-08-IBM</th>\n",
       "      <td>IBM</td>\n",
       "      <td>2018-01-08</td>\n",
       "      <td>162.660004</td>\n",
       "      <td>163.910004</td>\n",
       "      <td>161.699997</td>\n",
       "      <td>163.470001</td>\n",
       "      <td>158.387787</td>\n",
       "      <td>5237500</td>\n",
       "    </tr>\n",
       "  </tbody>\n",
       "</table>\n",
       "</div>"
      ],
      "text/plain": [
       "               StockID   StockDate   StockOpen   StockHigh    StockLow  \\\n",
       "2018-01-02-IBM     IBM  2018-01-02  154.500000  154.809998  153.539993   \n",
       "2018-01-03-IBM     IBM  2018-01-03  157.339996  159.809998  156.330002   \n",
       "2018-01-04-IBM     IBM  2018-01-04  159.649994  162.320007  159.369995   \n",
       "2018-01-05-IBM     IBM  2018-01-05  162.440002  162.899994  161.100006   \n",
       "2018-01-08-IBM     IBM  2018-01-08  162.660004  163.910004  161.699997   \n",
       "\n",
       "                StockClose  StockAdjClose  StockVol  \n",
       "2018-01-02-IBM  154.250000     149.454422   4202500  \n",
       "2018-01-03-IBM  158.490005     153.562622   9441600  \n",
       "2018-01-04-IBM  161.699997     156.672821   7556200  \n",
       "2018-01-05-IBM  162.490005     157.438263   5195800  \n",
       "2018-01-08-IBM  163.470001     158.387787   5237500  "
      ]
     },
     "execution_count": 19,
     "metadata": {},
     "output_type": "execute_result"
    }
   ],
   "source": [
    "data.head()"
   ]
  },
  {
   "cell_type": "markdown",
   "id": "acceaf76",
   "metadata": {},
   "source": [
    "<h3>ArangoDB 資料庫</h3>"
   ]
  },
  {
   "cell_type": "code",
   "execution_count": 24,
   "id": "d41d0c8d",
   "metadata": {},
   "outputs": [],
   "source": [
    "db_ip='localhost'\n",
    "\n",
    "db_conn_target=Connection(\n",
    "    arangoURL='http://%s:8529'%db_ip,\n",
    "    username='emprogria',\n",
    "    password='emprogria'\n",
    ")"
   ]
  },
  {
   "cell_type": "code",
   "execution_count": 25,
   "id": "71193d52",
   "metadata": {},
   "outputs": [],
   "source": [
    "db=db_conn['Emprogria']\n",
    "db_collection=db.collections['StockInfo2']"
   ]
  },
  {
   "cell_type": "markdown",
   "id": "29f6ae3b",
   "metadata": {},
   "source": [
    "<h3>儲存ArangoDB資料庫</h3>"
   ]
  },
  {
   "cell_type": "code",
   "execution_count": 28,
   "id": "c50ed603",
   "metadata": {},
   "outputs": [],
   "source": [
    "db_result=db_collection.empty()"
   ]
  },
  {
   "cell_type": "code",
   "execution_count": 30,
   "id": "84b5f535",
   "metadata": {},
   "outputs": [],
   "source": [
    "for i in range(data.shape[0]):\n",
    "    row=data.iloc[i]\n",
    "    \n",
    "    _doc=db_collection.createDocument()\n",
    "    _doc['_key']=data.index[i]\n",
    "    \n",
    "    for col_name in data.columns:\n",
    "        _doc[col_name]=row[col_name]\n",
    "    _doc.save()"
   ]
  },
  {
   "cell_type": "code",
   "execution_count": null,
   "id": "a09ef287",
   "metadata": {},
   "outputs": [],
   "source": [
    "db_conn_rarget.close()"
   ]
  },
  {
   "cell_type": "code",
   "execution_count": null,
   "id": "52c3f1c2",
   "metadata": {},
   "outputs": [],
   "source": []
  },
  {
   "cell_type": "code",
   "execution_count": null,
   "id": "545cdda0",
   "metadata": {},
   "outputs": [],
   "source": []
  }
 ],
 "metadata": {
  "kernelspec": {
   "display_name": "Python 3 (ipykernel)",
   "language": "python",
   "name": "python3"
  },
  "language_info": {
   "codemirror_mode": {
    "name": "ipython",
    "version": 3
   },
   "file_extension": ".py",
   "mimetype": "text/x-python",
   "name": "python",
   "nbconvert_exporter": "python",
   "pygments_lexer": "ipython3",
   "version": "3.8.12"
  }
 },
 "nbformat": 4,
 "nbformat_minor": 5
}
