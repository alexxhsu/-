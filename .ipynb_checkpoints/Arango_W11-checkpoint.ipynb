{
 "cells": [
  {
   "cell_type": "code",
   "execution_count": 1,
   "id": "cd218cba",
   "metadata": {},
   "outputs": [],
   "source": [
    "import pandas\n",
    "from pandas import DataFrame\n",
    "import sqlite3"
   ]
  },
  {
   "cell_type": "markdown",
   "id": "c3e9f47a",
   "metadata": {},
   "source": [
    "<h5>pip install pyArango</h5>"
   ]
  },
  {
   "cell_type": "code",
   "execution_count": 2,
   "id": "80ab433e",
   "metadata": {},
   "outputs": [],
   "source": [
    "from pyArango.connection import*\n",
    "from pyArango.query import*\n",
    "import pyArango.validation as VAL"
   ]
  },
  {
   "cell_type": "code",
   "execution_count": 3,
   "id": "5f13dbde",
   "metadata": {},
   "outputs": [],
   "source": [
    "def show_document(doc):\n",
    "    print(doc['StockID'])\n",
    "    print('\\tDate=%s\\tVolume=%12.2f'%(doc['Date'],doc['Volume']))\n",
    "    print('\\tOpen=%12.2f\\tClose=%12.2f\\tAdj. Close=%12.2f'%(doc['Open'],doc['Close'],doc['Adj Close']))\n",
    "    print('\\tHigh=%12.2f\\tLow=%12.2f'%(doc['High'],doc['Low']))"
   ]
  },
  {
   "cell_type": "markdown",
   "id": "98e9c4df",
   "metadata": {},
   "source": [
    "<h5>ArangoDB 資料庫</h5>"
   ]
  },
  {
   "cell_type": "code",
   "execution_count": 4,
   "id": "e7631fea",
   "metadata": {},
   "outputs": [],
   "source": [
    "db_conn=Connection(\n",
    "    arangoURL='http://localhost:8529',\n",
    "    username='emprogria',\n",
    "    password='emprogria'\n",
    ")"
   ]
  },
  {
   "cell_type": "code",
   "execution_count": 5,
   "id": "7e7af9b0",
   "metadata": {},
   "outputs": [],
   "source": [
    "db=db_conn['Emprogria'] #轉換名稱\n",
    "db_collection=db.collections['StockInfo']"
   ]
  },
  {
   "cell_type": "markdown",
   "id": "440cf2ad",
   "metadata": {},
   "source": [
    "<h5>讀取 ArangoDB 資料</h5>"
   ]
  },
  {
   "cell_type": "code",
   "execution_count": 8,
   "id": "0d00710e",
   "metadata": {},
   "outputs": [],
   "source": [
    "aql='FOR doc IN StockInfo FILTER doc.`Open`> @stockOpen RETURN doc' #@變數(在下方設定變數)"
   ]
  },
  {
   "cell_type": "code",
   "execution_count": 9,
   "id": "68b82b2a",
   "metadata": {},
   "outputs": [
    {
     "name": "stdout",
     "output_type": "stream",
     "text": [
      "筆數: 4\n"
     ]
    }
   ],
   "source": [
    "sub_collections=db.AQLQuery(aql, rawResults=False, batchSize=4, bindVars={'stockOpen': 130.9}) #false結構化,資料子集合\n",
    "print('筆數: %d' % len(sub_collections.response['result']))"
   ]
  },
  {
   "cell_type": "code",
   "execution_count": 10,
   "id": "799c8ebf",
   "metadata": {},
   "outputs": [],
   "source": [
    "queryResult= sub_collections.response['result']"
   ]
  },
  {
   "cell_type": "code",
   "execution_count": 11,
   "id": "ea0a4372",
   "metadata": {},
   "outputs": [
    {
     "name": "stdout",
     "output_type": "stream",
     "text": [
      "IBM\n",
      "\tDate=2017-01-03\tVolume=        2.93\n",
      "\tOpen=      167.00\tClose=      167.19\tAdj. Close=      134.70\n",
      "\tHigh=      167.87\tLow=      166.01\n",
      "IBM\n",
      "\tDate=2017-01-04\tVolume=        3.38\n",
      "\tOpen=      167.77\tClose=      169.26\tAdj. Close=      136.37\n",
      "\tHigh=      169.87\tLow=      167.36\n",
      "IBM\n",
      "\tDate=2017-01-05\tVolume=        2.68\n",
      "\tOpen=      169.25\tClose=      168.70\tAdj. Close=      135.92\n",
      "\tHigh=      169.39\tLow=      167.26\n",
      "IBM\n",
      "\tDate=2017-01-06\tVolume=        2.95\n",
      "\tOpen=      168.69\tClose=      169.53\tAdj. Close=      136.58\n",
      "\tHigh=      169.92\tLow=      167.52\n"
     ]
    }
   ],
   "source": [
    "for doc in queryResult:\n",
    "    show_document(doc)"
   ]
  },
  {
   "cell_type": "code",
   "execution_count": 6,
   "id": "c32d567e",
   "metadata": {},
   "outputs": [],
   "source": [
    "aql='FOR doc IN StockInfo FILTER doc.`Open`> @stockOpen AND LEFT(doc.Date,7)==@YM RETURN doc'\n",
    "sub_collections=db.AQLQuery(aql, rawResults=False, batchSize=4, bindVars={'stockOpen': 130.9, 'YM':'2020-01'})\n",
    "queryResult= sub_collections.response['result']"
   ]
  },
  {
   "cell_type": "code",
   "execution_count": 7,
   "id": "5ad4ff11",
   "metadata": {},
   "outputs": [],
   "source": [
    "for doc in queryResult:\n",
    "    show_document(doc)"
   ]
  },
  {
   "cell_type": "code",
   "execution_count": 12,
   "id": "7b896530",
   "metadata": {},
   "outputs": [],
   "source": [
    "def queryStock(conditions={'stockOpen':130.9,'YM':'2020-01'},numOfRows=4):\n",
    "    global db\n",
    "    aql='FOR doc IN StockInfo FILTER doc.`Open`> @stockOpen AND LEFT(doc.Date,7)==@YM RETURN doc'\n",
    "    sub_collections=db.AQLQuery(aql, rawResults=False, batchSize=numOfRows, bindVars=conditions)\n",
    "    queryResult= sub_collections.response['result']\n",
    "    for doc in queryResult:\n",
    "        show_document(doc)"
   ]
  },
  {
   "cell_type": "code",
   "execution_count": 13,
   "id": "16aeb000",
   "metadata": {},
   "outputs": [],
   "source": [
    "queryStock(conditions={'stockOpen':135.6,'YM':'2020-02'},numOfRows=8)"
   ]
  },
  {
   "cell_type": "code",
   "execution_count": 14,
   "id": "5a333a9a",
   "metadata": {},
   "outputs": [],
   "source": [
    "def queryStock(conditions={'YM':'2020-01'},numOfRows=31):\n",
    "    global db\n",
    "    aql='FOR doc IN StockInfo FILTER LEFT(doc.Date,7)==@YM RETURN doc'\n",
    "    sub_collections=db.AQLQuery(aql, rawResults=False, batchSize=numOfRows, bindVars=conditions)\n",
    "    queryResult= sub_collections.response['result']\n",
    "    \n",
    "    _resultSet=[]\n",
    "    \n",
    "    for doc in queryResult:\n",
    "        doc['Scale']=doc['High']-doc['Low']\n",
    "        doc['Net']=doc['Adj Close']-doc['Open']\n",
    "        _resultSet.append(doc)\n",
    "    return _resultSet"
   ]
  },
  {
   "cell_type": "code",
   "execution_count": 15,
   "id": "047e2c0d",
   "metadata": {},
   "outputs": [],
   "source": [
    "my_results=DataFrame(data=queryStock(conditions={'YM':'2020-04'},numOfRows=31)) #最多31筆\n",
    "my_columns=my_results.columns.tolist()"
   ]
  },
  {
   "cell_type": "code",
   "execution_count": 16,
   "id": "a02d56ae",
   "metadata": {},
   "outputs": [
    {
     "name": "stdout",
     "output_type": "stream",
     "text": [
      "\n"
     ]
    }
   ],
   "source": [
    "print('\\t'.join(my_columns))"
   ]
  },
  {
   "cell_type": "code",
   "execution_count": 17,
   "id": "d2ec2964",
   "metadata": {},
   "outputs": [
    {
     "data": {
      "text/html": [
       "<div>\n",
       "<style scoped>\n",
       "    .dataframe tbody tr th:only-of-type {\n",
       "        vertical-align: middle;\n",
       "    }\n",
       "\n",
       "    .dataframe tbody tr th {\n",
       "        vertical-align: top;\n",
       "    }\n",
       "\n",
       "    .dataframe thead th {\n",
       "        text-align: right;\n",
       "    }\n",
       "</style>\n",
       "<table border=\"1\" class=\"dataframe\">\n",
       "  <thead>\n",
       "    <tr style=\"text-align: right;\">\n",
       "      <th></th>\n",
       "    </tr>\n",
       "  </thead>\n",
       "  <tbody>\n",
       "  </tbody>\n",
       "</table>\n",
       "</div>"
      ],
      "text/plain": [
       "Empty DataFrame\n",
       "Columns: []\n",
       "Index: []"
      ]
     },
     "execution_count": 17,
     "metadata": {},
     "output_type": "execute_result"
    }
   ],
   "source": [
    "my_results[my_columns[3:]].head() #從第三行開始出現"
   ]
  },
  {
   "cell_type": "code",
   "execution_count": 18,
   "id": "55a9b201",
   "metadata": {},
   "outputs": [
    {
     "ename": "KeyError",
     "evalue": "'Scale'",
     "output_type": "error",
     "traceback": [
      "\u001b[1;31m---------------------------------------------------------------------------\u001b[0m",
      "\u001b[1;31mKeyError\u001b[0m                                  Traceback (most recent call last)",
      "\u001b[1;32m~\\anaconda3\\envs\\DB\\lib\\site-packages\\pandas\\core\\indexes\\base.py\u001b[0m in \u001b[0;36mget_loc\u001b[1;34m(self, key, method, tolerance)\u001b[0m\n\u001b[0;32m   3360\u001b[0m             \u001b[1;32mtry\u001b[0m\u001b[1;33m:\u001b[0m\u001b[1;33m\u001b[0m\u001b[1;33m\u001b[0m\u001b[0m\n\u001b[1;32m-> 3361\u001b[1;33m                 \u001b[1;32mreturn\u001b[0m \u001b[0mself\u001b[0m\u001b[1;33m.\u001b[0m\u001b[0m_engine\u001b[0m\u001b[1;33m.\u001b[0m\u001b[0mget_loc\u001b[0m\u001b[1;33m(\u001b[0m\u001b[0mcasted_key\u001b[0m\u001b[1;33m)\u001b[0m\u001b[1;33m\u001b[0m\u001b[1;33m\u001b[0m\u001b[0m\n\u001b[0m\u001b[0;32m   3362\u001b[0m             \u001b[1;32mexcept\u001b[0m \u001b[0mKeyError\u001b[0m \u001b[1;32mas\u001b[0m \u001b[0merr\u001b[0m\u001b[1;33m:\u001b[0m\u001b[1;33m\u001b[0m\u001b[1;33m\u001b[0m\u001b[0m\n",
      "\u001b[1;32m~\\anaconda3\\envs\\DB\\lib\\site-packages\\pandas\\_libs\\index.pyx\u001b[0m in \u001b[0;36mpandas._libs.index.IndexEngine.get_loc\u001b[1;34m()\u001b[0m\n",
      "\u001b[1;32m~\\anaconda3\\envs\\DB\\lib\\site-packages\\pandas\\_libs\\index.pyx\u001b[0m in \u001b[0;36mpandas._libs.index.IndexEngine.get_loc\u001b[1;34m()\u001b[0m\n",
      "\u001b[1;32mpandas\\_libs\\hashtable_class_helper.pxi\u001b[0m in \u001b[0;36mpandas._libs.hashtable.PyObjectHashTable.get_item\u001b[1;34m()\u001b[0m\n",
      "\u001b[1;32mpandas\\_libs\\hashtable_class_helper.pxi\u001b[0m in \u001b[0;36mpandas._libs.hashtable.PyObjectHashTable.get_item\u001b[1;34m()\u001b[0m\n",
      "\u001b[1;31mKeyError\u001b[0m: 'Scale'",
      "\nThe above exception was the direct cause of the following exception:\n",
      "\u001b[1;31mKeyError\u001b[0m                                  Traceback (most recent call last)",
      "\u001b[1;32m~\\AppData\\Local\\Temp/ipykernel_18384/356085402.py\u001b[0m in \u001b[0;36m<module>\u001b[1;34m\u001b[0m\n\u001b[1;32m----> 1\u001b[1;33m \u001b[0mprint\u001b[0m\u001b[1;33m(\u001b[0m\u001b[1;34m'Scale 平均:%12.2f\\t標準差:%12.2f'\u001b[0m\u001b[1;33m%\u001b[0m\u001b[1;33m(\u001b[0m\u001b[0mmy_results\u001b[0m\u001b[1;33m[\u001b[0m\u001b[1;34m'Scale'\u001b[0m\u001b[1;33m]\u001b[0m\u001b[1;33m.\u001b[0m\u001b[0mmean\u001b[0m\u001b[1;33m(\u001b[0m\u001b[1;33m)\u001b[0m\u001b[1;33m,\u001b[0m\u001b[0mmy_results\u001b[0m\u001b[1;33m[\u001b[0m\u001b[1;34m'Scale'\u001b[0m\u001b[1;33m]\u001b[0m\u001b[1;33m.\u001b[0m\u001b[0mstd\u001b[0m\u001b[1;33m(\u001b[0m\u001b[1;33m)\u001b[0m\u001b[1;33m)\u001b[0m\u001b[1;33m)\u001b[0m\u001b[1;33m\u001b[0m\u001b[1;33m\u001b[0m\u001b[0m\n\u001b[0m",
      "\u001b[1;32m~\\anaconda3\\envs\\DB\\lib\\site-packages\\pandas\\core\\frame.py\u001b[0m in \u001b[0;36m__getitem__\u001b[1;34m(self, key)\u001b[0m\n\u001b[0;32m   3456\u001b[0m             \u001b[1;32mif\u001b[0m \u001b[0mself\u001b[0m\u001b[1;33m.\u001b[0m\u001b[0mcolumns\u001b[0m\u001b[1;33m.\u001b[0m\u001b[0mnlevels\u001b[0m \u001b[1;33m>\u001b[0m \u001b[1;36m1\u001b[0m\u001b[1;33m:\u001b[0m\u001b[1;33m\u001b[0m\u001b[1;33m\u001b[0m\u001b[0m\n\u001b[0;32m   3457\u001b[0m                 \u001b[1;32mreturn\u001b[0m \u001b[0mself\u001b[0m\u001b[1;33m.\u001b[0m\u001b[0m_getitem_multilevel\u001b[0m\u001b[1;33m(\u001b[0m\u001b[0mkey\u001b[0m\u001b[1;33m)\u001b[0m\u001b[1;33m\u001b[0m\u001b[1;33m\u001b[0m\u001b[0m\n\u001b[1;32m-> 3458\u001b[1;33m             \u001b[0mindexer\u001b[0m \u001b[1;33m=\u001b[0m \u001b[0mself\u001b[0m\u001b[1;33m.\u001b[0m\u001b[0mcolumns\u001b[0m\u001b[1;33m.\u001b[0m\u001b[0mget_loc\u001b[0m\u001b[1;33m(\u001b[0m\u001b[0mkey\u001b[0m\u001b[1;33m)\u001b[0m\u001b[1;33m\u001b[0m\u001b[1;33m\u001b[0m\u001b[0m\n\u001b[0m\u001b[0;32m   3459\u001b[0m             \u001b[1;32mif\u001b[0m \u001b[0mis_integer\u001b[0m\u001b[1;33m(\u001b[0m\u001b[0mindexer\u001b[0m\u001b[1;33m)\u001b[0m\u001b[1;33m:\u001b[0m\u001b[1;33m\u001b[0m\u001b[1;33m\u001b[0m\u001b[0m\n\u001b[0;32m   3460\u001b[0m                 \u001b[0mindexer\u001b[0m \u001b[1;33m=\u001b[0m \u001b[1;33m[\u001b[0m\u001b[0mindexer\u001b[0m\u001b[1;33m]\u001b[0m\u001b[1;33m\u001b[0m\u001b[1;33m\u001b[0m\u001b[0m\n",
      "\u001b[1;32m~\\anaconda3\\envs\\DB\\lib\\site-packages\\pandas\\core\\indexes\\base.py\u001b[0m in \u001b[0;36mget_loc\u001b[1;34m(self, key, method, tolerance)\u001b[0m\n\u001b[0;32m   3361\u001b[0m                 \u001b[1;32mreturn\u001b[0m \u001b[0mself\u001b[0m\u001b[1;33m.\u001b[0m\u001b[0m_engine\u001b[0m\u001b[1;33m.\u001b[0m\u001b[0mget_loc\u001b[0m\u001b[1;33m(\u001b[0m\u001b[0mcasted_key\u001b[0m\u001b[1;33m)\u001b[0m\u001b[1;33m\u001b[0m\u001b[1;33m\u001b[0m\u001b[0m\n\u001b[0;32m   3362\u001b[0m             \u001b[1;32mexcept\u001b[0m \u001b[0mKeyError\u001b[0m \u001b[1;32mas\u001b[0m \u001b[0merr\u001b[0m\u001b[1;33m:\u001b[0m\u001b[1;33m\u001b[0m\u001b[1;33m\u001b[0m\u001b[0m\n\u001b[1;32m-> 3363\u001b[1;33m                 \u001b[1;32mraise\u001b[0m \u001b[0mKeyError\u001b[0m\u001b[1;33m(\u001b[0m\u001b[0mkey\u001b[0m\u001b[1;33m)\u001b[0m \u001b[1;32mfrom\u001b[0m \u001b[0merr\u001b[0m\u001b[1;33m\u001b[0m\u001b[1;33m\u001b[0m\u001b[0m\n\u001b[0m\u001b[0;32m   3364\u001b[0m \u001b[1;33m\u001b[0m\u001b[0m\n\u001b[0;32m   3365\u001b[0m         \u001b[1;32mif\u001b[0m \u001b[0mis_scalar\u001b[0m\u001b[1;33m(\u001b[0m\u001b[0mkey\u001b[0m\u001b[1;33m)\u001b[0m \u001b[1;32mand\u001b[0m \u001b[0misna\u001b[0m\u001b[1;33m(\u001b[0m\u001b[0mkey\u001b[0m\u001b[1;33m)\u001b[0m \u001b[1;32mand\u001b[0m \u001b[1;32mnot\u001b[0m \u001b[0mself\u001b[0m\u001b[1;33m.\u001b[0m\u001b[0mhasnans\u001b[0m\u001b[1;33m:\u001b[0m\u001b[1;33m\u001b[0m\u001b[1;33m\u001b[0m\u001b[0m\n",
      "\u001b[1;31mKeyError\u001b[0m: 'Scale'"
     ]
    }
   ],
   "source": [
    "print('Scale 平均:%12.2f\\t標準差:%12.2f'%(my_results['Scale'].mean(),my_results['Scale'].std()))"
   ]
  },
  {
   "cell_type": "code",
   "execution_count": null,
   "id": "f11f5e00",
   "metadata": {},
   "outputs": [],
   "source": [
    "def queryStock(conditions={'YM':'2020-01'},numOfRows=31):\n",
    "    global db\n",
    "    aql='FOR doc IN StockInfo FILTER LEFT(doc.Date,7)==@YM RETURN doc'\n",
    "    sub_collections=db.AQLQuery(aql, rawResults=False, batchSize=numOfRows, bindVars=conditions)\n",
    "    queryResult= sub_collections.response['result']\n",
    "    \n",
    "    _resultSet=[]\n",
    "    \n",
    "    for doc in queryResult:\n",
    "        doc['Scale']=doc['High']-doc['Low']\n",
    "        doc['Net']=doc['Adj Close']-doc['Open']\n",
    "        _resultSet.append(doc)\n",
    "    return DataFrame(data=_resultSet)"
   ]
  }
 ],
 "metadata": {
  "kernelspec": {
   "display_name": "Python 3 (ipykernel)",
   "language": "python",
   "name": "python3"
  },
  "language_info": {
   "codemirror_mode": {
    "name": "ipython",
    "version": 3
   },
   "file_extension": ".py",
   "mimetype": "text/x-python",
   "name": "python",
   "nbconvert_exporter": "python",
   "pygments_lexer": "ipython3",
   "version": "3.8.12"
  }
 },
 "nbformat": 4,
 "nbformat_minor": 5
}
