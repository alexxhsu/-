{
 "cells": [
  {
   "cell_type": "markdown",
   "id": "5ff018e9",
   "metadata": {},
   "source": [
    "<h3> StockInfo DDL</h3>"
   ]
  },
  {
   "cell_type": "code",
   "execution_count": 14,
   "id": "8a6c2005",
   "metadata": {},
   "outputs": [],
   "source": [
    "import pandas\n",
    "from glob import glob\n",
    "import numpy\n",
    "import jaydebeapi"
   ]
  },
  {
   "cell_type": "code",
   "execution_count": 15,
   "id": "23be1ba3",
   "metadata": {},
   "outputs": [],
   "source": [
    "from pandasql import sqldf\n",
    "pysqldf=lambda q: sqldf(q,globals()) #建立函式，對q做sqldf(q,globals())的意思"
   ]
  },
  {
   "cell_type": "code",
   "execution_count": 16,
   "id": "44879f4e",
   "metadata": {},
   "outputs": [
    {
     "data": {
      "text/html": [
       "<div>\n",
       "<style scoped>\n",
       "    .dataframe tbody tr th:only-of-type {\n",
       "        vertical-align: middle;\n",
       "    }\n",
       "\n",
       "    .dataframe tbody tr th {\n",
       "        vertical-align: top;\n",
       "    }\n",
       "\n",
       "    .dataframe thead th {\n",
       "        text-align: right;\n",
       "    }\n",
       "</style>\n",
       "<table border=\"1\" class=\"dataframe\">\n",
       "  <thead>\n",
       "    <tr style=\"text-align: right;\">\n",
       "      <th></th>\n",
       "      <th>Date</th>\n",
       "      <th>Open</th>\n",
       "      <th>High</th>\n",
       "      <th>Low</th>\n",
       "      <th>Close</th>\n",
       "      <th>Adj Close</th>\n",
       "      <th>Volume</th>\n",
       "    </tr>\n",
       "  </thead>\n",
       "  <tbody>\n",
       "    <tr>\n",
       "      <th>0</th>\n",
       "      <td>2017-01-03</td>\n",
       "      <td>167.000000</td>\n",
       "      <td>167.869995</td>\n",
       "      <td>166.009995</td>\n",
       "      <td>167.190002</td>\n",
       "      <td>134.699081</td>\n",
       "      <td>2934300</td>\n",
       "    </tr>\n",
       "    <tr>\n",
       "      <th>1</th>\n",
       "      <td>2017-01-04</td>\n",
       "      <td>167.770004</td>\n",
       "      <td>169.869995</td>\n",
       "      <td>167.360001</td>\n",
       "      <td>169.259995</td>\n",
       "      <td>136.366806</td>\n",
       "      <td>3381400</td>\n",
       "    </tr>\n",
       "    <tr>\n",
       "      <th>2</th>\n",
       "      <td>2017-01-05</td>\n",
       "      <td>169.250000</td>\n",
       "      <td>169.389999</td>\n",
       "      <td>167.259995</td>\n",
       "      <td>168.699997</td>\n",
       "      <td>135.915649</td>\n",
       "      <td>2682300</td>\n",
       "    </tr>\n",
       "    <tr>\n",
       "      <th>3</th>\n",
       "      <td>2017-01-06</td>\n",
       "      <td>168.690002</td>\n",
       "      <td>169.919998</td>\n",
       "      <td>167.520004</td>\n",
       "      <td>169.529999</td>\n",
       "      <td>136.584320</td>\n",
       "      <td>2945500</td>\n",
       "    </tr>\n",
       "    <tr>\n",
       "      <th>4</th>\n",
       "      <td>2017-01-09</td>\n",
       "      <td>169.470001</td>\n",
       "      <td>169.800003</td>\n",
       "      <td>167.619995</td>\n",
       "      <td>167.649994</td>\n",
       "      <td>135.069672</td>\n",
       "      <td>3189900</td>\n",
       "    </tr>\n",
       "    <tr>\n",
       "      <th>...</th>\n",
       "      <td>...</td>\n",
       "      <td>...</td>\n",
       "      <td>...</td>\n",
       "      <td>...</td>\n",
       "      <td>...</td>\n",
       "      <td>...</td>\n",
       "      <td>...</td>\n",
       "    </tr>\n",
       "    <tr>\n",
       "      <th>176</th>\n",
       "      <td>2021-09-15</td>\n",
       "      <td>136.220001</td>\n",
       "      <td>137.800003</td>\n",
       "      <td>135.669998</td>\n",
       "      <td>137.199997</td>\n",
       "      <td>137.199997</td>\n",
       "      <td>3253900</td>\n",
       "    </tr>\n",
       "    <tr>\n",
       "      <th>177</th>\n",
       "      <td>2021-09-16</td>\n",
       "      <td>137.279999</td>\n",
       "      <td>137.949997</td>\n",
       "      <td>135.710007</td>\n",
       "      <td>136.429993</td>\n",
       "      <td>136.429993</td>\n",
       "      <td>2644000</td>\n",
       "    </tr>\n",
       "    <tr>\n",
       "      <th>178</th>\n",
       "      <td>2021-09-17</td>\n",
       "      <td>135.750000</td>\n",
       "      <td>135.919998</td>\n",
       "      <td>135.050003</td>\n",
       "      <td>135.229996</td>\n",
       "      <td>135.229996</td>\n",
       "      <td>5631300</td>\n",
       "    </tr>\n",
       "    <tr>\n",
       "      <th>179</th>\n",
       "      <td>2021-09-20</td>\n",
       "      <td>133.899994</td>\n",
       "      <td>135.179993</td>\n",
       "      <td>132.779999</td>\n",
       "      <td>134.309998</td>\n",
       "      <td>134.309998</td>\n",
       "      <td>4770700</td>\n",
       "    </tr>\n",
       "    <tr>\n",
       "      <th>180</th>\n",
       "      <td>2021-09-21</td>\n",
       "      <td>135.110001</td>\n",
       "      <td>135.639999</td>\n",
       "      <td>132.869995</td>\n",
       "      <td>132.970001</td>\n",
       "      <td>132.970001</td>\n",
       "      <td>4042768</td>\n",
       "    </tr>\n",
       "  </tbody>\n",
       "</table>\n",
       "<p>1185 rows × 7 columns</p>\n",
       "</div>"
      ],
      "text/plain": [
       "           Date        Open        High         Low       Close   Adj Close  \\\n",
       "0    2017-01-03  167.000000  167.869995  166.009995  167.190002  134.699081   \n",
       "1    2017-01-04  167.770004  169.869995  167.360001  169.259995  136.366806   \n",
       "2    2017-01-05  169.250000  169.389999  167.259995  168.699997  135.915649   \n",
       "3    2017-01-06  168.690002  169.919998  167.520004  169.529999  136.584320   \n",
       "4    2017-01-09  169.470001  169.800003  167.619995  167.649994  135.069672   \n",
       "..          ...         ...         ...         ...         ...         ...   \n",
       "176  2021-09-15  136.220001  137.800003  135.669998  137.199997  137.199997   \n",
       "177  2021-09-16  137.279999  137.949997  135.710007  136.429993  136.429993   \n",
       "178  2021-09-17  135.750000  135.919998  135.050003  135.229996  135.229996   \n",
       "179  2021-09-20  133.899994  135.179993  132.779999  134.309998  134.309998   \n",
       "180  2021-09-21  135.110001  135.639999  132.869995  132.970001  132.970001   \n",
       "\n",
       "      Volume  \n",
       "0    2934300  \n",
       "1    3381400  \n",
       "2    2682300  \n",
       "3    2945500  \n",
       "4    3189900  \n",
       "..       ...  \n",
       "176  3253900  \n",
       "177  2644000  \n",
       "178  5631300  \n",
       "179  4770700  \n",
       "180  4042768  \n",
       "\n",
       "[1185 rows x 7 columns]"
      ]
     },
     "execution_count": 16,
     "metadata": {},
     "output_type": "execute_result"
    }
   ],
   "source": [
    "data_folder = 'C:/Users/user/anaconda3/Projects/data/IBM-Stocks'\n",
    "\n",
    "data_files = glob('%s/IBM-20??.csv' % data_folder) #用 % 指定位址\n",
    "\n",
    "dataframe2017=pandas.read_csv(data_files[0])\n",
    "dataframe2018=pandas.read_csv(data_files[1])\n",
    "dataframe2019=pandas.read_csv(data_files[2])\n",
    "dataframe2020=pandas.read_csv(data_files[3])\n",
    "dataframe2021=pandas.read_csv(data_files[4])\n",
    "df1=dataframe2017.append(dataframe2018)\n",
    "df1=df1.append(dataframe2019)\n",
    "df1=df1.append(dataframe2020)\n",
    "df1=df1.append(dataframe2021)\n",
    "df1"
   ]
  },
  {
   "cell_type": "code",
   "execution_count": 17,
   "id": "ff5d9f50",
   "metadata": {},
   "outputs": [],
   "source": [
    "\n",
    "dbConnection = jaydebeapi.connect(\n",
    "    \"org.h2.Driver\",\n",
    "    \"jdbc:h2:C:/Users/user/anaconda3/Projects/data/H2\",\n",
    "    [\"SA\", \"\"],\n",
    "    \"C:/Java/h2/bin/h2-1.4.200.jar\")\n",
    "dbCursor = dbConnection.cursor()\n"
   ]
  },
  {
   "cell_type": "code",
   "execution_count": 18,
   "id": "5520e984",
   "metadata": {},
   "outputs": [],
   "source": [
    "_sql = [\n",
    "    \"INSERT INTO\",\n",
    "    \"STOCKINFO(StockID, STOCKDATE,\",\n",
    "    \"STOCKOPEN, STOCKHIGH, STOCKLOW,\",\n",
    "    \"STOCKCLOSE, STOCKADJCLOSE, STOCKVOL, StockNet, StockScale)\",\n",
    "    \"VALUES('%s', '%s', %f, %f, %f, %f, %f, %f, %f, %f);\"\n",
    "]\n",
    "\n",
    "sql = ' '.join(_sql)\n",
    "\n",
    "\n"
   ]
  },
  {
   "cell_type": "markdown",
   "id": "008dccb1",
   "metadata": {},
   "source": [
    "<h3> 清除</h3>"
   ]
  },
  {
   "cell_type": "code",
   "execution_count": 19,
   "id": "f05f26b3",
   "metadata": {},
   "outputs": [],
   "source": [
    "dbCursor.execute('TRUNCATE TABLE STOCKINFO;')"
   ]
  },
  {
   "cell_type": "markdown",
   "id": "c3bfbed7",
   "metadata": {},
   "source": [
    "<h3> 新增欄位</h3>"
   ]
  },
  {
   "cell_type": "code",
   "execution_count": 23,
   "id": "c40a2548",
   "metadata": {},
   "outputs": [],
   "source": [
    "df1['Net']=numpy.abs(df1['Adj Close']-df1['Open'])\n",
    "df1['Scale']=numpy.abs(df1['High']-df1['Low'])"
   ]
  },
  {
   "cell_type": "markdown",
   "id": "02689cf9",
   "metadata": {},
   "source": [
    "<h3> 篩選資料</h3>"
   ]
  },
  {
   "cell_type": "code",
   "execution_count": 24,
   "id": "9a00bba2",
   "metadata": {},
   "outputs": [],
   "source": [
    "my_SQL=' SELECT SUBSTR (Date,1,7) AS YM,df2 AS data FROM df1 GROUP BY SUBSTR(Date,1,7);' \n",
    "dbCursor.execute(my_SQL)"
   ]
  },
  {
   "cell_type": "code",
   "execution_count": null,
   "id": "9199de10",
   "metadata": {},
   "outputs": [],
   "source": [
    "my_SQL=[\n",
    "    'SELECT * FROM df1 A',\n",
    "    ' INNER JOIN',\n",
    "    '(SELECT SUBSTR(Date,1,7) AS YM, MAX(StocklScale) AS Scale FROM df1 GROUP BY SUBSTR(Date,1,7)) B',\n",
    "    'ON A.Net = B.Net'   \n",
    "]\n",
    "pysqldf(' '.join(my_SQL))\n",
    "dbCursor.execute(insert_sql)"
   ]
  },
  {
   "cell_type": "code",
   "execution_count": null,
   "id": "b1627d1c",
   "metadata": {},
   "outputs": [],
   "source": [
    "my_SQL=[\n",
    "    'SELECT * FROM df1 A',\n",
    "    ' INNER JOIN',\n",
    "    '(SELECT SUBSTR(Date,1,7) AS YM, MIN(StockNet) AS Net FROM df1 GROUP BY SUBSTR(Date,1,7)) B',\n",
    "    'ON A.Net = B.Net'   \n",
    "]\n",
    "pysqldf(' '.join(my_SQL))\n",
    "dbCursor.execute(insert_sql)"
   ]
  },
  {
   "cell_type": "code",
   "execution_count": null,
   "id": "077204b2",
   "metadata": {},
   "outputs": [],
   "source": [
    "my_monly_stats=(my_monthly['Volume'].mean())\n",
    "my_SQL_statement=my_SQL % str(my_monly_stats[0])\n",
    "my_SQL_statement"
   ]
  }
 ],
 "metadata": {
  "kernelspec": {
   "display_name": "Python 3 (ipykernel)",
   "language": "python",
   "name": "python3"
  },
  "language_info": {
   "codemirror_mode": {
    "name": "ipython",
    "version": 3
   },
   "file_extension": ".py",
   "mimetype": "text/x-python",
   "name": "python",
   "nbconvert_exporter": "python",
   "pygments_lexer": "ipython3",
   "version": "3.8.11"
  }
 },
 "nbformat": 4,
 "nbformat_minor": 5
}
