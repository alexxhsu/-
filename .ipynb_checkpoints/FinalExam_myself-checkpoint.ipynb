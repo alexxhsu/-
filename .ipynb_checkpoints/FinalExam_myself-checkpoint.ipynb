{
 "cells": [
  {
   "cell_type": "code",
   "execution_count": 1,
   "id": "0dad3dd0",
   "metadata": {},
   "outputs": [],
   "source": [
    "import numpy\n",
    "import pandas\n",
    "from glob import glob"
   ]
  },
  {
   "cell_type": "code",
   "execution_count": 2,
   "id": "d8e01c1c",
   "metadata": {},
   "outputs": [],
   "source": [
    "from pyArango.connection import *\n",
    "from pyArango.query import *\n",
    "import pyArango.validation as VAL"
   ]
  },
  {
   "cell_type": "code",
   "execution_count": 3,
   "id": "e56d261a",
   "metadata": {},
   "outputs": [],
   "source": [
    "import networkx\n",
    "from networkx.algorithms.shortest_paths.weighted import single_source_dijkstra"
   ]
  },
  {
   "cell_type": "code",
   "execution_count": 4,
   "id": "ccc6e3b7",
   "metadata": {},
   "outputs": [],
   "source": [
    "import matplotlib.pyplot as plt\n",
    "from matplotlib.font_manager import FontProperties"
   ]
  },
  {
   "cell_type": "code",
   "execution_count": null,
   "id": "f7e17067",
   "metadata": {},
   "outputs": [],
   "source": [
    "# my_font = FontProperties(fname=r\"C:\\Windows\\Fonts/Simsun.ttc\", size=14)\n",
    "# my_font.get_name()"
   ]
  },
  {
   "cell_type": "code",
   "execution_count": null,
   "id": "68ffcc0a",
   "metadata": {},
   "outputs": [],
   "source": [
    "#dir(my_font)"
   ]
  },
  {
   "cell_type": "markdown",
   "id": "35bd9621",
   "metadata": {},
   "source": [
    "<h3>讀取各捷運線的資料檔"
   ]
  },
  {
   "cell_type": "code",
   "execution_count": 5,
   "id": "bdc78eea",
   "metadata": {},
   "outputs": [
    {
     "data": {
      "text/plain": [
       "['D:/Projects/DB/data\\\\MRT_BL.csv',\n",
       " 'D:/Projects/DB/data\\\\MRT_BR.csv',\n",
       " 'D:/Projects/DB/data\\\\MRT_G .csv',\n",
       " 'D:/Projects/DB/data\\\\MRT_O .csv',\n",
       " 'D:/Projects/DB/data\\\\MRT_R .csv',\n",
       " 'D:/Projects/DB/data\\\\MRT_Y .csv']"
      ]
     },
     "execution_count": 5,
     "metadata": {},
     "output_type": "execute_result"
    }
   ],
   "source": [
    "data_folder = 'C:/Users/user/anaconda3/Projects/data'\n",
    "\n",
    "data_files = glob('%s/MRT_??.csv' % data_folder) #用 % 指定位址\n",
    "data_files"
   ]
  },
  {
   "cell_type": "code",
   "execution_count": 6,
   "id": "241cbe00",
   "metadata": {},
   "outputs": [],
   "source": [
    "data_BL = pandas.read_csv(data_files[0], encoding='CP950').fillna('')\n",
    "data_BR = pandas.read_csv(data_files[1], encoding='CP950').fillna('')\n",
    "data_G = pandas.read_csv(data_files[2], encoding='CP950').fillna('')\n",
    "data_O = pandas.read_csv(data_files[3], encoding='CP950').fillna('')\n",
    "data_R = pandas.read_csv(data_files[4], encoding='CP950').fillna('')\n",
    "data_Y = pandas.read_csv(data_files[5], encoding='CP950').fillna('')"
   ]
  },
  {
   "cell_type": "markdown",
   "id": "8f26cb0a",
   "metadata": {},
   "source": [
    "<h3>連接 ArangoDB"
   ]
  },
  {
   "cell_type": "code",
   "execution_count": 7,
   "id": "278b6f45",
   "metadata": {},
   "outputs": [],
   "source": [
    "db_conn= Connection(\n",
    "        arangoURL = 'http://localhost:8529',\n",
    "        username = 'emprogria',\n",
    "        password = 'sophia8805')\n",
    "db = db_conn['Emprogria']\n",
    "db_collection = [\n",
    "    db.collections['MRT_BR'],\n",
    "    db.collections['MRT_R'],\n",
    "    db.collections['MRT_G'],\n",
    "    db.collections['MRT_O'],\n",
    "    db.collections['MRT_BL'],\n",
    "    db.collections['MRT_Y']\n",
    "]"
   ]
  },
  {
   "cell_type": "markdown",
   "id": "fb34a2e7",
   "metadata": {},
   "source": [
    "<h3>清空 ArangoDB 中各捷運線的 Collection"
   ]
  },
  {
   "cell_type": "code",
   "execution_count": 8,
   "id": "1483842d",
   "metadata": {},
   "outputs": [],
   "source": [
    "for i in range(len(db_collection)):\n",
    "    db_result = db_collection[i].empty()"
   ]
  },
  {
   "cell_type": "markdown",
   "id": "59182bdc",
   "metadata": {},
   "source": [
    "<h3>建立各捷運線的 Dictionary，並將存放 Dictionary 的 List 匯出 txt，在外部將 txt 檔轉換成 json 檔匯入 ArangoDB"
   ]
  },
  {
   "cell_type": "markdown",
   "id": "f377fa29",
   "metadata": {},
   "source": [
    "<h4>文湖線 BR"
   ]
  },
  {
   "cell_type": "code",
   "execution_count": 9,
   "id": "9b8bf596",
   "metadata": {},
   "outputs": [],
   "source": [
    "BR = list()\n",
    "for i in range(data_BR.shape[0]):\n",
    "    info_BR = {\n",
    "    '_key': data_BR['StationID'][i],\n",
    "    'Lane': data_BR['Lane'][i],\n",
    "    'StationName': data_BR['StationName'][i],\n",
    "    'PreStation': data_BR['PreStation'][i],\n",
    "    'NextStation': data_BR['NextStation'][i],\n",
    "    'Joint': data_BR['Joint'][i],\n",
    "    'Transit': data_BR['Transit'][i],\n",
    "    'Weight': numpy.random.randint(1, 100)\n",
    "    }\n",
    "    BR.append(info_BR)\n",
    "with open('MRT_BR.txt', 'w', encoding='utf-8') as f:\n",
    "    f.write(str(BR))"
   ]
  },
  {
   "cell_type": "markdown",
   "id": "1696fdd7",
   "metadata": {},
   "source": [
    "<h4>淡水信義線 R"
   ]
  },
  {
   "cell_type": "code",
   "execution_count": 10,
   "id": "df057b72",
   "metadata": {},
   "outputs": [],
   "source": [
    "R = list()\n",
    "for i in range(data_R.shape[0]):\n",
    "    info_R = {\n",
    "    '_key': data_R['StationID'][i],\n",
    "    'Lane': data_R['Lane'][i],\n",
    "    'StationName': data_R['StationName'][i],\n",
    "    'PreStation': data_R['PreStation'][i],\n",
    "    'NextStation': data_R['NextStation'][i],\n",
    "    'Joint': data_R['Joint'][i],\n",
    "    'Transit': data_R['Transit'][i],\n",
    "    'Weight': numpy.random.randint(1, 100)\n",
    "    }\n",
    "    R.append(info_R)\n",
    "with open('MRT_R.txt', 'w', encoding='utf-8') as f:\n",
    "    f.write(str(R))"
   ]
  },
  {
   "cell_type": "markdown",
   "id": "27ad5d52",
   "metadata": {},
   "source": [
    "<h4>松山新店線 G"
   ]
  },
  {
   "cell_type": "code",
   "execution_count": 11,
   "id": "55cc6cff",
   "metadata": {},
   "outputs": [],
   "source": [
    "G = list()\n",
    "for i in range(data_G.shape[0]):\n",
    "    info_G = {\n",
    "    '_key': data_G['StationID'][i],\n",
    "    'Lane': data_G['Lane'][i],\n",
    "    'StationName': data_G['StationName'][i],\n",
    "    'PreStation': data_G['PreStation'][i],\n",
    "    'NextStation': data_G['NextStation'][i],\n",
    "    'Joint': data_G['Joint'][i],\n",
    "    'Transit': data_G['Transit'][i],\n",
    "    'Weight': numpy.random.randint(1, 100)\n",
    "    }\n",
    "    G.append(info_G)\n",
    "with open('MRT_G.txt', 'w', encoding='utf-8') as f:\n",
    "    f.write(str(G))"
   ]
  },
  {
   "cell_type": "markdown",
   "id": "5ec22952",
   "metadata": {},
   "source": [
    "<h4>中和新蘆線 O"
   ]
  },
  {
   "cell_type": "code",
   "execution_count": 12,
   "id": "95ed92b8",
   "metadata": {},
   "outputs": [],
   "source": [
    "O = list()\n",
    "for i in range(data_O.shape[0]):\n",
    "    info_O = {\n",
    "    '_key': data_O['StationID'][i],\n",
    "    'Lane': data_O['Lane'][i],\n",
    "    'StationName': data_O['StationName'][i],\n",
    "    'PreStation': data_O['PreStation'][i],\n",
    "    'NextStation': data_O['NextStation'][i],\n",
    "    'Joint': data_O['Joint'][i],\n",
    "    'Transit': data_O['Transit'][i],\n",
    "    'Weight': numpy.random.randint(1, 100)\n",
    "    }\n",
    "    O.append(info_O)\n",
    "with open('MRT_O.txt', 'w', encoding='utf-8') as f:\n",
    "    f.write(str(O))"
   ]
  },
  {
   "cell_type": "markdown",
   "id": "56e58af5",
   "metadata": {},
   "source": [
    "<h4>板南線 BL"
   ]
  },
  {
   "cell_type": "code",
   "execution_count": 13,
   "id": "580de66d",
   "metadata": {},
   "outputs": [],
   "source": [
    "BL = list()\n",
    "for i in range(data_BL.shape[0]):\n",
    "    info_BL = {\n",
    "    '_key': data_BL['StationID'][i],\n",
    "    'Lane': data_BL['Lane'][i],\n",
    "    'StationName': data_BL['StationName'][i],\n",
    "    'PreStation': data_BL['PreStation'][i],\n",
    "    'NextStation': data_BL['NextStation'][i],\n",
    "    'Joint': data_BL['Joint'][i],\n",
    "    'Transit': data_BL['Transit'][i],\n",
    "    'Weight': numpy.random.randint(1, 100)\n",
    "    }\n",
    "    BL.append(info_BL)\n",
    "with open('MRT_BL.txt', 'w', encoding='utf-8') as f:\n",
    "    f.write(str(BL))"
   ]
  },
  {
   "cell_type": "markdown",
   "id": "6c174fed",
   "metadata": {},
   "source": [
    "<h4>環狀線 Y"
   ]
  },
  {
   "cell_type": "code",
   "execution_count": 14,
   "id": "18f67c6b",
   "metadata": {},
   "outputs": [],
   "source": [
    "Y = list()\n",
    "for i in range(data_Y.shape[0]):\n",
    "    info_Y = {\n",
    "    '_key': data_Y['StationID'][i],\n",
    "    'Lane': data_Y['Lane'][i],\n",
    "    'StationName': data_Y['StationName'][i],\n",
    "    'PreStation': data_Y['PreStation'][i],\n",
    "    'NextStation': data_Y['NextStation'][i],\n",
    "    'Joint': data_Y['Joint'][i],\n",
    "    'Transit': data_Y['Transit'][i],\n",
    "    'Weight': numpy.random.randint(1, 100)\n",
    "    }\n",
    "    Y.append(info_Y)\n",
    "with open('MRT_Y.txt', 'w', encoding='utf-8') as f:\n",
    "    f.write(str(Y))"
   ]
  }
 ],
 "metadata": {
  "kernelspec": {
   "display_name": "Python 3 (ipykernel)",
   "language": "python",
   "name": "python3"
  },
  "language_info": {
   "codemirror_mode": {
    "name": "ipython",
    "version": 3
   },
   "file_extension": ".py",
   "mimetype": "text/x-python",
   "name": "python",
   "nbconvert_exporter": "python",
   "pygments_lexer": "ipython3",
   "version": "3.8.12"
  }
 },
 "nbformat": 4,
 "nbformat_minor": 5
}
