{
 "cells": [
  {
   "cell_type": "code",
   "execution_count": 4,
   "id": "c0067a84",
   "metadata": {},
   "outputs": [],
   "source": [
    "import numpy\n",
    "import pandas\n",
    "import matplotlib.pyplot as plt"
   ]
  },
  {
   "cell_type": "code",
   "execution_count": 5,
   "id": "c38ea4c0",
   "metadata": {},
   "outputs": [],
   "source": [
    "import networkx\n",
    "from networkx.readwrite import json_graph #此格式可存入AQL"
   ]
  },
  {
   "cell_type": "code",
   "execution_count": 7,
   "id": "4f841f9e",
   "metadata": {},
   "outputs": [],
   "source": [
    "#建立網路節點資訊\n",
    "node_info={\n",
    "    'A':{'weight':numpy.random.randint(1,100),'id':0},\n",
    "    'B':{'weight':numpy.random.randint(1,100),'id':1},\n",
    "    'C':{'weight':numpy.random.randint(1,100),'id':2},\n",
    "    'D':{'weight':numpy.random.randint(1,100),'id':3},\n",
    "    'E':{'weight':numpy.random.randint(1,100),'id':4},\n",
    "    'F':{'weight':numpy.random.randint(1,100),'id':5},\n",
    "    'G':{'weight':numpy.random.randint(1,100),'id':6},\n",
    "    'H':{'weight':numpy.random.randint(1,100),'id':7},\n",
    "    'I':{'weight':numpy.random.randint(1,100),'id':8},\n",
    "    'J':{'weight':numpy.random.randint(1,100),'id':9},\n",
    "    \n",
    "}"
   ]
  },
  {
   "cell_type": "code",
   "execution_count": 8,
   "id": "911b5ec8",
   "metadata": {},
   "outputs": [
    {
     "data": {
      "text/plain": [
       "{'A': {'weight': 91, 'id': 0},\n",
       " 'B': {'weight': 50, 'id': 1},\n",
       " 'C': {'weight': 99, 'id': 2},\n",
       " 'D': {'weight': 96, 'id': 3},\n",
       " 'E': {'weight': 25, 'id': 4},\n",
       " 'F': {'weight': 89, 'id': 5},\n",
       " 'G': {'weight': 4, 'id': 6},\n",
       " 'H': {'weight': 20, 'id': 7},\n",
       " 'I': {'weight': 30, 'id': 8},\n",
       " 'J': {'weight': 26, 'id': 9}}"
      ]
     },
     "execution_count": 8,
     "metadata": {},
     "output_type": "execute_result"
    }
   ],
   "source": [
    "node_info"
   ]
  },
  {
   "cell_type": "code",
   "execution_count": 9,
   "id": "f79a3127",
   "metadata": {},
   "outputs": [],
   "source": [
    "G=networkx.Graph()"
   ]
  },
  {
   "cell_type": "code",
   "execution_count": 10,
   "id": "b8f99af1",
   "metadata": {},
   "outputs": [],
   "source": [
    "#建立網路節點\n",
    "for node in range(ord('A'),ord('J')+1): #ord轉ASCIIL\n",
    "    G.add_node(chr(node),weight=node_info[chr(node)]['weight'])#chr轉字元"
   ]
  },
  {
   "cell_type": "code",
   "execution_count": 11,
   "id": "dab55bc2",
   "metadata": {},
   "outputs": [
    {
     "data": {
      "text/plain": [
       "[('A', {'weight': 91}),\n",
       " ('B', {'weight': 50}),\n",
       " ('C', {'weight': 99}),\n",
       " ('D', {'weight': 96}),\n",
       " ('E', {'weight': 25}),\n",
       " ('F', {'weight': 89}),\n",
       " ('G', {'weight': 4}),\n",
       " ('H', {'weight': 20}),\n",
       " ('I', {'weight': 30}),\n",
       " ('J', {'weight': 26})]"
      ]
     },
     "execution_count": 11,
     "metadata": {},
     "output_type": "execute_result"
    }
   ],
   "source": [
    "list(G.nodes(data=True))"
   ]
  },
  {
   "cell_type": "code",
   "execution_count": 12,
   "id": "fa1ac295",
   "metadata": {},
   "outputs": [
    {
     "data": {
      "text/plain": [
       "[('A', 91),\n",
       " ('B', 50),\n",
       " ('C', 99),\n",
       " ('D', 96),\n",
       " ('E', 25),\n",
       " ('F', 89),\n",
       " ('G', 4),\n",
       " ('H', 20),\n",
       " ('I', 30),\n",
       " ('J', 26)]"
      ]
     },
     "execution_count": 12,
     "metadata": {},
     "output_type": "execute_result"
    }
   ],
   "source": [
    "list(G.nodes(data='weight')) #篩選出weight欄位"
   ]
  },
  {
   "cell_type": "code",
   "execution_count": 13,
   "id": "ce49985d",
   "metadata": {},
   "outputs": [],
   "source": [
    "G.add_edge('A','B')\n",
    "G.add_edge('B','C')\n",
    "G.add_edge('B','D')\n",
    "G.add_edge('C','F')\n",
    "G.add_edge('D','G')\n",
    "G.add_edge('E','H')\n",
    "G.add_edge('E','I')\n",
    "G.add_edge('E','J')\n",
    "G.add_edge('J','F')\n",
    "G.add_edge('J','G')\n",
    "G.add_edge('A','E')"
   ]
  },
  {
   "cell_type": "code",
   "execution_count": 14,
   "id": "38e58f09",
   "metadata": {},
   "outputs": [
    {
     "data": {
      "text/plain": [
       "{'directed': False,\n",
       " 'multigraph': False,\n",
       " 'graph': {},\n",
       " 'nodes': [{'weight': 91, 'id': 'A'},\n",
       "  {'weight': 50, 'id': 'B'},\n",
       "  {'weight': 99, 'id': 'C'},\n",
       "  {'weight': 96, 'id': 'D'},\n",
       "  {'weight': 25, 'id': 'E'},\n",
       "  {'weight': 89, 'id': 'F'},\n",
       "  {'weight': 4, 'id': 'G'},\n",
       "  {'weight': 20, 'id': 'H'},\n",
       "  {'weight': 30, 'id': 'I'},\n",
       "  {'weight': 26, 'id': 'J'}],\n",
       " 'links': [{'source': 'A', 'target': 'B'},\n",
       "  {'source': 'A', 'target': 'E'},\n",
       "  {'source': 'B', 'target': 'C'},\n",
       "  {'source': 'B', 'target': 'D'},\n",
       "  {'source': 'C', 'target': 'F'},\n",
       "  {'source': 'D', 'target': 'G'},\n",
       "  {'source': 'E', 'target': 'H'},\n",
       "  {'source': 'E', 'target': 'I'},\n",
       "  {'source': 'E', 'target': 'J'},\n",
       "  {'source': 'F', 'target': 'J'},\n",
       "  {'source': 'G', 'target': 'J'}]}"
      ]
     },
     "execution_count": 14,
     "metadata": {},
     "output_type": "execute_result"
    }
   ],
   "source": [
    "json_graph.node_link_data(G)"
   ]
  },
  {
   "cell_type": "code",
   "execution_count": 15,
   "id": "b24a5791",
   "metadata": {},
   "outputs": [],
   "source": [
    "pos=networkx.shell_layout(G)"
   ]
  },
  {
   "cell_type": "code",
   "execution_count": 16,
   "id": "cf980414",
   "metadata": {},
   "outputs": [
    {
     "data": {
      "image/png": "[encoded data removed]",
      "text/plain": [
       "<Figure size 720x720 with 1 Axes>"
      ]
     },
     "metadata": {},
     "output_type": "display_data"
    }
   ],
   "source": [
    "fig,ax=plt.subplots(figsize=(6,6),dpi=120)\n",
    "networkx.draw(G,pos,\n",
    "             with_labels=True,\n",
    "             node_size=[10*node[1]['weight']for node in list(G.nodes(data=True))],\n",
    "             font_weight='bold',font_color='white',\n",
    "             ax=ax)\n",
    "plt.show()\n"
   ]
  },
  {
   "cell_type": "code",
   "execution_count": 17,
   "id": "73de48c9",
   "metadata": {},
   "outputs": [
    {
     "data": {
      "text/plain": [
       "[910, 500, 990, 960, 250, 890, 40, 200, 300, 260]"
      ]
     },
     "execution_count": 17,
     "metadata": {},
     "output_type": "execute_result"
    }
   ],
   "source": [
    "[10*node[1]['weight'] for node in list(G.nodes(data=True))]"
   ]
  },
  {
   "cell_type": "code",
   "execution_count": 18,
   "id": "fe23a331",
   "metadata": {},
   "outputs": [],
   "source": [
    "#尋找最短路徑\n",
    "shortest=networkx.shortest_path(G,source='A',target='J')"
   ]
  },
  {
   "cell_type": "code",
   "execution_count": 19,
   "id": "e729904d",
   "metadata": {},
   "outputs": [
    {
     "data": {
      "text/plain": [
       "['A', 'E', 'J']"
      ]
     },
     "execution_count": 19,
     "metadata": {},
     "output_type": "execute_result"
    }
   ],
   "source": [
    "shortest"
   ]
  },
  {
   "cell_type": "code",
   "execution_count": 20,
   "id": "14eff93b",
   "metadata": {},
   "outputs": [
    {
     "data": {
      "text/plain": [
       "{'A': {'B': 2, 'C': 2, 'D': 2, 'E': 2, 'F': 2, 'G': 2, 'H': 1, 'I': 1, 'J': 2},\n",
       " 'B': {'A': 2, 'C': 2, 'D': 2, 'E': 2, 'F': 2, 'G': 2, 'H': 1, 'I': 1, 'J': 3},\n",
       " 'C': {'A': 2, 'B': 2, 'D': 2, 'E': 2, 'F': 2, 'G': 2, 'H': 1, 'I': 1, 'J': 2},\n",
       " 'D': {'A': 2, 'B': 2, 'C': 2, 'E': 2, 'F': 2, 'G': 2, 'H': 1, 'I': 1, 'J': 2},\n",
       " 'E': {'A': 2, 'B': 2, 'C': 2, 'D': 2, 'F': 2, 'G': 2, 'H': 1, 'I': 1, 'J': 2},\n",
       " 'F': {'A': 2, 'B': 2, 'C': 2, 'D': 2, 'E': 2, 'G': 2, 'H': 1, 'I': 1, 'J': 2},\n",
       " 'G': {'A': 2, 'B': 2, 'C': 2, 'D': 2, 'E': 2, 'F': 2, 'H': 1, 'I': 1, 'J': 2},\n",
       " 'H': {'A': 1, 'B': 1, 'C': 1, 'D': 1, 'E': 1, 'F': 1, 'G': 1, 'I': 1, 'J': 1},\n",
       " 'I': {'A': 1, 'B': 1, 'C': 1, 'D': 1, 'E': 1, 'F': 1, 'G': 1, 'H': 1, 'J': 1},\n",
       " 'J': {'A': 2, 'B': 3, 'C': 2, 'D': 2, 'E': 2, 'F': 2, 'G': 2, 'H': 1, 'I': 1}}"
      ]
     },
     "execution_count": 20,
     "metadata": {},
     "output_type": "execute_result"
    }
   ],
   "source": [
    "#節點間可能路徑\n",
    "connections=networkx.all_pairs_node_connectivity(G)\n",
    "connections"
   ]
  },
  {
   "cell_type": "code",
   "execution_count": 21,
   "id": "2ad6606d",
   "metadata": {},
   "outputs": [
    {
     "name": "stdout",
     "output_type": "stream",
     "text": [
      "A-B:  2\n",
      "A-C:  2\n",
      "A-D:  2\n",
      "A-E:  2\n",
      "A-F:  2\n",
      "A-G:  2\n",
      "A-H:  1\n",
      "A-I:  1\n",
      "A-J:  2\n"
     ]
    }
   ],
   "source": [
    "start_node='A'\n",
    "for traget_node in connections[start_node]:\n",
    "    print('%s-%s:%3d'%(start_node,traget_node,connections[start_node][traget_node]))"
   ]
  },
  {
   "cell_type": "code",
   "execution_count": null,
   "id": "30147f9c",
   "metadata": {},
   "outputs": [],
   "source": []
  },
  {
   "cell_type": "code",
   "execution_count": null,
   "id": "bf5a55e4",
   "metadata": {},
   "outputs": [],
   "source": []
  }
 ],
 "metadata": {
  "kernelspec": {
   "display_name": "Python 3 (ipykernel)",
   "language": "python",
   "name": "python3"
  },
  "language_info": {
   "codemirror_mode": {
    "name": "ipython",
    "version": 3
   },
   "file_extension": ".py",
   "mimetype": "text/x-python",
   "name": "python",
   "nbconvert_exporter": "python",
   "pygments_lexer": "ipython3",
   "version": "3.8.12"
  }
 },
 "nbformat": 4,
 "nbformat_minor": 5
}
