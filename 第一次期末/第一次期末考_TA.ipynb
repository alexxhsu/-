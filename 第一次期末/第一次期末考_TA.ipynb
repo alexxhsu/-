{
 "cells": [
  {
   "cell_type": "code",
   "execution_count": 1,
   "id": "bd0bc0bd",
   "metadata": {},
   "outputs": [],
   "source": [
    "import pandas\n",
    "import numpy\n",
    "from pyArango.connection import *\n",
    "from pyArango.query import *\n",
    "import jaydebeapi"
   ]
  },
  {
   "cell_type": "markdown",
   "id": "3de24ef2",
   "metadata": {},
   "source": [
    "<h3>1.設計一個 SQL 資料庫表格，欲將此 CSV 匯入，記錄在 Jupyter Markdown 中。</h3>"
   ]
  },
  {
   "cell_type": "code",
   "execution_count": 2,
   "id": "1cd0dac5",
   "metadata": {},
   "outputs": [
    {
     "ename": "FileNotFoundError",
     "evalue": "[Errno 2] File b'data/movies_data.csv' does not exist: b'data/movies_data.csv'",
     "output_type": "error",
     "traceback": [
      "\u001b[0;31m---------------------------------------------------------------------------\u001b[0m",
      "\u001b[0;31mFileNotFoundError\u001b[0m                         Traceback (most recent call last)",
      "\u001b[0;32m/var/folders/62/kbf42kw56_1bnc6xcr4ll3t40000gn/T/ipykernel_28343/426898878.py\u001b[0m in \u001b[0;36m<module>\u001b[0;34m\u001b[0m\n\u001b[1;32m      1\u001b[0m \u001b[0mdata_path\u001b[0m \u001b[0;34m=\u001b[0m \u001b[0;34m'data'\u001b[0m\u001b[0;34m\u001b[0m\u001b[0;34m\u001b[0m\u001b[0m\n\u001b[1;32m      2\u001b[0m \u001b[0mcsv_file\u001b[0m \u001b[0;34m=\u001b[0m \u001b[0;34m'%s/movies_data.csv'\u001b[0m \u001b[0;34m%\u001b[0m \u001b[0mdata_path\u001b[0m\u001b[0;34m\u001b[0m\u001b[0;34m\u001b[0m\u001b[0m\n\u001b[0;32m----> 3\u001b[0;31m \u001b[0mdataset\u001b[0m \u001b[0;34m=\u001b[0m \u001b[0mpandas\u001b[0m\u001b[0;34m.\u001b[0m\u001b[0mread_csv\u001b[0m\u001b[0;34m(\u001b[0m\u001b[0mcsv_file\u001b[0m\u001b[0;34m)\u001b[0m\u001b[0;34m\u001b[0m\u001b[0;34m\u001b[0m\u001b[0m\n\u001b[0m",
      "\u001b[0;32m~/opt/anaconda3/envs/DB/lib/python3.7/site-packages/pandas/io/parsers.py\u001b[0m in \u001b[0;36mparser_f\u001b[0;34m(filepath_or_buffer, sep, delimiter, header, names, index_col, usecols, squeeze, prefix, mangle_dupe_cols, dtype, engine, converters, true_values, false_values, skipinitialspace, skiprows, skipfooter, nrows, na_values, keep_default_na, na_filter, verbose, skip_blank_lines, parse_dates, infer_datetime_format, keep_date_col, date_parser, dayfirst, cache_dates, iterator, chunksize, compression, thousands, decimal, lineterminator, quotechar, quoting, doublequote, escapechar, comment, encoding, dialect, error_bad_lines, warn_bad_lines, delim_whitespace, low_memory, memory_map, float_precision)\u001b[0m\n\u001b[1;32m    683\u001b[0m         )\n\u001b[1;32m    684\u001b[0m \u001b[0;34m\u001b[0m\u001b[0m\n\u001b[0;32m--> 685\u001b[0;31m         \u001b[0;32mreturn\u001b[0m \u001b[0m_read\u001b[0m\u001b[0;34m(\u001b[0m\u001b[0mfilepath_or_buffer\u001b[0m\u001b[0;34m,\u001b[0m \u001b[0mkwds\u001b[0m\u001b[0;34m)\u001b[0m\u001b[0;34m\u001b[0m\u001b[0;34m\u001b[0m\u001b[0m\n\u001b[0m\u001b[1;32m    686\u001b[0m \u001b[0;34m\u001b[0m\u001b[0m\n\u001b[1;32m    687\u001b[0m     \u001b[0mparser_f\u001b[0m\u001b[0;34m.\u001b[0m\u001b[0m__name__\u001b[0m \u001b[0;34m=\u001b[0m \u001b[0mname\u001b[0m\u001b[0;34m\u001b[0m\u001b[0;34m\u001b[0m\u001b[0m\n",
      "\u001b[0;32m~/opt/anaconda3/envs/DB/lib/python3.7/site-packages/pandas/io/parsers.py\u001b[0m in \u001b[0;36m_read\u001b[0;34m(filepath_or_buffer, kwds)\u001b[0m\n\u001b[1;32m    455\u001b[0m \u001b[0;34m\u001b[0m\u001b[0m\n\u001b[1;32m    456\u001b[0m     \u001b[0;31m# Create the parser.\u001b[0m\u001b[0;34m\u001b[0m\u001b[0;34m\u001b[0m\u001b[0;34m\u001b[0m\u001b[0m\n\u001b[0;32m--> 457\u001b[0;31m     \u001b[0mparser\u001b[0m \u001b[0;34m=\u001b[0m \u001b[0mTextFileReader\u001b[0m\u001b[0;34m(\u001b[0m\u001b[0mfp_or_buf\u001b[0m\u001b[0;34m,\u001b[0m \u001b[0;34m**\u001b[0m\u001b[0mkwds\u001b[0m\u001b[0;34m)\u001b[0m\u001b[0;34m\u001b[0m\u001b[0;34m\u001b[0m\u001b[0m\n\u001b[0m\u001b[1;32m    458\u001b[0m \u001b[0;34m\u001b[0m\u001b[0m\n\u001b[1;32m    459\u001b[0m     \u001b[0;32mif\u001b[0m \u001b[0mchunksize\u001b[0m \u001b[0;32mor\u001b[0m \u001b[0miterator\u001b[0m\u001b[0;34m:\u001b[0m\u001b[0;34m\u001b[0m\u001b[0;34m\u001b[0m\u001b[0m\n",
      "\u001b[0;32m~/opt/anaconda3/envs/DB/lib/python3.7/site-packages/pandas/io/parsers.py\u001b[0m in \u001b[0;36m__init__\u001b[0;34m(self, f, engine, **kwds)\u001b[0m\n\u001b[1;32m    893\u001b[0m             \u001b[0mself\u001b[0m\u001b[0;34m.\u001b[0m\u001b[0moptions\u001b[0m\u001b[0;34m[\u001b[0m\u001b[0;34m\"has_index_names\"\u001b[0m\u001b[0;34m]\u001b[0m \u001b[0;34m=\u001b[0m \u001b[0mkwds\u001b[0m\u001b[0;34m[\u001b[0m\u001b[0;34m\"has_index_names\"\u001b[0m\u001b[0;34m]\u001b[0m\u001b[0;34m\u001b[0m\u001b[0;34m\u001b[0m\u001b[0m\n\u001b[1;32m    894\u001b[0m \u001b[0;34m\u001b[0m\u001b[0m\n\u001b[0;32m--> 895\u001b[0;31m         \u001b[0mself\u001b[0m\u001b[0;34m.\u001b[0m\u001b[0m_make_engine\u001b[0m\u001b[0;34m(\u001b[0m\u001b[0mself\u001b[0m\u001b[0;34m.\u001b[0m\u001b[0mengine\u001b[0m\u001b[0;34m)\u001b[0m\u001b[0;34m\u001b[0m\u001b[0;34m\u001b[0m\u001b[0m\n\u001b[0m\u001b[1;32m    896\u001b[0m \u001b[0;34m\u001b[0m\u001b[0m\n\u001b[1;32m    897\u001b[0m     \u001b[0;32mdef\u001b[0m \u001b[0mclose\u001b[0m\u001b[0;34m(\u001b[0m\u001b[0mself\u001b[0m\u001b[0;34m)\u001b[0m\u001b[0;34m:\u001b[0m\u001b[0;34m\u001b[0m\u001b[0;34m\u001b[0m\u001b[0m\n",
      "\u001b[0;32m~/opt/anaconda3/envs/DB/lib/python3.7/site-packages/pandas/io/parsers.py\u001b[0m in \u001b[0;36m_make_engine\u001b[0;34m(self, engine)\u001b[0m\n\u001b[1;32m   1133\u001b[0m     \u001b[0;32mdef\u001b[0m \u001b[0m_make_engine\u001b[0m\u001b[0;34m(\u001b[0m\u001b[0mself\u001b[0m\u001b[0;34m,\u001b[0m \u001b[0mengine\u001b[0m\u001b[0;34m=\u001b[0m\u001b[0;34m\"c\"\u001b[0m\u001b[0;34m)\u001b[0m\u001b[0;34m:\u001b[0m\u001b[0;34m\u001b[0m\u001b[0;34m\u001b[0m\u001b[0m\n\u001b[1;32m   1134\u001b[0m         \u001b[0;32mif\u001b[0m \u001b[0mengine\u001b[0m \u001b[0;34m==\u001b[0m \u001b[0;34m\"c\"\u001b[0m\u001b[0;34m:\u001b[0m\u001b[0;34m\u001b[0m\u001b[0;34m\u001b[0m\u001b[0m\n\u001b[0;32m-> 1135\u001b[0;31m             \u001b[0mself\u001b[0m\u001b[0;34m.\u001b[0m\u001b[0m_engine\u001b[0m \u001b[0;34m=\u001b[0m \u001b[0mCParserWrapper\u001b[0m\u001b[0;34m(\u001b[0m\u001b[0mself\u001b[0m\u001b[0;34m.\u001b[0m\u001b[0mf\u001b[0m\u001b[0;34m,\u001b[0m \u001b[0;34m**\u001b[0m\u001b[0mself\u001b[0m\u001b[0;34m.\u001b[0m\u001b[0moptions\u001b[0m\u001b[0;34m)\u001b[0m\u001b[0;34m\u001b[0m\u001b[0;34m\u001b[0m\u001b[0m\n\u001b[0m\u001b[1;32m   1136\u001b[0m         \u001b[0;32melse\u001b[0m\u001b[0;34m:\u001b[0m\u001b[0;34m\u001b[0m\u001b[0;34m\u001b[0m\u001b[0m\n\u001b[1;32m   1137\u001b[0m             \u001b[0;32mif\u001b[0m \u001b[0mengine\u001b[0m \u001b[0;34m==\u001b[0m \u001b[0;34m\"python\"\u001b[0m\u001b[0;34m:\u001b[0m\u001b[0;34m\u001b[0m\u001b[0;34m\u001b[0m\u001b[0m\n",
      "\u001b[0;32m~/opt/anaconda3/envs/DB/lib/python3.7/site-packages/pandas/io/parsers.py\u001b[0m in \u001b[0;36m__init__\u001b[0;34m(self, src, **kwds)\u001b[0m\n\u001b[1;32m   1915\u001b[0m         \u001b[0mkwds\u001b[0m\u001b[0;34m[\u001b[0m\u001b[0;34m\"usecols\"\u001b[0m\u001b[0;34m]\u001b[0m \u001b[0;34m=\u001b[0m \u001b[0mself\u001b[0m\u001b[0;34m.\u001b[0m\u001b[0musecols\u001b[0m\u001b[0;34m\u001b[0m\u001b[0;34m\u001b[0m\u001b[0m\n\u001b[1;32m   1916\u001b[0m \u001b[0;34m\u001b[0m\u001b[0m\n\u001b[0;32m-> 1917\u001b[0;31m         \u001b[0mself\u001b[0m\u001b[0;34m.\u001b[0m\u001b[0m_reader\u001b[0m \u001b[0;34m=\u001b[0m \u001b[0mparsers\u001b[0m\u001b[0;34m.\u001b[0m\u001b[0mTextReader\u001b[0m\u001b[0;34m(\u001b[0m\u001b[0msrc\u001b[0m\u001b[0;34m,\u001b[0m \u001b[0;34m**\u001b[0m\u001b[0mkwds\u001b[0m\u001b[0;34m)\u001b[0m\u001b[0;34m\u001b[0m\u001b[0;34m\u001b[0m\u001b[0m\n\u001b[0m\u001b[1;32m   1918\u001b[0m         \u001b[0mself\u001b[0m\u001b[0;34m.\u001b[0m\u001b[0munnamed_cols\u001b[0m \u001b[0;34m=\u001b[0m \u001b[0mself\u001b[0m\u001b[0;34m.\u001b[0m\u001b[0m_reader\u001b[0m\u001b[0;34m.\u001b[0m\u001b[0munnamed_cols\u001b[0m\u001b[0;34m\u001b[0m\u001b[0;34m\u001b[0m\u001b[0m\n\u001b[1;32m   1919\u001b[0m \u001b[0;34m\u001b[0m\u001b[0m\n",
      "\u001b[0;32mpandas/_libs/parsers.pyx\u001b[0m in \u001b[0;36mpandas._libs.parsers.TextReader.__cinit__\u001b[0;34m()\u001b[0m\n",
      "\u001b[0;32mpandas/_libs/parsers.pyx\u001b[0m in \u001b[0;36mpandas._libs.parsers.TextReader._setup_parser_source\u001b[0;34m()\u001b[0m\n",
      "\u001b[0;31mFileNotFoundError\u001b[0m: [Errno 2] File b'data/movies_data.csv' does not exist: b'data/movies_data.csv'"
     ]
    }
   ],
   "source": [
    "data_path = 'data'\n",
    "csv_file = '%s/movies_data.csv' % data_path\n",
    "dataset = pandas.read_csv(csv_file)"
   ]
  },
  {
   "cell_type": "code",
   "execution_count": null,
   "id": "57bd4337",
   "metadata": {},
   "outputs": [
    {
     "data": {
      "text/html": [
       "<div>\n",
       "<style scoped>\n",
       "    .dataframe tbody tr th:only-of-type {\n",
       "        vertical-align: middle;\n",
       "    }\n",
       "\n",
       "    .dataframe tbody tr th {\n",
       "        vertical-align: top;\n",
       "    }\n",
       "\n",
       "    .dataframe thead th {\n",
       "        text-align: right;\n",
       "    }\n",
       "</style>\n",
       "<table border=\"1\" class=\"dataframe\">\n",
       "  <thead>\n",
       "    <tr style=\"text-align: right;\">\n",
       "      <th></th>\n",
       "      <th>Name</th>\n",
       "      <th>Year</th>\n",
       "      <th>Duration</th>\n",
       "      <th>Genre</th>\n",
       "      <th>Rating</th>\n",
       "      <th>Votes</th>\n",
       "      <th>Director</th>\n",
       "      <th>Actor 1</th>\n",
       "      <th>Actor 2</th>\n",
       "      <th>Actor 3</th>\n",
       "    </tr>\n",
       "  </thead>\n",
       "  <tbody>\n",
       "    <tr>\n",
       "      <th>0</th>\n",
       "      <td>#Gadhvi (He thought he was Gandhi)</td>\n",
       "      <td>2019</td>\n",
       "      <td>109</td>\n",
       "      <td>Drama</td>\n",
       "      <td>7.0</td>\n",
       "      <td>8</td>\n",
       "      <td>Gaurav Bakshi</td>\n",
       "      <td>Rasika Dugal</td>\n",
       "      <td>Vivek Ghamande</td>\n",
       "      <td>Arvind Jangid</td>\n",
       "    </tr>\n",
       "    <tr>\n",
       "      <th>1</th>\n",
       "      <td>#Yaaram</td>\n",
       "      <td>2019</td>\n",
       "      <td>110</td>\n",
       "      <td>Comedy, Romance</td>\n",
       "      <td>4.4</td>\n",
       "      <td>35</td>\n",
       "      <td>Ovais Khan</td>\n",
       "      <td>Prateik</td>\n",
       "      <td>Ishita Raj</td>\n",
       "      <td>Siddhant Kapoor</td>\n",
       "    </tr>\n",
       "    <tr>\n",
       "      <th>2</th>\n",
       "      <td>...Aur Pyaar Ho Gaya</td>\n",
       "      <td>1997</td>\n",
       "      <td>147</td>\n",
       "      <td>Comedy, Drama, Musical</td>\n",
       "      <td>4.7</td>\n",
       "      <td>827</td>\n",
       "      <td>Rahul Rawail</td>\n",
       "      <td>Bobby Deol</td>\n",
       "      <td>Aishwarya Rai Bachchan</td>\n",
       "      <td>Shammi Kapoor</td>\n",
       "    </tr>\n",
       "    <tr>\n",
       "      <th>3</th>\n",
       "      <td>...Yahaan</td>\n",
       "      <td>2005</td>\n",
       "      <td>142</td>\n",
       "      <td>Drama, Romance, War</td>\n",
       "      <td>7.4</td>\n",
       "      <td>1086</td>\n",
       "      <td>Shoojit Sircar</td>\n",
       "      <td>Jimmy Sheirgill</td>\n",
       "      <td>Minissha Lamba</td>\n",
       "      <td>Yashpal Sharma</td>\n",
       "    </tr>\n",
       "    <tr>\n",
       "      <th>4</th>\n",
       "      <td>?: A Question Mark</td>\n",
       "      <td>2012</td>\n",
       "      <td>82</td>\n",
       "      <td>Horror, Mystery, Thriller</td>\n",
       "      <td>5.6</td>\n",
       "      <td>326</td>\n",
       "      <td>Allyson Patel</td>\n",
       "      <td>Yash Dave</td>\n",
       "      <td>Muntazir Ahmad</td>\n",
       "      <td>Kiran Bhatia</td>\n",
       "    </tr>\n",
       "  </tbody>\n",
       "</table>\n",
       "</div>"
      ],
      "text/plain": [
       "                                 Name  Year  Duration  \\\n",
       "0  #Gadhvi (He thought he was Gandhi)  2019       109   \n",
       "1                             #Yaaram  2019       110   \n",
       "2                ...Aur Pyaar Ho Gaya  1997       147   \n",
       "3                           ...Yahaan  2005       142   \n",
       "4                  ?: A Question Mark  2012        82   \n",
       "\n",
       "                       Genre  Rating  Votes        Director          Actor 1  \\\n",
       "0                      Drama     7.0      8   Gaurav Bakshi     Rasika Dugal   \n",
       "1            Comedy, Romance     4.4     35      Ovais Khan          Prateik   \n",
       "2     Comedy, Drama, Musical     4.7    827    Rahul Rawail       Bobby Deol   \n",
       "3        Drama, Romance, War     7.4   1086  Shoojit Sircar  Jimmy Sheirgill   \n",
       "4  Horror, Mystery, Thriller     5.6    326   Allyson Patel        Yash Dave   \n",
       "\n",
       "                  Actor 2          Actor 3  \n",
       "0          Vivek Ghamande    Arvind Jangid  \n",
       "1              Ishita Raj  Siddhant Kapoor  \n",
       "2  Aishwarya Rai Bachchan    Shammi Kapoor  \n",
       "3          Minissha Lamba   Yashpal Sharma  \n",
       "4          Muntazir Ahmad     Kiran Bhatia  "
      ]
     },
     "execution_count": 3,
     "metadata": {},
     "output_type": "execute_result"
    }
   ],
   "source": [
    "dataset.head()"
   ]
  },
  {
   "cell_type": "code",
   "execution_count": null,
   "id": "8732797d",
   "metadata": {
    "scrolled": true
   },
   "outputs": [
    {
     "name": "stderr",
     "output_type": "stream",
     "text": [
      "C:\\Users\\Lunnn\\AppData\\Local\\Temp/ipykernel_7572/3230822329.py:1: UserWarning: The spaces in these column names will not be changed. In pandas versions < 0.14, spaces were converted to underscores.\n",
      "  pandas.io.sql.get_schema(dataset.reset_index(), 'movie')\n"
     ]
    },
    {
     "data": {
      "text/plain": [
       "'CREATE TABLE \"movie\" (\\n\"index\" INTEGER,\\n  \"Name\" TEXT,\\n  \"Year\" INTEGER,\\n  \"Duration\" INTEGER,\\n  \"Genre\" TEXT,\\n  \"Rating\" REAL,\\n  \"Votes\" INTEGER,\\n  \"Director\" TEXT,\\n  \"Actor 1\" TEXT,\\n  \"Actor 2\" TEXT,\\n  \"Actor 3\" TEXT\\n)'"
      ]
     },
     "execution_count": 4,
     "metadata": {},
     "output_type": "execute_result"
    }
   ],
   "source": [
    "pandas.io.sql.get_schema(dataset.reset_index(), 'movie')"
   ]
  },
  {
   "cell_type": "code",
   "execution_count": null,
   "id": "1666f1aa",
   "metadata": {},
   "outputs": [
    {
     "data": {
      "text/plain": [
       "'CREATE TABLE PUBLIC.MOVIE ( \"INDEX\" TEXT, Name TEXT, Year INTEGER, Duration INTEGER, Genre TEXT, Rating FLOAT, Votes INTEGER, Director TEXT, Actor1 TEXT, Actor2 TEXT, Actor3 TEXT);'"
      ]
     },
     "execution_count": 5,
     "metadata": {},
     "output_type": "execute_result"
    }
   ],
   "source": [
    "sql = [\n",
    "    'CREATE TABLE PUBLIC.MOVIE (',\n",
    "    '\"INDEX\" TEXT,',\n",
    "    'Name TEXT,',\n",
    "    'Year INTEGER,',\n",
    "    'Duration INTEGER,',\n",
    "    'Genre TEXT,',\n",
    "    'Rating FLOAT,',#real vs float\n",
    "    'Votes INTEGER,',\n",
    "    'Director TEXT,',\n",
    "    'Actor1 TEXT,',\n",
    "    'Actor2 TEXT,',\n",
    "    'Actor3 TEXT'\n",
    "     ');'\n",
    "]\n",
    "\n",
    "' '.join(sql)"
   ]
  },
  {
   "cell_type": "markdown",
   "id": "83af50b6",
   "metadata": {},
   "source": [
    "<h3>2.此 SQL 資料庫表格需要衍生一個索引欄位，規則為：MOV0001，後四碼為序號。</h3>"
   ]
  },
  {
   "cell_type": "code",
   "execution_count": null,
   "id": "9b16d455",
   "metadata": {},
   "outputs": [
    {
     "data": {
      "text/html": [
       "<div>\n",
       "<style scoped>\n",
       "    .dataframe tbody tr th:only-of-type {\n",
       "        vertical-align: middle;\n",
       "    }\n",
       "\n",
       "    .dataframe tbody tr th {\n",
       "        vertical-align: top;\n",
       "    }\n",
       "\n",
       "    .dataframe thead th {\n",
       "        text-align: right;\n",
       "    }\n",
       "</style>\n",
       "<table border=\"1\" class=\"dataframe\">\n",
       "  <thead>\n",
       "    <tr style=\"text-align: right;\">\n",
       "      <th></th>\n",
       "      <th>Name</th>\n",
       "      <th>Year</th>\n",
       "      <th>Duration</th>\n",
       "      <th>Genre</th>\n",
       "      <th>Rating</th>\n",
       "      <th>Votes</th>\n",
       "      <th>Director</th>\n",
       "      <th>Actor 1</th>\n",
       "      <th>Actor 2</th>\n",
       "      <th>Actor 3</th>\n",
       "      <th>indexx</th>\n",
       "    </tr>\n",
       "  </thead>\n",
       "  <tbody>\n",
       "    <tr>\n",
       "      <th>0</th>\n",
       "      <td>#Gadhvi (He thought he was Gandhi)</td>\n",
       "      <td>2019</td>\n",
       "      <td>109</td>\n",
       "      <td>Drama</td>\n",
       "      <td>7.0</td>\n",
       "      <td>8</td>\n",
       "      <td>Gaurav Bakshi</td>\n",
       "      <td>Rasika Dugal</td>\n",
       "      <td>Vivek Ghamande</td>\n",
       "      <td>Arvind Jangid</td>\n",
       "      <td>MOV0001</td>\n",
       "    </tr>\n",
       "    <tr>\n",
       "      <th>1</th>\n",
       "      <td>#Yaaram</td>\n",
       "      <td>2019</td>\n",
       "      <td>110</td>\n",
       "      <td>Comedy, Romance</td>\n",
       "      <td>4.4</td>\n",
       "      <td>35</td>\n",
       "      <td>Ovais Khan</td>\n",
       "      <td>Prateik</td>\n",
       "      <td>Ishita Raj</td>\n",
       "      <td>Siddhant Kapoor</td>\n",
       "      <td>MOV0002</td>\n",
       "    </tr>\n",
       "    <tr>\n",
       "      <th>2</th>\n",
       "      <td>...Aur Pyaar Ho Gaya</td>\n",
       "      <td>1997</td>\n",
       "      <td>147</td>\n",
       "      <td>Comedy, Drama, Musical</td>\n",
       "      <td>4.7</td>\n",
       "      <td>827</td>\n",
       "      <td>Rahul Rawail</td>\n",
       "      <td>Bobby Deol</td>\n",
       "      <td>Aishwarya Rai Bachchan</td>\n",
       "      <td>Shammi Kapoor</td>\n",
       "      <td>MOV0003</td>\n",
       "    </tr>\n",
       "    <tr>\n",
       "      <th>3</th>\n",
       "      <td>...Yahaan</td>\n",
       "      <td>2005</td>\n",
       "      <td>142</td>\n",
       "      <td>Drama, Romance, War</td>\n",
       "      <td>7.4</td>\n",
       "      <td>1086</td>\n",
       "      <td>Shoojit Sircar</td>\n",
       "      <td>Jimmy Sheirgill</td>\n",
       "      <td>Minissha Lamba</td>\n",
       "      <td>Yashpal Sharma</td>\n",
       "      <td>MOV0004</td>\n",
       "    </tr>\n",
       "    <tr>\n",
       "      <th>4</th>\n",
       "      <td>?: A Question Mark</td>\n",
       "      <td>2012</td>\n",
       "      <td>82</td>\n",
       "      <td>Horror, Mystery, Thriller</td>\n",
       "      <td>5.6</td>\n",
       "      <td>326</td>\n",
       "      <td>Allyson Patel</td>\n",
       "      <td>Yash Dave</td>\n",
       "      <td>Muntazir Ahmad</td>\n",
       "      <td>Kiran Bhatia</td>\n",
       "      <td>MOV0005</td>\n",
       "    </tr>\n",
       "  </tbody>\n",
       "</table>\n",
       "</div>"
      ],
      "text/plain": [
       "                                 Name  Year  Duration  \\\n",
       "0  #Gadhvi (He thought he was Gandhi)  2019       109   \n",
       "1                             #Yaaram  2019       110   \n",
       "2                ...Aur Pyaar Ho Gaya  1997       147   \n",
       "3                           ...Yahaan  2005       142   \n",
       "4                  ?: A Question Mark  2012        82   \n",
       "\n",
       "                       Genre  Rating  Votes        Director          Actor 1  \\\n",
       "0                      Drama     7.0      8   Gaurav Bakshi     Rasika Dugal   \n",
       "1            Comedy, Romance     4.4     35      Ovais Khan          Prateik   \n",
       "2     Comedy, Drama, Musical     4.7    827    Rahul Rawail       Bobby Deol   \n",
       "3        Drama, Romance, War     7.4   1086  Shoojit Sircar  Jimmy Sheirgill   \n",
       "4  Horror, Mystery, Thriller     5.6    326   Allyson Patel        Yash Dave   \n",
       "\n",
       "                  Actor 2          Actor 3   indexx  \n",
       "0          Vivek Ghamande    Arvind Jangid  MOV0001  \n",
       "1              Ishita Raj  Siddhant Kapoor  MOV0002  \n",
       "2  Aishwarya Rai Bachchan    Shammi Kapoor  MOV0003  \n",
       "3          Minissha Lamba   Yashpal Sharma  MOV0004  \n",
       "4          Muntazir Ahmad     Kiran Bhatia  MOV0005  "
      ]
     },
     "execution_count": 6,
     "metadata": {},
     "output_type": "execute_result"
    }
   ],
   "source": [
    "empty = []\n",
    "for i in range(dataset.shape[0]):\n",
    "    word = 'MOV%04d' %(i+1)\n",
    "    empty.append(word)\n",
    "dataset['indexx'] = empty\n",
    "dataset.head()"
   ]
  },
  {
   "cell_type": "markdown",
   "id": "3580dcbf",
   "metadata": {},
   "source": [
    "<h3>3.撰寫 Python 程式，逐筆產生 SQL INSERT 語句，將此 CSV 匯入該SQL 資料庫表格中。</h3>"
   ]
  },
  {
   "cell_type": "code",
   "execution_count": null,
   "id": "6235391e",
   "metadata": {},
   "outputs": [],
   "source": [
    "dbConnection = jaydebeapi.connect(\n",
    "    \"org.h2.Driver\",\n",
    "    \"jdbc:h2:C:\\Projects\\DB\\data\\H2\",\n",
    "    [\"SA\", \"\"],\n",
    "    \"C:/Java/h2/bin/h2-1.4.200.jar\"\n",
    ")\n",
    "\n",
    "dbCursor = dbConnection.cursor()"
   ]
  },
  {
   "cell_type": "code",
   "execution_count": null,
   "id": "0a306961",
   "metadata": {},
   "outputs": [],
   "source": [
    "_sql = 'TRUNCATE TABLE PUBLIC.MOVIE'\n",
    "dbCursor.execute(_sql)"
   ]
  },
  {
   "cell_type": "code",
   "execution_count": null,
   "id": "01014ba0",
   "metadata": {},
   "outputs": [],
   "source": [
    "_sql_0 = 'INSERT INTO PUBLIC.MOVIE (\"INDEX\", NAME, \"YEAR\", DURATION, GENRE, RATING, VOTES, DIRECTOR, ACTOR1, ACTOR2, ACTOR3) VALUES('"
   ]
  },
  {
   "cell_type": "code",
   "execution_count": null,
   "id": "c4975d8f",
   "metadata": {},
   "outputs": [],
   "source": [
    "for i in range(dataset.shape[0]):\n",
    "    row = dataset.iloc[i].values\n",
    "\n",
    "    _sql = [\n",
    "        \"'%s'\"   % row[-1],#index\n",
    "        \"'%s'\"   % row[0].replace('\\n', ' ').replace(\"'\", \"''\"), #name\n",
    "        '%d'     % row[1],#year\n",
    "        '%d'     % row[2],#duration\n",
    "        \"'%s'\"   % row[3],#genre\n",
    "        '%f'     % row[4],#rating\n",
    "        '%d'     % row[5],#votes\n",
    "        \"'%s'\"   % row[6].replace('\\n', ' ').replace(\"'\", \"''\"), #DIRECTOR\n",
    "        \"'%s'\"   % row[7].replace('\\n', ' ').replace(\"'\", \"''\"), #ACTOR1\n",
    "        \"'%s'\"   % row[8].replace('\\n', ' ').replace(\"'\", \"''\"), #ACTOR2\n",
    "        \"'%s'\"   % row[9].replace('\\n', ' ').replace(\"'\", \"''\")  #ACTOR3\n",
    "    ]\n",
    "    \n",
    "    _sql_final = _sql_0 + (','.join(_sql)) + ');'\n",
    "    dbCursor.execute(_sql_final)"
   ]
  },
  {
   "cell_type": "markdown",
   "id": "fad3ae22",
   "metadata": {},
   "source": [
    "<h3>4.設計一個 AQL 資料文件 JSON 格式，欲將此 CSV 匯入，記錄在 Jupyter Markdown 中。</h3>"
   ]
  },
  {
   "cell_type": "code",
   "execution_count": null,
   "id": "d8d0e23a",
   "metadata": {},
   "outputs": [],
   "source": [
    "data_path = 'data'\n",
    "csv_file = '%s/movies_data.csv' % data_path\n",
    "dataset = pandas.read_csv(csv_file)"
   ]
  },
  {
   "cell_type": "code",
   "execution_count": null,
   "id": "39b4462c",
   "metadata": {},
   "outputs": [],
   "source": [
    "aql = ['INSERT {',\n",
    "       '_key: \"%s\"'       % dataset.index[i] ,\n",
    "       ',Name: \"%s\"'      % dataset[\"Name\"][i],\n",
    "        ',Year: \"%4d\"'     % dataset[\"Year\"][i],\n",
    "        ',Duration: \"%d\"'  % dataset[\"Duration\"][i],\n",
    "        ',Genre: \"%s\"'     % dataset[\"Genre\"][i],\n",
    "        ',Rating: \"%.1f\"'  % dataset[\"Rating\"][i],\n",
    "        ',Votes: \"%d\"'     % dataset[\"Votes\"][i],\n",
    "        ',Director: \"%s\"'  % dataset[\"Director\"][i],\n",
    "        ',Actor1: \"%s\"'    % dataset[\"Actor 1\"][i],\n",
    "        ',Actor2: \"%s\"'    % dataset[\"Actor 2\"][i],\n",
    "        ',Actor3: \"%s\"'    % dataset[\"Actor 3\"][i],\n",
    "        '} INTO final1 OPTIONS { ignoreErrors: true }']"
   ]
  },
  {
   "cell_type": "markdown",
   "id": "a6d8a3e1",
   "metadata": {},
   "source": [
    "<h3>5.此 AQL 資料文件之索引規則為：MOV0001，後四碼為序號。</h3>"
   ]
  },
  {
   "cell_type": "code",
   "execution_count": null,
   "id": "ef8ace5e",
   "metadata": {},
   "outputs": [
    {
     "data": {
      "text/html": [
       "<div>\n",
       "<style scoped>\n",
       "    .dataframe tbody tr th:only-of-type {\n",
       "        vertical-align: middle;\n",
       "    }\n",
       "\n",
       "    .dataframe tbody tr th {\n",
       "        vertical-align: top;\n",
       "    }\n",
       "\n",
       "    .dataframe thead th {\n",
       "        text-align: right;\n",
       "    }\n",
       "</style>\n",
       "<table border=\"1\" class=\"dataframe\">\n",
       "  <thead>\n",
       "    <tr style=\"text-align: right;\">\n",
       "      <th></th>\n",
       "      <th>Name</th>\n",
       "      <th>Year</th>\n",
       "      <th>Duration</th>\n",
       "      <th>Genre</th>\n",
       "      <th>Rating</th>\n",
       "      <th>Votes</th>\n",
       "      <th>Director</th>\n",
       "      <th>Actor 1</th>\n",
       "      <th>Actor 2</th>\n",
       "      <th>Actor 3</th>\n",
       "    </tr>\n",
       "  </thead>\n",
       "  <tbody>\n",
       "    <tr>\n",
       "      <th>MOV0001</th>\n",
       "      <td>#Gadhvi (He thought he was Gandhi)</td>\n",
       "      <td>2019</td>\n",
       "      <td>109</td>\n",
       "      <td>Drama</td>\n",
       "      <td>7.0</td>\n",
       "      <td>8</td>\n",
       "      <td>Gaurav Bakshi</td>\n",
       "      <td>Rasika Dugal</td>\n",
       "      <td>Vivek Ghamande</td>\n",
       "      <td>Arvind Jangid</td>\n",
       "    </tr>\n",
       "    <tr>\n",
       "      <th>MOV0002</th>\n",
       "      <td>#Yaaram</td>\n",
       "      <td>2019</td>\n",
       "      <td>110</td>\n",
       "      <td>Comedy, Romance</td>\n",
       "      <td>4.4</td>\n",
       "      <td>35</td>\n",
       "      <td>Ovais Khan</td>\n",
       "      <td>Prateik</td>\n",
       "      <td>Ishita Raj</td>\n",
       "      <td>Siddhant Kapoor</td>\n",
       "    </tr>\n",
       "    <tr>\n",
       "      <th>MOV0003</th>\n",
       "      <td>...Aur Pyaar Ho Gaya</td>\n",
       "      <td>1997</td>\n",
       "      <td>147</td>\n",
       "      <td>Comedy, Drama, Musical</td>\n",
       "      <td>4.7</td>\n",
       "      <td>827</td>\n",
       "      <td>Rahul Rawail</td>\n",
       "      <td>Bobby Deol</td>\n",
       "      <td>Aishwarya Rai Bachchan</td>\n",
       "      <td>Shammi Kapoor</td>\n",
       "    </tr>\n",
       "    <tr>\n",
       "      <th>MOV0004</th>\n",
       "      <td>...Yahaan</td>\n",
       "      <td>2005</td>\n",
       "      <td>142</td>\n",
       "      <td>Drama, Romance, War</td>\n",
       "      <td>7.4</td>\n",
       "      <td>1086</td>\n",
       "      <td>Shoojit Sircar</td>\n",
       "      <td>Jimmy Sheirgill</td>\n",
       "      <td>Minissha Lamba</td>\n",
       "      <td>Yashpal Sharma</td>\n",
       "    </tr>\n",
       "    <tr>\n",
       "      <th>MOV0005</th>\n",
       "      <td>?: A Question Mark</td>\n",
       "      <td>2012</td>\n",
       "      <td>82</td>\n",
       "      <td>Horror, Mystery, Thriller</td>\n",
       "      <td>5.6</td>\n",
       "      <td>326</td>\n",
       "      <td>Allyson Patel</td>\n",
       "      <td>Yash Dave</td>\n",
       "      <td>Muntazir Ahmad</td>\n",
       "      <td>Kiran Bhatia</td>\n",
       "    </tr>\n",
       "  </tbody>\n",
       "</table>\n",
       "</div>"
      ],
      "text/plain": [
       "                                       Name  Year  Duration  \\\n",
       "MOV0001  #Gadhvi (He thought he was Gandhi)  2019       109   \n",
       "MOV0002                             #Yaaram  2019       110   \n",
       "MOV0003                ...Aur Pyaar Ho Gaya  1997       147   \n",
       "MOV0004                           ...Yahaan  2005       142   \n",
       "MOV0005                  ?: A Question Mark  2012        82   \n",
       "\n",
       "                             Genre  Rating  Votes        Director  \\\n",
       "MOV0001                      Drama     7.0      8   Gaurav Bakshi   \n",
       "MOV0002            Comedy, Romance     4.4     35      Ovais Khan   \n",
       "MOV0003     Comedy, Drama, Musical     4.7    827    Rahul Rawail   \n",
       "MOV0004        Drama, Romance, War     7.4   1086  Shoojit Sircar   \n",
       "MOV0005  Horror, Mystery, Thriller     5.6    326   Allyson Patel   \n",
       "\n",
       "                 Actor 1                 Actor 2          Actor 3  \n",
       "MOV0001     Rasika Dugal          Vivek Ghamande    Arvind Jangid  \n",
       "MOV0002          Prateik              Ishita Raj  Siddhant Kapoor  \n",
       "MOV0003       Bobby Deol  Aishwarya Rai Bachchan    Shammi Kapoor  \n",
       "MOV0004  Jimmy Sheirgill          Minissha Lamba   Yashpal Sharma  \n",
       "MOV0005        Yash Dave          Muntazir Ahmad     Kiran Bhatia  "
      ]
     },
     "execution_count": 13,
     "metadata": {},
     "output_type": "execute_result"
    }
   ],
   "source": [
    "empty = []\n",
    "for i in range(dataset.shape[0]):\n",
    "    word = 'MOV%04d' %(i+1)\n",
    "    empty.append(word)\n",
    "dataset.index = empty\n",
    "dataset.head()"
   ]
  },
  {
   "cell_type": "markdown",
   "id": "6106e2cc",
   "metadata": {},
   "source": [
    "<h3>6.撰寫 Python 程式，逐筆產生 AQL INSERT 語句，將此 CSV 匯入該 AQL 資料文件中。</h3>"
   ]
  },
  {
   "cell_type": "code",
   "execution_count": null,
   "id": "1c3cc70b",
   "metadata": {},
   "outputs": [],
   "source": [
    "db_conn_target = Connection(\n",
    "        arangoURL='http://127.0.0.1:8529',\n",
    "        username='emprogria',\n",
    "        password='alex1314')"
   ]
  },
  {
   "cell_type": "code",
   "execution_count": null,
   "id": "6439bc40",
   "metadata": {},
   "outputs": [],
   "source": [
    "db = db_conn_target['Emprogria']\n",
    "db_collection = db.collections['final1']"
   ]
  },
  {
   "cell_type": "code",
   "execution_count": null,
   "id": "0c90333e",
   "metadata": {},
   "outputs": [],
   "source": [
    "aql = 'FOR u IN final1  REMOVE u IN final1'"
   ]
  },
  {
   "cell_type": "code",
   "execution_count": null,
   "id": "ed4f8ea1",
   "metadata": {},
   "outputs": [],
   "source": [
    "sub_collections = db.AQLQuery(aql, rawResults=False)"
   ]
  },
  {
   "cell_type": "code",
   "execution_count": null,
   "id": "e828825a",
   "metadata": {},
   "outputs": [],
   "source": [
    "for i in range(dataset.shape[0]):\n",
    "    aql = ['INSERT {',\n",
    "           '_key: \"%s\"'       % dataset.index[i] ,\n",
    "           ',Name: \"%s\"'      % dataset[\"Name\"][i],\n",
    "           ',Year: \"%4d\"'     % dataset[\"Year\"][i],\n",
    "           ',Duration: \"%d\"'  % dataset[\"Duration\"][i],\n",
    "           ',Genre: \"%s\"'     % dataset[\"Genre\"][i],\n",
    "           ',Rating: \"%.1f\"'  % dataset[\"Rating\"][i],\n",
    "           ',Votes: \"%d\"'     % dataset[\"Votes\"][i],\n",
    "           ',Director: \"%s\"'  % dataset[\"Director\"][i],\n",
    "           ',Actor1: \"%s\"'    % dataset[\"Actor 1\"][i],\n",
    "           ',Actor2: \"%s\"'    % dataset[\"Actor 2\"][i],\n",
    "           ',Actor3: \"%s\"'    % dataset[\"Actor 3\"][i],\n",
    "           '} INTO final1 OPTIONS { ignoreErrors: true }']\n",
    "    _aql = ''.join(aql)\n",
    "    sub_collections = db.AQLQuery(_aql, rawResults=False)"
   ]
  },
  {
   "cell_type": "markdown",
   "id": "d731b1c9",
   "metadata": {},
   "source": [
    "<h3>7.撰寫 SQL AGGREATION 語句，計算各 Genre 中之樣本數，記錄在 Jupyter Markdown 中。</h3>"
   ]
  },
  {
   "cell_type": "code",
   "execution_count": null,
   "id": "0ab958e1",
   "metadata": {},
   "outputs": [
    {
     "data": {
      "text/plain": [
       "'SELECT Genre,COUNT(Genre) AS sum FROM PUBLIC.MOVIE GROUP BY Genre'"
      ]
     },
     "execution_count": 19,
     "metadata": {},
     "output_type": "execute_result"
    }
   ],
   "source": [
    "sql = [\n",
    "    \"SELECT Genre,COUNT(Genre) AS sum\",\n",
    "    \"FROM PUBLIC.MOVIE\",\n",
    "    \"GROUP BY Genre\"\n",
    "]  \n",
    "' '.join(sql)"
   ]
  },
  {
   "cell_type": "markdown",
   "id": "e7d159a5",
   "metadata": {},
   "source": [
    "<h3>8.撰寫 Python 程式，調用此 SQL AGGREATION 語句，並顯示結果。</h3>"
   ]
  },
  {
   "cell_type": "code",
   "execution_count": null,
   "id": "39a082ee",
   "metadata": {},
   "outputs": [
    {
     "data": {
      "text/html": [
       "<div>\n",
       "<style scoped>\n",
       "    .dataframe tbody tr th:only-of-type {\n",
       "        vertical-align: middle;\n",
       "    }\n",
       "\n",
       "    .dataframe tbody tr th {\n",
       "        vertical-align: top;\n",
       "    }\n",
       "\n",
       "    .dataframe thead th {\n",
       "        text-align: right;\n",
       "    }\n",
       "</style>\n",
       "<table border=\"1\" class=\"dataframe\">\n",
       "  <thead>\n",
       "    <tr style=\"text-align: right;\">\n",
       "      <th></th>\n",
       "      <th>SUM</th>\n",
       "    </tr>\n",
       "    <tr>\n",
       "      <th>GENRE</th>\n",
       "      <th></th>\n",
       "    </tr>\n",
       "  </thead>\n",
       "  <tbody>\n",
       "    <tr>\n",
       "      <th>clob0: 'Action'</th>\n",
       "      <td>170</td>\n",
       "    </tr>\n",
       "    <tr>\n",
       "      <th>clob1: 'Action, Adventure'</th>\n",
       "      <td>17</td>\n",
       "    </tr>\n",
       "    <tr>\n",
       "      <th>clob2: 'Action, Adventure, Biography'</th>\n",
       "      <td>1</td>\n",
       "    </tr>\n",
       "    <tr>\n",
       "      <th>clob3: 'Action, Adventure, Comedy'</th>\n",
       "      <td>37</td>\n",
       "    </tr>\n",
       "    <tr>\n",
       "      <th>clob4: 'Action, Adventure, Crime'</th>\n",
       "      <td>9</td>\n",
       "    </tr>\n",
       "  </tbody>\n",
       "</table>\n",
       "</div>"
      ],
      "text/plain": [
       "                                       SUM\n",
       "GENRE                                     \n",
       "clob0: 'Action'                        170\n",
       "clob1: 'Action, Adventure'              17\n",
       "clob2: 'Action, Adventure, Biography'    1\n",
       "clob3: 'Action, Adventure, Comedy'      37\n",
       "clob4: 'Action, Adventure, Crime'        9"
      ]
     },
     "execution_count": 20,
     "metadata": {},
     "output_type": "execute_result"
    }
   ],
   "source": [
    "dbCursor.execute(' '.join(sql))\n",
    "resultSet = dbCursor.fetchall()\n",
    "\n",
    "rows = {\n",
    "    'GENRE': [],\n",
    "    'SUM': []\n",
    "}\n",
    "\n",
    "for row in resultSet:\n",
    "    rows['GENRE'].append(row[0])\n",
    "    rows['SUM'].append(row[1])\n",
    "\n",
    "df = pandas.DataFrame(data=rows).set_index(['GENRE'])\n",
    "\n",
    "df.head()"
   ]
  },
  {
   "cell_type": "markdown",
   "id": "8c564562",
   "metadata": {},
   "source": [
    "<h3>9.撰寫 AQL AGGREATION 語句，計算各 Genre 中之樣本數，記錄在 Jupyter Markdown 中。</h3>"
   ]
  },
  {
   "cell_type": "code",
   "execution_count": null,
   "id": "a9c23406",
   "metadata": {},
   "outputs": [],
   "source": [
    "aql = 'FOR doc IN final1 COLLECT Genre = doc.`Genre` AGGREGATE Total = COUNT(doc.`Genre`) RETURN { \"GENRE\": Genre, \"TOTAL\": Total}'"
   ]
  },
  {
   "cell_type": "markdown",
   "id": "3b7381b6",
   "metadata": {},
   "source": [
    "<h3>10.撰寫 Python 程式，調用此 AQL AGGREATION 語句，並顯示結果。</h3>"
   ]
  },
  {
   "cell_type": "code",
   "execution_count": null,
   "id": "637f9774",
   "metadata": {},
   "outputs": [
    {
     "data": {
      "text/html": [
       "<div>\n",
       "<style scoped>\n",
       "    .dataframe tbody tr th:only-of-type {\n",
       "        vertical-align: middle;\n",
       "    }\n",
       "\n",
       "    .dataframe tbody tr th {\n",
       "        vertical-align: top;\n",
       "    }\n",
       "\n",
       "    .dataframe thead th {\n",
       "        text-align: right;\n",
       "    }\n",
       "</style>\n",
       "<table border=\"1\" class=\"dataframe\">\n",
       "  <thead>\n",
       "    <tr style=\"text-align: right;\">\n",
       "      <th></th>\n",
       "      <th>TOTAL</th>\n",
       "    </tr>\n",
       "    <tr>\n",
       "      <th>GENRE</th>\n",
       "      <th></th>\n",
       "    </tr>\n",
       "  </thead>\n",
       "  <tbody>\n",
       "    <tr>\n",
       "      <th>Action</th>\n",
       "      <td>170</td>\n",
       "    </tr>\n",
       "    <tr>\n",
       "      <th>Action, Adventure</th>\n",
       "      <td>17</td>\n",
       "    </tr>\n",
       "    <tr>\n",
       "      <th>Action, Adventure, Biography</th>\n",
       "      <td>1</td>\n",
       "    </tr>\n",
       "    <tr>\n",
       "      <th>Action, Adventure, Comedy</th>\n",
       "      <td>37</td>\n",
       "    </tr>\n",
       "    <tr>\n",
       "      <th>Action, Adventure, Crime</th>\n",
       "      <td>9</td>\n",
       "    </tr>\n",
       "  </tbody>\n",
       "</table>\n",
       "</div>"
      ],
      "text/plain": [
       "                              TOTAL\n",
       "GENRE                              \n",
       "Action                          170\n",
       "Action, Adventure                17\n",
       "Action, Adventure, Biography      1\n",
       "Action, Adventure, Comedy        37\n",
       "Action, Adventure, Crime          9"
      ]
     },
     "execution_count": 22,
     "metadata": {},
     "output_type": "execute_result"
    }
   ],
   "source": [
    "sub_collections = db.AQLQuery(aql, rawResults=False, batchSize=dataset.shape[0])\n",
    "queryResult = sub_collections.response['result']\n",
    "\n",
    "df = pandas.DataFrame(queryResult).set_index(['GENRE'])\n",
    "\n",
    "df.head()"
   ]
  },
  {
   "cell_type": "markdown",
   "id": "b7f655df",
   "metadata": {},
   "source": [
    "<h3>11.撰寫 SQL AGGREATION 語句，計算各 Rating 中之樣本數，記錄在 Jupyter Markdown 中。</h3>"
   ]
  },
  {
   "cell_type": "code",
   "execution_count": null,
   "id": "152ab55e",
   "metadata": {},
   "outputs": [
    {
     "data": {
      "text/plain": [
       "'SELECT Rating,COUNT(Rating) AS sum FROM PUBLIC.MOVIE GROUP BY Rating'"
      ]
     },
     "execution_count": 23,
     "metadata": {},
     "output_type": "execute_result"
    }
   ],
   "source": [
    "sql = [\n",
    "    \"SELECT Rating,COUNT(Rating) AS sum\",\n",
    "    \"FROM PUBLIC.MOVIE\",\n",
    "    \"GROUP BY Rating\"\n",
    "]  \n",
    "' '.join(sql)"
   ]
  },
  {
   "cell_type": "markdown",
   "id": "df75f9d5",
   "metadata": {},
   "source": [
    "<h3>12.撰寫 Python 程式，調用此 SQL AGGREATION 語句，並顯示結果。</h3>"
   ]
  },
  {
   "cell_type": "code",
   "execution_count": null,
   "id": "a772dc12",
   "metadata": {},
   "outputs": [
    {
     "data": {
      "text/html": [
       "<div>\n",
       "<style scoped>\n",
       "    .dataframe tbody tr th:only-of-type {\n",
       "        vertical-align: middle;\n",
       "    }\n",
       "\n",
       "    .dataframe tbody tr th {\n",
       "        vertical-align: top;\n",
       "    }\n",
       "\n",
       "    .dataframe thead th {\n",
       "        text-align: right;\n",
       "    }\n",
       "</style>\n",
       "<table border=\"1\" class=\"dataframe\">\n",
       "  <thead>\n",
       "    <tr style=\"text-align: right;\">\n",
       "      <th></th>\n",
       "      <th>SUM</th>\n",
       "    </tr>\n",
       "    <tr>\n",
       "      <th>RATING</th>\n",
       "      <th></th>\n",
       "    </tr>\n",
       "  </thead>\n",
       "  <tbody>\n",
       "    <tr>\n",
       "      <th>1.1</th>\n",
       "      <td>1</td>\n",
       "    </tr>\n",
       "    <tr>\n",
       "      <th>1.4</th>\n",
       "      <td>1</td>\n",
       "    </tr>\n",
       "    <tr>\n",
       "      <th>1.6</th>\n",
       "      <td>2</td>\n",
       "    </tr>\n",
       "    <tr>\n",
       "      <th>1.7</th>\n",
       "      <td>5</td>\n",
       "    </tr>\n",
       "    <tr>\n",
       "      <th>1.8</th>\n",
       "      <td>4</td>\n",
       "    </tr>\n",
       "  </tbody>\n",
       "</table>\n",
       "</div>"
      ],
      "text/plain": [
       "        SUM\n",
       "RATING     \n",
       "1.1       1\n",
       "1.4       1\n",
       "1.6       2\n",
       "1.7       5\n",
       "1.8       4"
      ]
     },
     "execution_count": 24,
     "metadata": {},
     "output_type": "execute_result"
    }
   ],
   "source": [
    "dbCursor.execute(' '.join(sql))\n",
    "resultSet = dbCursor.fetchall()\n",
    "\n",
    "rows = {\n",
    "    'RATING': [],\n",
    "    'SUM': []\n",
    "}\n",
    "\n",
    "for row in resultSet:\n",
    "    rows['RATING'].append(row[0])\n",
    "    rows['SUM'].append(row[1])\n",
    "\n",
    "df = pandas.DataFrame(data=rows).set_index(['RATING'])\n",
    "\n",
    "df.head()"
   ]
  },
  {
   "cell_type": "markdown",
   "id": "eeafb2a1",
   "metadata": {},
   "source": [
    "<h3>13.撰寫 AQL AGGREATION 語句，計算各 Rating 中之樣本數，記錄在 Jupyter Markdown 中。</h3>"
   ]
  },
  {
   "cell_type": "code",
   "execution_count": null,
   "id": "70058bf8",
   "metadata": {},
   "outputs": [],
   "source": [
    "aql = 'FOR doc IN final1 COLLECT Rating = doc.`Rating` AGGREGATE Total = COUNT(doc.`Rating`) RETURN { \"RATING\": Rating, \"TOTAL\": Total}'"
   ]
  },
  {
   "cell_type": "markdown",
   "id": "4744b59f",
   "metadata": {},
   "source": [
    "<h3>14.撰寫 Python 程式，調用此 AQL AGGREATION 語句，並顯示結果。</h3>"
   ]
  },
  {
   "cell_type": "code",
   "execution_count": null,
   "id": "e1bc74dd",
   "metadata": {},
   "outputs": [
    {
     "data": {
      "text/html": [
       "<div>\n",
       "<style scoped>\n",
       "    .dataframe tbody tr th:only-of-type {\n",
       "        vertical-align: middle;\n",
       "    }\n",
       "\n",
       "    .dataframe tbody tr th {\n",
       "        vertical-align: top;\n",
       "    }\n",
       "\n",
       "    .dataframe thead th {\n",
       "        text-align: right;\n",
       "    }\n",
       "</style>\n",
       "<table border=\"1\" class=\"dataframe\">\n",
       "  <thead>\n",
       "    <tr style=\"text-align: right;\">\n",
       "      <th></th>\n",
       "      <th>TOTAL</th>\n",
       "    </tr>\n",
       "    <tr>\n",
       "      <th>RATING</th>\n",
       "      <th></th>\n",
       "    </tr>\n",
       "  </thead>\n",
       "  <tbody>\n",
       "    <tr>\n",
       "      <th>1.1</th>\n",
       "      <td>1</td>\n",
       "    </tr>\n",
       "    <tr>\n",
       "      <th>1.4</th>\n",
       "      <td>1</td>\n",
       "    </tr>\n",
       "    <tr>\n",
       "      <th>1.6</th>\n",
       "      <td>2</td>\n",
       "    </tr>\n",
       "    <tr>\n",
       "      <th>1.7</th>\n",
       "      <td>5</td>\n",
       "    </tr>\n",
       "    <tr>\n",
       "      <th>1.8</th>\n",
       "      <td>4</td>\n",
       "    </tr>\n",
       "  </tbody>\n",
       "</table>\n",
       "</div>"
      ],
      "text/plain": [
       "        TOTAL\n",
       "RATING       \n",
       "1.1         1\n",
       "1.4         1\n",
       "1.6         2\n",
       "1.7         5\n",
       "1.8         4"
      ]
     },
     "execution_count": 26,
     "metadata": {},
     "output_type": "execute_result"
    }
   ],
   "source": [
    "sub_collections = db.AQLQuery(aql, rawResults=False, batchSize=dataset.shape[0])\n",
    "queryResult = sub_collections.response['result']\n",
    "\n",
    "df = pandas.DataFrame(queryResult).set_index(['RATING'])\n",
    "\n",
    "df.head()"
   ]
  },
  {
   "cell_type": "markdown",
   "id": "34957b33",
   "metadata": {},
   "source": [
    "<h3>15.撰寫 Python 分析程式，哪些 Director 所拍攝電影之 Rating 最高。</h3>"
   ]
  },
  {
   "cell_type": "code",
   "execution_count": null,
   "id": "5dbe80f5",
   "metadata": {},
   "outputs": [
    {
     "data": {
      "text/html": [
       "<div>\n",
       "<style scoped>\n",
       "    .dataframe tbody tr th:only-of-type {\n",
       "        vertical-align: middle;\n",
       "    }\n",
       "\n",
       "    .dataframe tbody tr th {\n",
       "        vertical-align: top;\n",
       "    }\n",
       "\n",
       "    .dataframe thead th {\n",
       "        text-align: right;\n",
       "    }\n",
       "</style>\n",
       "<table border=\"1\" class=\"dataframe\">\n",
       "  <thead>\n",
       "    <tr style=\"text-align: right;\">\n",
       "      <th></th>\n",
       "      <th>mean</th>\n",
       "      <th>count</th>\n",
       "    </tr>\n",
       "    <tr>\n",
       "      <th>Director</th>\n",
       "      <th></th>\n",
       "      <th></th>\n",
       "    </tr>\n",
       "  </thead>\n",
       "  <tbody>\n",
       "    <tr>\n",
       "      <th>Saif Ali Sayeed</th>\n",
       "      <td>10.0</td>\n",
       "      <td>1</td>\n",
       "    </tr>\n",
       "    <tr>\n",
       "      <th>Sriram Raja</th>\n",
       "      <td>9.7</td>\n",
       "      <td>1</td>\n",
       "    </tr>\n",
       "    <tr>\n",
       "      <th>Munni Pankaj</th>\n",
       "      <td>9.4</td>\n",
       "      <td>1</td>\n",
       "    </tr>\n",
       "    <tr>\n",
       "      <th>Suhrud Godbole</th>\n",
       "      <td>9.4</td>\n",
       "      <td>1</td>\n",
       "    </tr>\n",
       "    <tr>\n",
       "      <th>Arvind Pratap</th>\n",
       "      <td>9.4</td>\n",
       "      <td>1</td>\n",
       "    </tr>\n",
       "    <tr>\n",
       "      <th>...</th>\n",
       "      <td>...</td>\n",
       "      <td>...</td>\n",
       "    </tr>\n",
       "    <tr>\n",
       "      <th>Navin Batra</th>\n",
       "      <td>1.9</td>\n",
       "      <td>1</td>\n",
       "    </tr>\n",
       "    <tr>\n",
       "      <th>Raajeev Walia</th>\n",
       "      <td>1.8</td>\n",
       "      <td>1</td>\n",
       "    </tr>\n",
       "    <tr>\n",
       "      <th>Stanley D'Costa</th>\n",
       "      <td>1.8</td>\n",
       "      <td>1</td>\n",
       "    </tr>\n",
       "    <tr>\n",
       "      <th>Pramod Mandloi</th>\n",
       "      <td>1.7</td>\n",
       "      <td>1</td>\n",
       "    </tr>\n",
       "    <tr>\n",
       "      <th>Sachindra Sharma</th>\n",
       "      <td>1.6</td>\n",
       "      <td>1</td>\n",
       "    </tr>\n",
       "  </tbody>\n",
       "</table>\n",
       "<p>2431 rows × 2 columns</p>\n",
       "</div>"
      ],
      "text/plain": [
       "                  mean  count\n",
       "Director                     \n",
       "Saif Ali Sayeed   10.0      1\n",
       "Sriram Raja        9.7      1\n",
       "Munni Pankaj       9.4      1\n",
       "Suhrud Godbole     9.4      1\n",
       "Arvind Pratap      9.4      1\n",
       "...                ...    ...\n",
       "Navin Batra        1.9      1\n",
       "Raajeev Walia      1.8      1\n",
       "Stanley D'Costa    1.8      1\n",
       "Pramod Mandloi     1.7      1\n",
       "Sachindra Sharma   1.6      1\n",
       "\n",
       "[2431 rows x 2 columns]"
      ]
     },
     "execution_count": 39,
     "metadata": {},
     "output_type": "execute_result"
    }
   ],
   "source": [
    "ana = dataset.groupby(['Director'])\n",
    "ana_df = ana['Rating'].aggregate(['mean', 'count'])\n",
    "ana_df.sort_values(by=['mean'],ascending=False)"
   ]
  },
  {
   "cell_type": "code",
   "execution_count": null,
   "id": "2c94f6ae",
   "metadata": {},
   "outputs": [
    {
     "data": {
      "text/html": [
       "<div>\n",
       "<style scoped>\n",
       "    .dataframe tbody tr th:only-of-type {\n",
       "        vertical-align: middle;\n",
       "    }\n",
       "\n",
       "    .dataframe tbody tr th {\n",
       "        vertical-align: top;\n",
       "    }\n",
       "\n",
       "    .dataframe thead th {\n",
       "        text-align: right;\n",
       "    }\n",
       "</style>\n",
       "<table border=\"1\" class=\"dataframe\">\n",
       "  <thead>\n",
       "    <tr style=\"text-align: right;\">\n",
       "      <th></th>\n",
       "      <th>mean</th>\n",
       "      <th>count</th>\n",
       "    </tr>\n",
       "    <tr>\n",
       "      <th>Director</th>\n",
       "      <th></th>\n",
       "      <th></th>\n",
       "    </tr>\n",
       "  </thead>\n",
       "  <tbody>\n",
       "    <tr>\n",
       "      <th>David Dhawan</th>\n",
       "      <td>5.226829</td>\n",
       "      <td>41</td>\n",
       "    </tr>\n",
       "    <tr>\n",
       "      <th>Mahesh Bhatt</th>\n",
       "      <td>5.753846</td>\n",
       "      <td>39</td>\n",
       "    </tr>\n",
       "    <tr>\n",
       "      <th>Shakti Samanta</th>\n",
       "      <td>6.606061</td>\n",
       "      <td>33</td>\n",
       "    </tr>\n",
       "    <tr>\n",
       "      <th>Ram Gopal Varma</th>\n",
       "      <td>5.596970</td>\n",
       "      <td>33</td>\n",
       "    </tr>\n",
       "    <tr>\n",
       "      <th>Hrishikesh Mukherjee</th>\n",
       "      <td>7.266667</td>\n",
       "      <td>33</td>\n",
       "    </tr>\n",
       "    <tr>\n",
       "      <th>...</th>\n",
       "      <td>...</td>\n",
       "      <td>...</td>\n",
       "    </tr>\n",
       "    <tr>\n",
       "      <th>Krishnadev Yagnik</th>\n",
       "      <td>7.300000</td>\n",
       "      <td>1</td>\n",
       "    </tr>\n",
       "    <tr>\n",
       "      <th>Krishna Shah</th>\n",
       "      <td>6.300000</td>\n",
       "      <td>1</td>\n",
       "    </tr>\n",
       "    <tr>\n",
       "      <th>Krishna Mishra</th>\n",
       "      <td>5.600000</td>\n",
       "      <td>1</td>\n",
       "    </tr>\n",
       "    <tr>\n",
       "      <th>Krishna Kumar</th>\n",
       "      <td>6.200000</td>\n",
       "      <td>1</td>\n",
       "    </tr>\n",
       "    <tr>\n",
       "      <th>Zunaid Memon</th>\n",
       "      <td>6.400000</td>\n",
       "      <td>1</td>\n",
       "    </tr>\n",
       "  </tbody>\n",
       "</table>\n",
       "<p>2431 rows × 2 columns</p>\n",
       "</div>"
      ],
      "text/plain": [
       "                          mean  count\n",
       "Director                             \n",
       "David Dhawan          5.226829     41\n",
       "Mahesh Bhatt          5.753846     39\n",
       "Shakti Samanta        6.606061     33\n",
       "Ram Gopal Varma       5.596970     33\n",
       "Hrishikesh Mukherjee  7.266667     33\n",
       "...                        ...    ...\n",
       "Krishnadev Yagnik     7.300000      1\n",
       "Krishna Shah          6.300000      1\n",
       "Krishna Mishra        5.600000      1\n",
       "Krishna Kumar         6.200000      1\n",
       "Zunaid Memon          6.400000      1\n",
       "\n",
       "[2431 rows x 2 columns]"
      ]
     },
     "execution_count": 41,
     "metadata": {},
     "output_type": "execute_result"
    }
   ],
   "source": [
    "ana_df.sort_values(by=['count'],ascending=False)"
   ]
  },
  {
   "cell_type": "code",
   "execution_count": null,
   "id": "f4932deb",
   "metadata": {},
   "outputs": [],
   "source": [
    "dbCursor.close()\n",
    "dbConnection.close()"
   ]
  }
 ],
 "metadata": {
  "kernelspec": {
   "display_name": "Python 3 (ipykernel)",
   "language": "python",
   "name": "python3"
  },
  "language_info": {
   "codemirror_mode": {
    "name": "ipython",
    "version": 3
   },
   "file_extension": ".py",
   "mimetype": "text/x-python",
   "name": "python",
   "nbconvert_exporter": "python",
   "pygments_lexer": "ipython3",
   "version": "3.7.11"
  }
 },
 "nbformat": 4,
 "nbformat_minor": 5
}
