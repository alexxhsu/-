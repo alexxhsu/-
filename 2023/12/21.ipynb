{
 "cells": [
  {
   "cell_type": "code",
   "execution_count": null,
   "metadata": {},
   "outputs": [],
   "source": [
    "list_name=[]"
   ]
  },
  {
   "cell_type": "code",
   "execution_count": null,
   "metadata": {},
   "outputs": [],
   "source": []
  },
  {
   "cell_type": "code",
   "execution_count": null,
   "metadata": {},
   "outputs": [],
   "source": [
    "name=input()\n",
    "[name]"
   ]
  },
  {
   "cell_type": "code",
   "execution_count": null,
   "metadata": {},
   "outputs": [],
   "source": [
    "list_name=list_name+[name]\n",
    "list_name"
   ]
  },
  {
   "cell_type": "code",
   "execution_count": null,
   "metadata": {},
   "outputs": [],
   "source": [
    "list_name=[\"jusitn\",\"apple\",\"sam\"]\n",
    "for i in range(len(list_name)):\n",
    "    print(\"第\"+str(i)+\"個名字叫做\"+\":\"+str(list_name[i]))"
   ]
  },
  {
   "cell_type": "code",
   "execution_count": null,
   "metadata": {},
   "outputs": [],
   "source": [
    "name_list=[print(list_name[i]) for  i in range(len(list_name))]"
   ]
  },
  {
   "cell_type": "code",
   "execution_count": null,
   "metadata": {},
   "outputs": [],
   "source": [
    "squares = [x**2 for x in range(10)]\n",
    "print(squares)"
   ]
  },
  {
   "cell_type": "code",
   "execution_count": null,
   "metadata": {},
   "outputs": [],
   "source": [
    "pet_name=[\"jack\",\"justin\"]\n",
    "print(\"entire your pet name\")\n",
    "name=input()\n",
    "if name in pet_name:\n",
    "    print(\"你的寵物在這\")\n",
    "else:\n",
    "    print(\"不在這\")"
   ]
  },
  {
   "cell_type": "code",
   "execution_count": null,
   "metadata": {},
   "outputs": [],
   "source": [
    "pet_name=[\"jack\",\"justin\",\"apple\"]\n"
   ]
  },
  {
   "cell_type": "code",
   "execution_count": null,
   "metadata": {},
   "outputs": [],
   "source": [
    "pet_name.append(\"jeff\")"
   ]
  },
  {
   "cell_type": "code",
   "execution_count": null,
   "metadata": {},
   "outputs": [],
   "source": [
    "pet_name=pet_name.append(\"jeffone\")"
   ]
  },
  {
   "cell_type": "code",
   "execution_count": null,
   "metadata": {},
   "outputs": [],
   "source": [
    "list_1=[9,5,20,1,5]\n",
    "list_1.sort()\n",
    "print(list_1)\n",
    "list_1=list_1.sort()\n",
    "print(list_1)"
   ]
  },
  {
   "cell_type": "code",
   "execution_count": null,
   "metadata": {},
   "outputs": [],
   "source": [
    "print(\"my girlfriend name is yuki\\njust kidding\")"
   ]
  },
  {
   "cell_type": "code",
   "execution_count": null,
   "metadata": {},
   "outputs": [],
   "source": [
    "print(\"my girlfriend name is yuki\"+\"kistjg\")"
   ]
  },
  {
   "cell_type": "code",
   "execution_count": null,
   "metadata": {},
   "outputs": [],
   "source": [
    "import random\n",
    "\n",
    "message=[\"it is certain\",\n",
    "         \"it is decidedly so\",\n",
    "         \"yes definitely\"]\n",
    "print(message[random.randint(0,len(message)-1)])"
   ]
  },
  {
   "cell_type": "code",
   "execution_count": null,
   "metadata": {},
   "outputs": [],
   "source": [
    "ally=(\"hello\",)\n",
    "jeff=(\"hello\")\n",
    "type(ally)\n",
    "type(jeff)"
   ]
  },
  {
   "cell_type": "code",
   "execution_count": null,
   "metadata": {},
   "outputs": [],
   "source": [
    "pet_name = [\"justin\", \"jack\"]\n",
    "kk = tuple(pet_name)\n",
    "list_1 = list(kk)\n"
   ]
  },
  {
   "cell_type": "code",
   "execution_count": null,
   "metadata": {},
   "outputs": [],
   "source": [
    "tuple1=(1,2,5,6)\n",
    "type(tuple1)"
   ]
  },
  {
   "cell_type": "code",
   "execution_count": null,
   "metadata": {},
   "outputs": [],
   "source": [
    "spam=[0,1,2,3,4,5]\n",
    "cheese=spam\n",
    "cheese[1]=\"hello\""
   ]
  },
  {
   "cell_type": "code",
   "execution_count": null,
   "metadata": {},
   "outputs": [],
   "source": [
    "spam"
   ]
  },
  {
   "cell_type": "code",
   "execution_count": null,
   "metadata": {},
   "outputs": [],
   "source": [
    "cheese"
   ]
  },
  {
   "cell_type": "code",
   "execution_count": null,
   "metadata": {},
   "outputs": [],
   "source": [
    "spam = [0, 1, 2, 3, 4, 5]\n",
    "cheese = spam[:]\n",
    "cheese[1] = \"hello\"\n",
    "\n",
    "print(spam)\n",
    "print(cheese)\n"
   ]
  },
  {
   "cell_type": "code",
   "execution_count": null,
   "metadata": {},
   "outputs": [],
   "source": [
    "from copy import copy\n",
    "spam=[0,1,2,3,4,5]\n",
    "cheese=copy(spam)\n",
    "cheese[1] = \"hello\"\n",
    "\n",
    "print(spam)\n",
    "print(cheese)"
   ]
  },
  {
   "cell_type": "code",
   "execution_count": null,
   "metadata": {},
   "outputs": [],
   "source": [
    "import copy\n",
    "\n",
    "original_list = [1, 2, [3, 4]]\n",
    "shallow_copy = copy.copy(original_list)\n",
    "deep_copy = copy.deepcopy(original_list)\n",
    "\n",
    "# 修改原始列表中的嵌套列表\n",
    "original_list[2][0] = 'X'\n",
    "\n",
    "# 输出结果\n",
    "print(\"Original List:\", original_list)\n",
    "print(\"Shallow Copy:\", shallow_copy)\n",
    "print(\"Deep Copy:\", deep_copy)\n",
    "\n"
   ]
  },
  {
   "cell_type": "code",
   "execution_count": null,
   "metadata": {},
   "outputs": [],
   "source": [
    "import random,time,copy\n",
    "Width=60\n",
    "Height=20\n",
    "nextCells=[]\n",
    "for x in range(Width):\n",
    "    column=[]\n",
    "    for y in range(Height):\n",
    "        if random.randint(0,1)==0:\n",
    "            column.append(\"#\")\n",
    "        else:\n",
    "            column.append(\" \")\n",
    "    nextCells.append(column)\n",
    "while True:\n",
    "    print(\"\\n\\n\\n\")\n",
    "    currentCells=copy.deepcopy(nextCells)\n",
    "    for y in range(Height):\n",
    "        for x in range(Width):\n",
    "            print(currentCells[x][y],end=\"\")\n",
    "        print()\n",
    "    for x in range(Width):\n",
    "        for y in range(Height):\n",
    "            leftcoord=(x-1) % Width #59\n",
    "            rightcoord=(x+1) % Width #1\n",
    "            abovecoord=(y-1) % Height\n",
    "            belowcoord=(y+1) % Height\n",
    "            \n",
    "            numNeighbors=0\n",
    "            if currentCells[leftcoord][abovecoord] == \"#\":\n",
    "                numNeighbors+=1\n",
    "            if currentCells[x][abovecoord] == \"#\":\n",
    "                numNeighbors+=1\n",
    "            if currentCells[rightcoord][abovecoord] == \"#\":\n",
    "                numNeighbors+=1\n",
    "            if currentCells[leftcoord][y] == \"#\":\n",
    "                numNeighbors+=1\n",
    "            if currentCells[rightcoord][y] == \"#\":\n",
    "                numNeighbors+=1\n",
    "            if currentCells[leftcoord][belowcoord] == \"#\":\n",
    "                numNeighbors+=1\n",
    "            if currentCells[x][belowcoord] == \"#\":\n",
    "                numNeighbors+=1\n",
    "            if currentCells[rightcoord][belowcoord] == \"#\":\n",
    "                numNeighbors+=1   \n",
    "            if  currentCells[x][y]==\"#\" and (numNeighbors==2 or numNeighbors ==3):\n",
    "                nextCells[x][y]=\"#\"\n",
    "            elif currentCells[x][y]==\" \"and numNeighbors ==3:\n",
    "                nextCells[x][y]=\"#\"\n",
    "            else:\n",
    "                nextCells[x][y]=\" \"\n",
    "    time.sleep(1)"
   ]
  },
  {
   "cell_type": "code",
   "execution_count": null,
   "metadata": {},
   "outputs": [],
   "source": [
    "spam={\"a\":\"apple\",\"b\":\"bananna\"}"
   ]
  },
  {
   "cell_type": "code",
   "execution_count": null,
   "metadata": {},
   "outputs": [],
   "source": [
    "name=3.45\n",
    "print(f\"your score is {int(name)}\")"
   ]
  },
  {
   "cell_type": "code",
   "execution_count": null,
   "metadata": {},
   "outputs": [],
   "source": [
    "test=\"my name is justin justin\"\n",
    "test1=test.split()\n",
    "test2=set(test.split())\n",
    "print(test1)\n",
    "print(test2)"
   ]
  },
  {
   "cell_type": "code",
   "execution_count": null,
   "metadata": {},
   "outputs": [],
   "source": [
    "def word_count(x):\n",
    "    #\n",
    "    final=len(set(x.split()))#返回列表 set()是不可以重複的會自動刪掉重複的項\n",
    "    return final"
   ]
  },
  {
   "cell_type": "code",
   "execution_count": null,
   "metadata": {},
   "outputs": [],
   "source": [
    "word_count(test)"
   ]
  },
  {
   "cell_type": "code",
   "execution_count": null,
   "metadata": {},
   "outputs": [],
   "source": [
    "sentence = \"This is a sample sentence. This sentence contains some words.\"\n",
    "word_count(sentence)"
   ]
  },
  {
   "cell_type": "code",
   "execution_count": null,
   "metadata": {},
   "outputs": [],
   "source": [
    "# 創建一個示例字典\n",
    "my_dict = {'apple': 3, 'banana': 5, 'orange': 2}\n",
    "\n",
    "# 使用 .get() 方法獲取值\n",
    "apple_count = my_dict.get('apple', 0)\n",
    "grape_count = my_dict.get('grape')\n",
    "\n",
    "print(f\"Apple count: {apple_count}\")\n",
    "print(f\"Grape count: {grape_count}\")\n"
   ]
  },
  {
   "cell_type": "code",
   "execution_count": null,
   "metadata": {},
   "outputs": [],
   "source": [
    "def word_count_v2(sentence):\n",
    "    words = sentence.split()  # 使用空格作為分隔符將句子分割成單詞列表\n",
    "    word_dict = {}  # 創建一個空字典，用於存儲單詞出現次數\n",
    "    for word in words:\n",
    "        # 將單詞添加到字典中，如果單詞已經存在，則增加其出現次數\n",
    "        word_dict[word] = word_dict.get(word, 0) + 1\n",
    "    print(word_dict)\n",
    "    return len(word_dict)  # 返回字典中不同單詞的數量\n"
   ]
  },
  {
   "cell_type": "code",
   "execution_count": null,
   "metadata": {},
   "outputs": [],
   "source": [
    "sentence = \"This is a sample sentence. This sentence contains some words.\"\n",
    "result = word_count_v2(sentence)\n",
    "print(result)"
   ]
  },
  {
   "cell_type": "code",
   "execution_count": null,
   "metadata": {},
   "outputs": [],
   "source": [
    "t=sentence.split()"
   ]
  },
  {
   "cell_type": "code",
   "execution_count": null,
   "metadata": {},
   "outputs": [],
   "source": [
    "# 創建一個示例字典\n",
    "my_dict = {'apple': 3, 'banana': 5, 'orange': 2}\n",
    "\n",
    "# 使用 .get() 方法獲取值\n",
    "apple_count = my_dict.get('apple', 0)\n",
    "grape_count = my_dict.get('grape', 0)\n",
    "\n",
    "print(f\"Apple count: {apple_count}\")\n",
    "print(f\"Grape count: {grape_count}\")\n"
   ]
  },
  {
   "cell_type": "code",
   "execution_count": null,
   "metadata": {},
   "outputs": [],
   "source": [
    "len(word_dict)"
   ]
  },
  {
   "cell_type": "code",
   "execution_count": null,
   "metadata": {},
   "outputs": [],
   "source": [
    "word_dict[\"justin\"]=\"fuck\"\n",
    "word_dict"
   ]
  },
  {
   "cell_type": "code",
   "execution_count": null,
   "metadata": {},
   "outputs": [],
   "source": [
    "word_dict[\"justin\"]=word_dict.get(\"justin\",0)+1"
   ]
  },
  {
   "cell_type": "code",
   "execution_count": null,
   "metadata": {},
   "outputs": [],
   "source": [
    "word_dict.setdefault(\"jeff\",\"my best friend\")"
   ]
  },
  {
   "cell_type": "code",
   "execution_count": null,
   "metadata": {},
   "outputs": [],
   "source": [
    "import re\n",
    "\n",
    "def word_count(sentence):\n",
    "    # 使用正則表達式匹配單詞和標點符號\n",
    "    words1 = re.findall(r'\\w+|[^\\w\\s]', sentence)\n",
    "    words2 = sentence.split()\n",
    "    # 使用字典追蹤每個單詞的出現次數\n",
    "    word_dict = {}\n",
    "    for word in words2:\n",
    "        word_dict[word] = word_dict.get(word, 0) + 1\n",
    "    print(word_dict)\n",
    "\n",
    "    return len(word_dict)\n",
    "\n",
    "sentence = \"This is a sample sentence. This sentence contains some words.\"\n",
    "result = word_count(sentence)\n",
    "print(result)\n"
   ]
  },
  {
   "cell_type": "code",
   "execution_count": null,
   "metadata": {},
   "outputs": [],
   "source": [
    "sentence = \"This is a sample sentence. This sentence contains some words.\"\n",
    "cut=sentence.split()\n",
    "cut_dict={}#先創一個空的dict\n",
    "\n",
    "#再把每一個key 加進來\n",
    "for i in cut:\n",
    "        cut_dict.setdefault(i,1)\n",
    "print(cut_dict)"
   ]
  },
  {
   "cell_type": "code",
   "execution_count": null,
   "metadata": {},
   "outputs": [],
   "source": [
    "test={}\n",
    "test[\"foo\"]=\"42\"\n",
    "test"
   ]
  },
  {
   "cell_type": "code",
   "execution_count": null,
   "metadata": {},
   "outputs": [],
   "source": [
    "def creat_adder(x):\n",
    "    def adder(y):\n",
    "        return x-y\n",
    "    return adder"
   ]
  },
  {
   "cell_type": "code",
   "execution_count": null,
   "metadata": {},
   "outputs": [],
   "source": [
    "def average_word_length(sentence):\n",
    "    words = sentence.split()\n",
    "    total_length = sum([len(word) for word in words])\n",
    "    return total_length / len(words)\n",
    "    "
   ]
  },
  {
   "cell_type": "code",
   "execution_count": null,
   "metadata": {},
   "outputs": [],
   "source": [
    "import pprint\n",
    "sentence = \"This is a sample sentence. This sentence contains some words.\"\n",
    "x=sentence.split()\n",
    "print(set(x))\n"
   ]
  },
  {
   "cell_type": "code",
   "execution_count": null,
   "metadata": {},
   "outputs": [],
   "source": [
    "allGuest={\n",
    "    \"ally\":{\"apples\":5,\"pretzels\":12},\n",
    "    \"bob\":{\"ham sandwiches\":3, \"apples\":2},\n",
    "    \"carol\":{\"cups\":3, \"apple pies\":1}\n",
    "}"
   ]
  },
  {
   "cell_type": "code",
   "execution_count": null,
   "metadata": {},
   "outputs": [],
   "source": [
    "total_list={}\n",
    "for i in allGuest:\n",
    "    for key,value in allGuest[i].items():\n",
    "        total_list[key]=total_list.get(key,0)+value\n",
    "print(total_list)"
   ]
  },
  {
   "cell_type": "code",
   "execution_count": null,
   "metadata": {},
   "outputs": [],
   "source": [
    "spam={\"class\":\"color\"}\n",
    "if \"color\" not in spam:\n",
    "    spam[\"color\"]=\"black\"\n",
    "spam"
   ]
  },
  {
   "cell_type": "code",
   "execution_count": null,
   "metadata": {},
   "outputs": [],
   "source": [
    "spam={}\n",
    "spam.setdefault(\"color\",\"black\")\n",
    "spam"
   ]
  },
  {
   "cell_type": "code",
   "execution_count": null,
   "metadata": {},
   "outputs": [],
   "source": [
    "inventory={\n",
    "    \"rope\":1,\n",
    "    \"torch\":6,\n",
    "    \"gold coin\":42,\n",
    "    \"dagger\":1,\n",
    "    \"arrow\":12\n",
    "}"
   ]
  },
  {
   "cell_type": "code",
   "execution_count": null,
   "metadata": {},
   "outputs": [],
   "source": [
    "def displayInventory(x):\n",
    "    print(\"Inventory:\")\n",
    "    total_number=0\n",
    "    for key, value in x.items():\n",
    "        print(f\"Inventory name:{key} and the numbers: {value}\")\n",
    "        total_number+=value\n",
    "    print(total_number)\n",
    "displayInventory(inventory)"
   ]
  },
  {
   "cell_type": "code",
   "execution_count": null,
   "metadata": {},
   "outputs": [],
   "source": [
    "#功能 addeditems串列的物品加到inventory\n",
    "def addToInventory(inventory,addedItems):\n",
    "    #inventory 字典\n",
    "    #addeditems 串列\n",
    "    total_dict={}\n",
    "    for i in addedItems:\n",
    "        total_dict[i]=total_dict.get(i,0)+1\n",
    "    for key,value in inventory.items():\n",
    "        total_dict[key]=total_dict.get(key,0)+value\n",
    "    return total_dict\n",
    "        \n",
    "    "
   ]
  },
  {
   "cell_type": "code",
   "execution_count": null,
   "metadata": {},
   "outputs": [],
   "source": [
    "def addToInventory1(inventory, addedItems):\n",
    "    for item in addedItems:\n",
    "        inventory[item] = inventory.get(item, 0) + 1\n",
    "    return inventory\n"
   ]
  },
  {
   "cell_type": "code",
   "execution_count": null,
   "metadata": {},
   "outputs": [],
   "source": [
    "inv= {\"gold coin\":42, \"rope\":1}\n",
    "dragonLoot=[\"gold coin\",\"dagger\",\"gold coin\",\"fold coin\",\"ruby\"]\n",
    "inv=addToInventory1(inv,dragonLoot)\n",
    "displayInventory(inv)"
   ]
  },
  {
   "cell_type": "code",
   "execution_count": null,
   "metadata": {},
   "outputs": [],
   "source": [
    "total_dict={}\n",
    "for key,value in inv.items():\n",
    "    total_dict[key]=total_dict.get(key,0)+value\n",
    "print(total_dict)\n",
    "   \n"
   ]
  },
  {
   "cell_type": "code",
   "execution_count": null,
   "metadata": {},
   "outputs": [],
   "source": [
    "total_dict={}\n",
    "for i in dragonLoot:\n",
    "    total_dict[i]=total_dict.get(i,0)+1\n",
    "print(total_dict)\n",
    "for key,value in inv.items():\n",
    "    total_dict[key]=total_dict.get(key,0)+value\n",
    "print(total_dict)"
   ]
  },
  {
   "cell_type": "code",
   "execution_count": null,
   "metadata": {},
   "outputs": [],
   "source": [
    "import pandas as pd\n",
    "\n",
    "# 創建一個寬格式的數據框\n",
    "data = {\n",
    "    'Name': ['Alice', 'Bob', 'Charlie'],\n",
    "    'Math': [90, 88, 75],\n",
    "    'Physics': [85, 92, 80],\n",
    "    'Chemistry': [88, 78, 85]\n",
    "}\n",
    "\n",
    "df = pd.DataFrame(data)\n",
    "print(df)\n",
    "\n",
    "# 使用 melt 將寬格式轉換為長格式\n",
    "melted_df = pd.melt(df, id_vars='Name', var_name='Subject', value_name='Score')\n",
    "\n",
    "print(melted_df)\n"
   ]
  },
  {
   "cell_type": "code",
   "execution_count": null,
   "metadata": {},
   "outputs": [],
   "source": [
    "def isValid(chessboard):\n",
    "    # 棋盤大小\n",
    "    board_size = 8\n",
    "\n",
    "    # 各種棋子的數量上限\n",
    "    max_pieces = {'wpawn': 8, 'bpawn': 8, 'wknight': 2, 'bknight': 2,\n",
    "                  'wbishop': 2, 'bbishop': 2, 'wrook': 2, 'brook': 2,\n",
    "                  'wqueen': 1, 'bqueen': 1, 'wking': 1, 'bking': 1}\n",
    "\n",
    "    # 初始化各棋子數量\n",
    "    piece_counts = {key: 0 for key in max_pieces}\n",
    "\n",
    "    # 檢查棋盤上的每個位置\n",
    "    for position, piece in chessboard.items():\n",
    "        # 檢查棋子名稱是否合法\n",
    "        if not piece.startswith(('wpawn', 'bpawn', 'wknight', 'bknight',\n",
    "                                  'wbishop', 'bbishop', 'wrook', 'brook',\n",
    "                                  'wqueen', 'bqueen', 'wking', 'bking')):\n",
    "            return False\n",
    "\n",
    "        # 檢查棋子位置是否合法\n",
    "        if position[0] not in '12345678' or position[1] not in 'abcdefgh':\n",
    "            return False\n",
    "\n",
    "        # 更新棋子數量\n",
    "        piece_counts[piece] += 1\n",
    "\n",
    "    # 檢查每種棋子的數量是否超過上限\n",
    "    for piece, count in piece_counts.items():\n",
    "        if count > max_pieces[piece]:\n",
    "            return False\n",
    "\n",
    "    # 檢查是否有兩位玩家的國王\n",
    "    if piece_counts['wking'] != 1 or piece_counts['bking'] != 1:\n",
    "        return False\n",
    "\n",
    "    return True\n",
    "\n",
    "# 測試\n",
    "chessboard1 = {'1a': 'bking', '6c': 'wqueen', '2g': 'bbishop', '5h': 'bqueen', '3e': 'wking'}\n",
    "chessboard2 = {'1a': 'bking', '6c': 'wqueen', '2g': 'bbishop', '5h': 'bqueen', '3e': 'wking', '9z': 'wpawn'}\n",
    "\n",
    "print(isValid(chessboard1))  # True\n",
    "print(isValid(chessboard2))  # False\n"
   ]
  },
  {
   "cell_type": "code",
   "execution_count": 108,
   "metadata": {},
   "outputs": [
    {
     "name": "stdout",
     "output_type": "stream",
     "text": [
      "hello there!\n",
      "how are you?\n",
      "i'm doing fine\n"
     ]
    }
   ],
   "source": [
    "print(\"hello there!\\nhow are you?\\ni'm doing fine\")"
   ]
  },
  {
   "cell_type": "code",
   "execution_count": 114,
   "metadata": {},
   "outputs": [
    {
     "name": "stdout",
     "output_type": "stream",
     "text": [
      "my name is justin and my age is 24\n",
      "my name isjustin and my age is 24.00\n"
     ]
    }
   ],
   "source": [
    "name=\"justin\"\n",
    "age=24\n",
    "print(\"my name is %s and my age is %s\" %(name,age))\n",
    "print(f'my name is{name} and my age is {age:.2f}')"
   ]
  },
  {
   "cell_type": "code",
   "execution_count": 134,
   "metadata": {},
   "outputs": [
    {
     "data": {
      "text/plain": [
       "True"
      ]
     },
     "execution_count": 134,
     "metadata": {},
     "output_type": "execute_result"
    }
   ],
   "source": [
    "x='mynameisjusitn1'\n",
    "x.endswith(\"n1\")"
   ]
  },
  {
   "cell_type": "code",
   "execution_count": 138,
   "metadata": {},
   "outputs": [
    {
     "data": {
      "text/plain": [
       "'1,2'"
      ]
     },
     "execution_count": 138,
     "metadata": {},
     "output_type": "execute_result"
    }
   ],
   "source": [
    "\",\".join({\"1\":\"maji\",\"2\":\"gjkg\"})"
   ]
  },
  {
   "cell_type": "code",
   "execution_count": 149,
   "metadata": {},
   "outputs": [
    {
     "data": {
      "text/plain": [
       "['key1', 'key2', 'key3']"
      ]
     },
     "execution_count": 149,
     "metadata": {},
     "output_type": "execute_result"
    }
   ],
   "source": [
    "list(my_dict.keys())"
   ]
  },
  {
   "cell_type": "code",
   "execution_count": 154,
   "metadata": {},
   "outputs": [
    {
     "data": {
      "text/plain": [
       "('my name is mmy', '', '')"
      ]
     },
     "execution_count": 154,
     "metadata": {},
     "output_type": "execute_result"
    }
   ],
   "source": [
    "\"mynameismmy\".split(\"m\")\n",
    "\"my name is mmy\".partition(\"rjirr\")"
   ]
  },
  {
   "cell_type": "code",
   "execution_count": 174,
   "metadata": {},
   "outputs": [
    {
     "name": "stdout",
     "output_type": "stream",
     "text": [
      "SANDWICHES\n",
      "APPLE\n",
      "CUPS\n",
      "COOKIES\n"
     ]
    }
   ],
   "source": [
    "items={\"sandwiches\":4,\"apple\":12,\"cups\":4,\"cookies\":8000}\n",
    "for x,y in items.items():\n",
    "    print(x.upper())"
   ]
  },
  {
   "cell_type": "code",
   "execution_count": 210,
   "metadata": {},
   "outputs": [],
   "source": [
    "def printpicnic(item,leftwidth,rightwidth):\n",
    "\n",
    "    for keys,values in item.items():\n",
    "        print(keys.ljust(leftwidth, \".\")+str(values).rjust(rightwidth,\".\"))"
   ]
  },
  {
   "cell_type": "code",
   "execution_count": 211,
   "metadata": {},
   "outputs": [
    {
     "name": "stdout",
     "output_type": "stream",
     "text": [
      "sandwiches.............................4\n",
      "apple.................................12\n",
      "cups...................................4\n",
      "cookies.............................8000\n"
     ]
    }
   ],
   "source": [
    "x=printpicnic(items,20,20)"
   ]
  },
  {
   "cell_type": "code",
   "execution_count": 212,
   "metadata": {},
   "outputs": [
    {
     "name": "stdout",
     "output_type": "stream",
     "text": [
      "不重複單字的數量: 9\n"
     ]
    }
   ],
   "source": [
    "def count_unique_words(input_string):\n",
    "    # 將字串轉換為小寫，以確保不區分大小寫\n",
    "    input_string = input_string.lower()\n",
    "\n",
    "    # 使用 split() 將字串拆分為單字列表\n",
    "    words = input_string.split()\n",
    "\n",
    "    # 使用 set() 刪除重複的單字，然後計算不重複單字的數量\n",
    "    unique_words_count = len(set(words))\n",
    "\n",
    "    return unique_words_count\n",
    "\n",
    "# 測試\n",
    "input_text = \"This is a sample text. This text contains some words.\"\n",
    "result = count_unique_words(input_text)\n",
    "print(\"不重複單字的數量:\", result)\n"
   ]
  },
  {
   "cell_type": "code",
   "execution_count": 222,
   "metadata": {},
   "outputs": [
    {
     "data": {
      "text/plain": [
       "'spamspambaconspameggsspamspam'"
      ]
     },
     "execution_count": 222,
     "metadata": {},
     "output_type": "execute_result"
    }
   ],
   "source": [
    "spam=\"    spamspambaconspameggsspamspam\"\n",
    "spam.lstrip(\" \")"
   ]
  },
  {
   "cell_type": "code",
   "execution_count": 230,
   "metadata": {},
   "outputs": [
    {
     "data": {
      "text/plain": [
       "\"{'address': {'city': 'Anytown', 'street': '123 Main St'},\\n 'age': 30,\\n 'hobbies': ['coding', 'reading', 'gaming'],\\n 'name': 'John'}\""
      ]
     },
     "execution_count": 230,
     "metadata": {},
     "output_type": "execute_result"
    }
   ],
   "source": [
    "import pprint\n",
    "\n",
    "my_dict = {\n",
    "    'name': 'John',\n",
    "    'age': 30,\n",
    "    'hobbies': ['coding', 'reading', 'gaming'],\n",
    "    'address': {\n",
    "        'street': '123 Main St',\n",
    "        'city': 'Anytown'\n",
    "    }\n",
    "}\n",
    "\n",
    "\n",
    "pprint.pformat(my_dict)"
   ]
  },
  {
   "cell_type": "code",
   "execution_count": 231,
   "metadata": {},
   "outputs": [
    {
     "data": {
      "text/plain": [
       "'\"{\\'address\\': {\\'city\\': \\'Anytown\\', \\'street\\': \\'123 Main St\\'},\\\\n \\'age\\': 30,\\\\n \\'hobbies\\': [\\'coding\\', \\'reading\\', \\'gaming\\'],\\\\n \\'name\\': \\'John\\'}\"'"
      ]
     },
     "execution_count": 231,
     "metadata": {},
     "output_type": "execute_result"
    }
   ],
   "source": [
    "import pyperclip\n",
    "pyperclip.paste()"
   ]
  },
  {
   "cell_type": "code",
   "execution_count": 245,
   "metadata": {},
   "outputs": [
    {
     "data": {
      "text/plain": [
       "['/Users/justin/miniconda3/lib/python3.10/site-packages/ipykernel_launcher.py',\n",
       " '-f',\n",
       " '/Users/justin/Library/Jupyter/runtime/kernel-2feeea03-1662-4699-84a9-26b8b5aeabbe.json']"
      ]
     },
     "execution_count": 245,
     "metadata": {},
     "output_type": "execute_result"
    }
   ],
   "source": [
    "sys.argv"
   ]
  },
  {
   "cell_type": "code",
   "execution_count": 246,
   "metadata": {},
   "outputs": [
    {
     "name": "stdout",
     "output_type": "stream",
     "text": [
      "there is no text for -f\n"
     ]
    }
   ],
   "source": [
    "import sys\n",
    "text={\n",
    "    'agree':\"\"\"yes, i agree. that sounds fine to me.\"\"\",\n",
    "    'busy':\"\"\"sorry, can we do this later this week or next week\"\"\",\n",
    "    'upsell':\"\"\"would you consider making this a monthly donation?\"\"\"\n",
    "}\n",
    "if len(sys.argv)<2:\n",
    "    print(' usage: python mclip.py[keyphrase]')\n",
    "    sys.exit()\n",
    "keyphrase = sys.argv[1]\n",
    "\n",
    "if keyphrase in text:\n",
    "    pyperclip.copy(text[keyphrase])\n",
    "    print(f'text for {keyphrase} copied to clipboard.')\n",
    "else:\n",
    "    print(f'there is no text for {keyphrase}')\n"
   ]
  }
 ],
 "metadata": {
  "interpreter": {
   "hash": "7759c4e0c2586190ce1da54c5dd427aad51bad3702b6cb4454265610aa465f78"
  },
  "kernelspec": {
   "display_name": "Python 3.10.9 64-bit ('base': conda)",
   "language": "python",
   "name": "python3"
  },
  "language_info": {
   "codemirror_mode": {
    "name": "ipython",
    "version": 3
   },
   "file_extension": ".py",
   "mimetype": "text/x-python",
   "name": "python",
   "nbconvert_exporter": "python",
   "pygments_lexer": "ipython3",
   "version": "3.10.9"
  },
  "orig_nbformat": 4
 },
 "nbformat": 4,
 "nbformat_minor": 2
}
