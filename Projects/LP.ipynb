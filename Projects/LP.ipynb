{
 "cells": [
  {
   "cell_type": "code",
   "execution_count": 33,
   "id": "f7c73723",
   "metadata": {},
   "outputs": [],
   "source": [
    "import numpy\n",
    "from scipy.optimize import linprog\n",
    "import matplotlib.pyplot as plt"
   ]
  },
  {
   "cell_type": "code",
   "execution_count": 34,
   "id": "24a6a914",
   "metadata": {},
   "outputs": [],
   "source": [
    "c = numpy.array([2, 5, 0,4])\n",
    "A = numpy.array([[-1, -2, 1,-1], [2, 1, -4,-1]])\n",
    "b = numpy.array([-6,-4])"
   ]
  },
  {
   "cell_type": "code",
   "execution_count": 35,
   "id": "6493ed0a",
   "metadata": {},
   "outputs": [],
   "source": [
    "res = linprog(\n",
    "    c, A_ub=A, b_ub=b, \n",
    "    bounds=[(0, None), (0, None), (0, None),(0, None)],\n",
    "    method='simplex'\n",
    ")"
   ]
  },
  {
   "cell_type": "code",
   "execution_count": 36,
   "id": "d8a25663",
   "metadata": {},
   "outputs": [
    {
     "data": {
      "text/plain": [
       "     con: array([], dtype=float64)\n",
       "     fun: 20.0\n",
       " message: 'Optimization terminated successfully.'\n",
       "     nit: 2\n",
       "   slack: array([0., 0.])\n",
       "  status: 0\n",
       " success: True\n",
       "       x: array([0., 4., 2., 0.])"
      ]
     },
     "execution_count": 36,
     "metadata": {},
     "output_type": "execute_result"
    }
   ],
   "source": [
    "res"
   ]
  },
  {
   "cell_type": "code",
   "execution_count": 37,
   "id": "d566a7ef",
   "metadata": {},
   "outputs": [
    {
     "name": "stdout",
     "output_type": "stream",
     "text": [
      "z =  -20.000\n"
     ]
    }
   ],
   "source": [
    "if res.success:\n",
    "    print('z = %8.3f' % -res.fun)"
   ]
  },
  {
   "cell_type": "code",
   "execution_count": 38,
   "id": "6f79d1a9",
   "metadata": {},
   "outputs": [
    {
     "name": "stdout",
     "output_type": "stream",
     "text": [
      "z =  -20.000\n"
     ]
    }
   ],
   "source": [
    "print('z = %8.3f' % -numpy.dot(c, res.x))"
   ]
  },
  {
   "cell_type": "code",
   "execution_count": 41,
   "id": "9fecb94c",
   "metadata": {},
   "outputs": [],
   "source": [
    "_aprox = {\n",
    "    'x1' :[],\n",
    "    'x2' :[],\n",
    "    'x3' :[],\n",
    "    'x4' :[],\n",
    "    'z' :[]\n",
    "}\n",
    "\n",
    "\n",
    "for x1 in range(8):\n",
    "    for x2 in range(8):\n",
    "        for x3 in range(8):\n",
    "            for x4 in range(8):\n",
    "                z = numpy.array(c * numpy.array([x1, x2, x3, x4])).sum()\n",
    "            \n",
    "            if (z >= 18) and (z <= 22) and (x1*x2*x3*x4 != 0):\n",
    "                _aprox['x1'].append(x1)\n",
    "                _aprox['x2'].append(x2)\n",
    "                _aprox['x3'].append(x3)\n",
    "                _aprox['x4'].append(x4)\n",
    "                _aprox['z'].append(z)            "
   ]
  },
  {
   "cell_type": "code",
   "execution_count": null,
   "id": "6388cf29",
   "metadata": {},
   "outputs": [],
   "source": []
  },
  {
   "cell_type": "code",
   "execution_count": null,
   "id": "9d0f3a50",
   "metadata": {},
   "outputs": [],
   "source": []
  }
 ],
 "metadata": {
  "kernelspec": {
   "display_name": "Python 3 (ipykernel)",
   "language": "python",
   "name": "python3"
  },
  "language_info": {
   "codemirror_mode": {
    "name": "ipython",
    "version": 3
   },
   "file_extension": ".py",
   "mimetype": "text/x-python",
   "name": "python",
   "nbconvert_exporter": "python",
   "pygments_lexer": "ipython3",
   "version": "3.7.7"
  }
 },
 "nbformat": 4,
 "nbformat_minor": 5
}
