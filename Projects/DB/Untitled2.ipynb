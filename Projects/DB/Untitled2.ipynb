{
 "cells": [
  {
   "cell_type": "code",
   "execution_count": 4,
   "id": "2420b350-c549-4e29-8eaa-b72e467d4c1c",
   "metadata": {},
   "outputs": [],
   "source": [
    "import numpy\n",
    "from scipy.optimize import linprog\n",
    "import matplotlib.pyplot as plt"
   ]
  },
  {
   "cell_type": "code",
   "execution_count": null,
   "id": "f241c9cd-1efa-4f2f-8245-64a9473c7a10",
   "metadata": {},
   "outputs": [],
   "source": [
    "def import_data(stockID, file_name):\n",
    "    _dataset = pandas.read_csv(\n",
    "        file_name, delimiter='\\t', parse_dates=[0], infer_datetime_format=True,\n",
    "        header=0, names=['StockDate', 'StockOpen', 'StockHigh', \n",
    "                         'StockLow', 'StockClose', 'StockAdjClose', 'StockVol'],\n",
    "    )\n",
    "    \n",
    "   "
   ]
  },
  {
   "cell_type": "code",
   "execution_count": null,
   "id": "e6e9be50-6100-4965-8588-51ec521a10fe",
   "metadata": {},
   "outputs": [],
   "source": [
    " _dataset['StockID'] = stockID\n",
    "    _dataset = _dataset.sort_values(by=['StockDate'])\n",
    "    \n",
    "    _dataset.reset_index(drop=True, inplace=True)\n",
    "    \n",
    "    _dataset = _dataset.loc[_dataset['StockVol'] != '-']\n",
    "    \n",
    "    _number_fields = ['StockOpen', 'StockHigh', 'StockLow', 'StockClose', \n",
    "                      'StockAdjClose', 'StockVol']\n",
    "    \n",
    "    _dataset[_number_fields] = _dataset[_number_fields].apply(\n",
    "        lambda x: pandas.to_numeric(x.astype(str).str.replace(',', ''), errors='coerce')\n",
    "    )\n",
    "    \n",
    "    _dataset['StockVol'] = _dataset['StockVol'] / 1000.0\n",
    "            \n",
    "    return _dataset[['StockID', 'StockDate', \n",
    "                    'StockOpen', 'StockHigh', 'StockLow', 'StockClose', \n",
    "                    'StockAdjClose', 'StockVol']]"
   ]
  },
  {
   "cell_type": "code",
   "execution_count": null,
   "id": "2a9932ba-da82-4a23-917d-7f3435f78cfb",
   "metadata": {},
   "outputs": [],
   "source": []
  },
  {
   "cell_type": "code",
   "execution_count": null,
   "id": "da1d3ea7-ee1f-44b0-9a19-2185eda247f5",
   "metadata": {},
   "outputs": [],
   "source": []
  }
 ],
 "metadata": {
  "kernelspec": {
   "display_name": "Python 3 (ipykernel)",
   "language": "python",
   "name": "python3"
  },
  "language_info": {
   "codemirror_mode": {
    "name": "ipython",
    "version": 3
   },
   "file_extension": ".py",
   "mimetype": "text/x-python",
   "name": "python",
   "nbconvert_exporter": "python",
   "pygments_lexer": "ipython3",
   "version": "3.8.2"
  }
 },
 "nbformat": 4,
 "nbformat_minor": 5
}
