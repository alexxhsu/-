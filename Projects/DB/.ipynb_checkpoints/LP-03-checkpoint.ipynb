{
 "cells": [
  {
   "cell_type": "code",
   "execution_count": 1,
   "id": "7622839c",
   "metadata": {},
   "outputs": [],
   "source": [
    "import numpy\n",
    "from scipy.optimize import linprog\n",
    "import matplotlib.pyplot as plt"
   ]
  },
  {
   "cell_type": "markdown",
   "id": "77f8caa5",
   "metadata": {},
   "source": [
    "<h3>求可生產最多產品數量</h3>\n",
    "<ul>\n",
    "    <li>生產要素: $x_1 \\geq 0$ ， $ x_2 \\geq 0$ 及 $x_3$</li>\n",
    "    <li>每生產一單位 z 產品，需要消耗: $2{x_1}$，$-{x_2}$ 及 $3{x_3}$</li>\n",
    "    <li>$x_1$ 數量 $\\leq$ $8 - 2{x_2} - 3{x_3}$</li>\n",
    "    <li>$x_1$ 數量 $\\geq$ $1 + \\frac {x_2}{2} - \\frac {x_3}{2}$</li>\n",
    "    <li>$x_1$ 數量 $=$ $\\frac {x_2}{3} + \\frac {x_3}{3} - \\frac {5}{3}$</li>\n",
    "</ul>"
   ]
  },
  {
   "cell_type": "markdown",
   "id": "7d968d4f",
   "metadata": {},
   "source": [
    "<table><tr><td>\n",
    "$ \n",
    "max \\\\\n",
    "\\: \\: \\: \\: z = 2{x_1} - {x_2} + 3{x_3} \\\\\n",
    "s.t. \\\\\n",
    "\\: \\: \\: \\: x_1 + 2{x_2} + 3{x_3} \\leq 8 \\\\\n",
    "\\: \\: \\: \\: 2{x_1} - x_2 + x_3 \\geq 2 \\\\\n",
    "\\: \\: \\: \\: 3{x_1} - x_2 - 4{x_3} = -5 \\\\\n",
    "\\: \\: \\: \\: x_1 \\geq 0 \\\\\n",
    "\\: \\: \\: \\: x_2 \\geq 0\n",
    "$\n",
    "    </td><td>\n",
    "$ \n",
    "min \\\\\n",
    "\\: \\: \\: \\: z^- = -2{x_1} + {x_2} - 3{x_3} \\\\\n",
    "s.t. \\\\\n",
    "\\: \\: \\: \\: x_1 + 2{x_2} + 3{x_3} \\leq 8 \\\\\n",
    "\\: \\: \\: \\: -2{x_1} + x_2 - x_3 \\leq 2 \\\\\n",
    "\\: \\: \\: \\: 3{x_1} - x_2 - 4{x_3} = -5 \\\\\n",
    "\\: \\: \\: \\: x_1 \\geq 0 \\\\\n",
    "\\: \\: \\: \\: x_2 \\geq 0\n",
    "$\n",
    "    <td></tr></table>"
   ]
  },
  {
   "cell_type": "markdown",
   "id": "34e6f982",
   "metadata": {},
   "source": [
    "<h3>指派係數</h3>"
   ]
  },
  {
   "cell_type": "code",
   "execution_count": 2,
   "id": "316685d1",
   "metadata": {},
   "outputs": [],
   "source": [
    "c = numpy.array([-2, 1, -3])\n",
    "A = numpy.array([[1, 2, 3], [-2, 1, -1], [3, -1, -4]])\n",
    "b = numpy.array([8, -2, -5])"
   ]
  },
  {
   "cell_type": "markdown",
   "id": "4452f53c",
   "metadata": {},
   "source": [
    "<h3>求解</h3>"
   ]
  },
  {
   "cell_type": "code",
   "execution_count": 3,
   "id": "2a7175d2",
   "metadata": {},
   "outputs": [],
   "source": [
    "res = linprog(\n",
    "    c, A_ub=A, b_ub=b, \n",
    "    bounds=[(0, None), (0, None), (None, None)],\n",
    "    method='simplex'\n",
    ")"
   ]
  },
  {
   "cell_type": "markdown",
   "id": "f00c65e4",
   "metadata": {},
   "source": [
    "<h3>最佳化</h3>"
   ]
  },
  {
   "cell_type": "code",
   "execution_count": 4,
   "id": "299ee822",
   "metadata": {},
   "outputs": [
    {
     "data": {
      "text/plain": [
       "     con: array([], dtype=float64)\n",
       "     fun: -9.307692307692308\n",
       " message: 'Optimization terminated successfully.'\n",
       "     nit: 4\n",
       "   slack: array([0.        , 2.84615385, 0.        ])\n",
       "  status: 0\n",
       " success: True\n",
       "       x: array([1.30769231, 0.        , 2.23076923])"
      ]
     },
     "execution_count": 4,
     "metadata": {},
     "output_type": "execute_result"
    }
   ],
   "source": [
    "res"
   ]
  },
  {
   "cell_type": "markdown",
   "id": "e372bfd2",
   "metadata": {},
   "source": [
    "<h3>最大化 $fun = -z$</h3>"
   ]
  },
  {
   "cell_type": "code",
   "execution_count": 5,
   "id": "823c259b",
   "metadata": {},
   "outputs": [
    {
     "name": "stdout",
     "output_type": "stream",
     "text": [
      "z =    9.308\n"
     ]
    }
   ],
   "source": [
    "if res.success:\n",
    "    print('z = %8.3f' % -res.fun)"
   ]
  },
  {
   "cell_type": "markdown",
   "id": "9efaa12e",
   "metadata": {},
   "source": [
    "<h3>驗證</h3>"
   ]
  },
  {
   "cell_type": "code",
   "execution_count": 6,
   "id": "3ced04cd",
   "metadata": {},
   "outputs": [
    {
     "name": "stdout",
     "output_type": "stream",
     "text": [
      "z =    9.308\n"
     ]
    }
   ],
   "source": [
    "print('z = %8.3f' % -numpy.dot(c, res.x))"
   ]
  },
  {
   "cell_type": "markdown",
   "id": "c47cbc8c",
   "metadata": {},
   "source": [
    "<h3>求輸入值範圍在 $0.00 < x <15.00, x \\in R $ 之所有近似解</h3>"
   ]
  },
  {
   "cell_type": "code",
   "execution_count": 7,
   "id": "987be4fa",
   "metadata": {},
   "outputs": [
    {
     "name": "stdout",
     "output_type": "stream",
     "text": [
      "1807\t9.39\n"
     ]
    }
   ],
   "source": [
    "_aprox = []\n",
    "\n",
    "for x1 in numpy.linspace(0, 15, 100):\n",
    "    for x2 in numpy.linspace(0, 15, 100):\n",
    "        for x3 in numpy.linspace(0, 15, 100):\n",
    "            z = -numpy.dot(c, [x1, x2, x3])\n",
    "            if (z >= -res.fun) and (z < -res.fun + 0.1) and (x1*x2*x3 != 0.0):\n",
    "                _aprox.append([x1, x2, x3, z])\n",
    "                \n",
    "aprox = numpy.array(_aprox)\n",
    "print('%d\\t%.2f' % (aprox.shape[0], aprox[:, 3].mean()))"
   ]
  },
  {
   "cell_type": "code",
   "execution_count": 8,
   "id": "404ecd01",
   "metadata": {},
   "outputs": [
    {
     "data": {
      "text/plain": [
       "array([[0.15151515, 0.45454545, 3.18181818, 9.39393939],\n",
       "       [0.15151515, 0.90909091, 3.33333333, 9.39393939],\n",
       "       [0.15151515, 1.36363636, 3.48484848, 9.39393939],\n",
       "       [0.15151515, 1.81818182, 3.63636364, 9.39393939],\n",
       "       [0.15151515, 2.27272727, 3.78787879, 9.39393939]])"
      ]
     },
     "execution_count": 8,
     "metadata": {},
     "output_type": "execute_result"
    }
   ],
   "source": [
    "aprox[:5]"
   ]
  },
  {
   "cell_type": "markdown",
   "id": "d127d474",
   "metadata": {},
   "source": [
    "<h3>求輸入值範圍在 $0 < x < 15, x \\in Z $ 之所有近似解</h3>"
   ]
  },
  {
   "cell_type": "code",
   "execution_count": 9,
   "id": "d7e11253",
   "metadata": {},
   "outputs": [
    {
     "name": "stdout",
     "output_type": "stream",
     "text": [
      "68\t9.51\n"
     ]
    }
   ],
   "source": [
    "_aprox = []\n",
    "\n",
    "for x1 in range(15):\n",
    "    for x2 in range(15):\n",
    "        for x3 in range(15):\n",
    "            z = -numpy.dot(c, [x1, x2, x3])\n",
    "            if (z >= int(-res.fun)) and (z <= int(-res.fun) + 1) and (x1*x2*x3 != 0):\n",
    "                _aprox.append([x1, x2, x3, z])\n",
    "                \n",
    "aprox = numpy.array(_aprox)\n",
    "print('%d\\t%.2f' % (aprox.shape[0], aprox[:, 3].mean()))"
   ]
  },
  {
   "cell_type": "code",
   "execution_count": 10,
   "id": "15b8644f",
   "metadata": {},
   "outputs": [
    {
     "data": {
      "text/plain": [
       "array([[ 1,  1,  3, 10],\n",
       "       [ 1,  2,  3,  9],\n",
       "       [ 1,  4,  4, 10],\n",
       "       [ 1,  5,  4,  9],\n",
       "       [ 1,  7,  5, 10]])"
      ]
     },
     "execution_count": 10,
     "metadata": {},
     "output_type": "execute_result"
    }
   ],
   "source": [
    "aprox[:5]"
   ]
  },
  {
   "cell_type": "code",
   "execution_count": null,
   "id": "eecf46d4",
   "metadata": {},
   "outputs": [],
   "source": []
  }
 ],
 "metadata": {
  "kernelspec": {
   "display_name": "Python 3 (ipykernel)",
   "language": "python",
   "name": "python3"
  },
  "language_info": {
   "codemirror_mode": {
    "name": "ipython",
    "version": 3
   },
   "file_extension": ".py",
   "mimetype": "text/x-python",
   "name": "python",
   "nbconvert_exporter": "python",
   "pygments_lexer": "ipython3",
   "version": "3.8.12"
  }
 },
 "nbformat": 4,
 "nbformat_minor": 5
}
