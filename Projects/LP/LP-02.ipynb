{
 "cells": [
  {
   "cell_type": "code",
   "execution_count": 1,
   "id": "7622839c",
   "metadata": {},
   "outputs": [],
   "source": [
    "import numpy\n",
    "from scipy.optimize import linprog\n",
    "import matplotlib.pyplot as plt"
   ]
  },
  {
   "cell_type": "markdown",
   "id": "77f8caa5",
   "metadata": {},
   "source": [
    "<h3>求可生產最多產品數量</h3>\n",
    "<ul>\n",
    "    <li>生產要素: $x_1, x_2, x_3 \\geq 0$</li>\n",
    "    <li>每生產一單位 z 產品，需要消耗: $5x_1$ ，$3x_2$ 及 $x_3$</li>\n",
    "    <li>$2x_1$ 數量 $\\leq$ $8 - 4{x_2} + {x_3}$</li>\n",
    "    <li>$2x_1$ 數量 $\\leq$ $6 - {x_2}$</li>\n",
    "    <li>$x_1$ 數量 $\\leq$ $10 - 2x_2 - 2x_3$</li>\n",
    "</ul>"
   ]
  },
  {
   "cell_type": "markdown",
   "id": "7d968d4f",
   "metadata": {},
   "source": [
    "<table><tr><td>\n",
    "$ \n",
    "max \\\\\n",
    "\\: \\: \\: \\: z = 5{x_1} + 3{x_2} + {x_3} \\\\\n",
    "s.t. \\\\\n",
    "\\: \\: \\: \\: 2{x_1} + 4{x_2} + {x_3} \\leq 8 \\\\\n",
    "\\: \\: \\: \\: {x_1} + 2{x_2} + 2{x_3} \\leq 10 \\\\\n",
    "\\: \\: \\: \\: 2{x_1} + {x_2} \\leq 6 \\\\\n",
    "\\: \\: \\: \\: x_1 \\geq 0 \\\\\n",
    "\\: \\: \\: \\: x_2 \\geq 0 \\\\\n",
    "\\: \\: \\: \\: x_3 \\geq 0 \\\\\n",
    "$\n",
    "    </td><td>\n",
    "$ \n",
    "min \\\\\n",
    "\\: \\: \\: \\: z^- = -5{x_1} - 3{x_2} - 1{x_3} \\\\\n",
    "s.t. \\\\\n",
    "\\: \\: \\: \\: 2{x_1} + 4{x_2} + {x_3} \\leq 8 \\\\\n",
    "\\: \\: \\: \\: {x_1} + 2{x_2} + 2{x_3} \\leq 10 \\\\\n",
    "\\: \\: \\: \\: 2{x_1} + {x_2} \\leq 6 \\\\\n",
    "\\: \\: \\: \\: x_1 \\geq 0 \\\\\n",
    "\\: \\: \\: \\: x_2 \\geq 0 \\\\\n",
    "\\: \\: \\: \\: x_3 \\geq 0 \\\\\n",
    "$\n",
    "    <td></tr></table>"
   ]
  },
  {
   "cell_type": "markdown",
   "id": "34e6f982",
   "metadata": {},
   "source": [
    "<h3>指派係數</h3>"
   ]
  },
  {
   "cell_type": "code",
   "execution_count": 2,
   "id": "316685d1",
   "metadata": {},
   "outputs": [],
   "source": [
    "c = numpy.array([-5, -3, -1])\n",
    "A = numpy.array([[2, 4, 1], [1, 2, 2], [2, 1, 0]])\n",
    "b = numpy.array([8, 10, 6])"
   ]
  },
  {
   "cell_type": "markdown",
   "id": "4452f53c",
   "metadata": {},
   "source": [
    "<h3>求解</h3>"
   ]
  },
  {
   "cell_type": "code",
   "execution_count": 3,
   "id": "2a7175d2",
   "metadata": {},
   "outputs": [],
   "source": [
    "res = linprog(\n",
    "    c, A_ub=A, b_ub=b, \n",
    "    bounds=[ (0, None), (0, None), (0, None) ],\n",
    "    method='simplex'\n",
    ")"
   ]
  },
  {
   "cell_type": "markdown",
   "id": "f00c65e4",
   "metadata": {},
   "source": [
    "<h3>最佳化</h3>"
   ]
  },
  {
   "cell_type": "code",
   "execution_count": 4,
   "id": "299ee822",
   "metadata": {},
   "outputs": [
    {
     "data": {
      "text/plain": [
       "     con: array([], dtype=float64)\n",
       "     fun: -17.0\n",
       " message: 'Optimization terminated successfully.'\n",
       "     nit: 5\n",
       "   slack: array([0., 3., 0.])\n",
       "  status: 0\n",
       " success: True\n",
       "       x: array([3., 0., 2.])"
      ]
     },
     "execution_count": 4,
     "metadata": {},
     "output_type": "execute_result"
    }
   ],
   "source": [
    "res"
   ]
  },
  {
   "cell_type": "markdown",
   "id": "e372bfd2",
   "metadata": {},
   "source": [
    "<h3>最大化 $fun = -z$</h3>"
   ]
  },
  {
   "cell_type": "code",
   "execution_count": 5,
   "id": "823c259b",
   "metadata": {},
   "outputs": [
    {
     "name": "stdout",
     "output_type": "stream",
     "text": [
      "z = 17.000000\n"
     ]
    }
   ],
   "source": [
    "if res.success:\n",
    "    print(r'z = %f' % -int(res.fun))"
   ]
  },
  {
   "cell_type": "markdown",
   "id": "9dc182e6",
   "metadata": {},
   "source": [
    "<h3>驗證</h3>"
   ]
  },
  {
   "cell_type": "code",
   "execution_count": 8,
   "id": "e466ca9d",
   "metadata": {},
   "outputs": [
    {
     "name": "stdout",
     "output_type": "stream",
     "text": [
      "z =   17.000\n"
     ]
    }
   ],
   "source": [
    "print('z = %8.3f' % -numpy.dot(c, res.x))"
   ]
  },
  {
   "cell_type": "code",
   "execution_count": null,
   "id": "7b80d0d4",
   "metadata": {},
   "outputs": [],
   "source": []
  }
 ],
 "metadata": {
  "kernelspec": {
   "display_name": "Python 3 (ipykernel)",
   "language": "python",
   "name": "python3"
  },
  "language_info": {
   "codemirror_mode": {
    "name": "ipython",
    "version": 3
   },
   "file_extension": ".py",
   "mimetype": "text/x-python",
   "name": "python",
   "nbconvert_exporter": "python",
   "pygments_lexer": "ipython3",
   "version": "3.8.10"
  }
 },
 "nbformat": 4,
 "nbformat_minor": 5
}
