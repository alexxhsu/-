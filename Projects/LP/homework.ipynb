{
 "cells": [
  {
   "cell_type": "code",
   "execution_count": 3,
   "id": "d60c93ac",
   "metadata": {},
   "outputs": [],
   "source": [
    "import numpy\n",
    "from scipy.optimize import linprog\n",
    "import matplotlib.pyplot as plt"
   ]
  },
  {
   "cell_type": "markdown",
   "id": "10301790",
   "metadata": {},
   "source": [
    "例題A"
   ]
  },
  {
   "cell_type": "code",
   "execution_count": 15,
   "id": "3d880fb6",
   "metadata": {},
   "outputs": [],
   "source": [
    "c = numpy.array([-3, -4])\n",
    "A = numpy.array([[-1, -2], [2, -2]])\n",
    "b = numpy.array([-4,5])"
   ]
  },
  {
   "cell_type": "code",
   "execution_count": 16,
   "id": "09d4ea39",
   "metadata": {},
   "outputs": [],
   "source": [
    "res = linprog(\n",
    "    c, A_ub=A, b_ub=b, \n",
    "    bounds=[(0, None), (0, None)],\n",
    "    method='simplex'\n",
    "    \n",
    ")"
   ]
  },
  {
   "cell_type": "code",
   "execution_count": 4,
   "id": "44b449c0",
   "metadata": {},
   "outputs": [
    {
     "data": {
      "text/plain": [
       "     con: array([], dtype=float64)\n",
       "     fun: -11.0\n",
       " message: 'Optimization failed. The problem appears to be unbounded.'\n",
       "     nit: 2\n",
       "   slack: array([0., 0.])\n",
       "  status: 3\n",
       " success: False\n",
       "       x: array([3. , 0.5])"
      ]
     },
     "execution_count": 4,
     "metadata": {},
     "output_type": "execute_result"
    }
   ],
   "source": [
    "res"
   ]
  },
  {
   "cell_type": "code",
   "execution_count": 5,
   "id": "98b7b7e6",
   "metadata": {},
   "outputs": [],
   "source": [
    "if res.success:\n",
    "    print('z = %8.3f' % -res.fun)"
   ]
  },
  {
   "cell_type": "markdown",
   "id": "a49efaa2",
   "metadata": {},
   "source": [
    "例題B"
   ]
  },
  {
   "cell_type": "code",
   "execution_count": 18,
   "id": "6acc8873",
   "metadata": {},
   "outputs": [],
   "source": [
    "c = numpy.array([-31, -58,-35])\n",
    "A = numpy.array([[3, 4, 0], [2, 6, 7]])\n",
    "b = numpy.array([1,2])"
   ]
  },
  {
   "cell_type": "code",
   "execution_count": 19,
   "id": "640847a5",
   "metadata": {},
   "outputs": [],
   "source": [
    "res = linprog(\n",
    "    c, A_ub=A, b_ub=b, \n",
    "    bounds=[(0, 80), (0, 220),(0, 230)],\n",
    "    method='simplex'\n",
    "    \n",
    ")"
   ]
  },
  {
   "cell_type": "code",
   "execution_count": 20,
   "id": "a0d6b9a9",
   "metadata": {},
   "outputs": [
    {
     "data": {
      "text/plain": [
       "     con: array([], dtype=float64)\n",
       "     fun: -17.0\n",
       " message: 'Optimization terminated successfully.'\n",
       "     nit: 5\n",
       "   slack: array([0., 0.])\n",
       "  status: 0\n",
       " success: True\n",
       "       x: array([0.        , 0.25      , 0.07142857])"
      ]
     },
     "execution_count": 20,
     "metadata": {},
     "output_type": "execute_result"
    }
   ],
   "source": [
    "res"
   ]
  },
  {
   "cell_type": "code",
   "execution_count": 21,
   "id": "f581df08",
   "metadata": {},
   "outputs": [
    {
     "name": "stdout",
     "output_type": "stream",
     "text": [
      "z =   17.000\n"
     ]
    }
   ],
   "source": [
    "if res.success:\n",
    "    print('z = %8.3f' % -res.fun)"
   ]
  },
  {
   "cell_type": "markdown",
   "id": "dd79b296",
   "metadata": {},
   "source": [
    "if res.success:\n",
    "    print('z = %8.3f' % -res.fun)"
   ]
  },
  {
   "cell_type": "code",
   "execution_count": 11,
   "id": "a15a5ede",
   "metadata": {},
   "outputs": [],
   "source": [
    "c = numpy.array([-10, -20])\n",
    "A = numpy.array([[3, 1], [4, 10],[5, 2]])\n",
    "b = numpy.array([600,500,200])"
   ]
  },
  {
   "cell_type": "code",
   "execution_count": 12,
   "id": "dcb115d3",
   "metadata": {},
   "outputs": [],
   "source": [
    "res = linprog(\n",
    "    c, A_ub=A, b_ub=b, \n",
    "    bounds=[(0, 2000), (0, 1200)],\n",
    "    method='simplex'\n",
    "    \n",
    ")"
   ]
  },
  {
   "cell_type": "code",
   "execution_count": 13,
   "id": "0239ae26",
   "metadata": {},
   "outputs": [
    {
     "data": {
      "text/plain": [
       "     con: array([], dtype=float64)\n",
       "     fun: -1047.6190476190477\n",
       " message: 'Optimization terminated successfully.'\n",
       "     nit: 5\n",
       "   slack: array([488.0952381,   0.       ,   0.       ])\n",
       "  status: 0\n",
       " success: True\n",
       "       x: array([23.80952381, 40.47619048])"
      ]
     },
     "execution_count": 13,
     "metadata": {},
     "output_type": "execute_result"
    }
   ],
   "source": [
    "res"
   ]
  },
  {
   "cell_type": "code",
   "execution_count": 14,
   "id": "ed64ec1a",
   "metadata": {},
   "outputs": [
    {
     "name": "stdout",
     "output_type": "stream",
     "text": [
      "z = 1047.619\n"
     ]
    }
   ],
   "source": [
    "if res.success:\n",
    "    print('z = %8.3f' % -res.fun)"
   ]
  },
  {
   "cell_type": "markdown",
   "id": "c425b914",
   "metadata": {},
   "source": [
    "例題D"
   ]
  },
  {
   "cell_type": "code",
   "execution_count": 21,
   "id": "42065d3c",
   "metadata": {},
   "outputs": [],
   "source": [
    "c = numpy.array([-2, -5])\n",
    "A = numpy.array([[2,1], [-1, -1]])\n",
    "b = numpy.array([15,-25])"
   ]
  },
  {
   "cell_type": "code",
   "execution_count": 24,
   "id": "c8efc0d0",
   "metadata": {},
   "outputs": [],
   "source": [
    "res = linprog(\n",
    "    c, A_ub=A, b_ub=b, \n",
    "    bounds=[(0, None), (0, None)],\n",
    "     method='simplex'   \n",
    ")"
   ]
  },
  {
   "cell_type": "code",
   "execution_count": 25,
   "id": "c216349b",
   "metadata": {},
   "outputs": [
    {
     "data": {
      "text/plain": [
       "     con: array([], dtype=float64)\n",
       "     fun: -75.0\n",
       " message: \"Phase 1 of the simplex method failed to find a feasible solution. The pseudo-objective function evaluates to 1.0e+01 which exceeds the required tolerance of 1e-09 for a solution to be considered 'close enough' to zero to be a basic solution. Consider increasing the tolerance to be greater than 1.0e+01. If this tolerance is unacceptably  large the problem may be infeasible.\"\n",
       "     nit: 2\n",
       "   slack: array([  0., -10.])\n",
       "  status: 2\n",
       " success: False\n",
       "       x: array([ 0., 15.])"
      ]
     },
     "execution_count": 25,
     "metadata": {},
     "output_type": "execute_result"
    }
   ],
   "source": [
    "res"
   ]
  },
  {
   "cell_type": "code",
   "execution_count": 26,
   "id": "8870373a",
   "metadata": {},
   "outputs": [],
   "source": [
    "if res.success:\n",
    "    print('z = %8.3f' % -res.fun)"
   ]
  },
  {
   "cell_type": "markdown",
   "id": "22f0bedd",
   "metadata": {},
   "source": [
    "例題E"
   ]
  },
  {
   "cell_type": "code",
   "execution_count": 27,
   "id": "4fb3ff6f",
   "metadata": {},
   "outputs": [],
   "source": [
    "c = numpy.array([-3, -1])\n",
    "A = numpy.array([[10,6], [3, 5],[1, -2]])\n",
    "b = numpy.array([75,50,34])"
   ]
  },
  {
   "cell_type": "code",
   "execution_count": 28,
   "id": "69ff77f3",
   "metadata": {},
   "outputs": [],
   "source": [
    "res = linprog(\n",
    "    c, A_ub=A, b_ub=b, \n",
    "    bounds=[(0, 40), (0, 25)],\n",
    "     method='simplex'   \n",
    ")"
   ]
  },
  {
   "cell_type": "code",
   "execution_count": 29,
   "id": "8cd633b3",
   "metadata": {},
   "outputs": [
    {
     "data": {
      "text/plain": [
       "     con: array([], dtype=float64)\n",
       "     fun: -22.5\n",
       " message: 'Optimization terminated successfully.'\n",
       "     nit: 6\n",
       "   slack: array([ 0. , 27.5, 26.5])\n",
       "  status: 0\n",
       " success: True\n",
       "       x: array([7.5, 0. ])"
      ]
     },
     "execution_count": 29,
     "metadata": {},
     "output_type": "execute_result"
    }
   ],
   "source": [
    "res"
   ]
  },
  {
   "cell_type": "code",
   "execution_count": 30,
   "id": "8b70dc09",
   "metadata": {},
   "outputs": [
    {
     "name": "stdout",
     "output_type": "stream",
     "text": [
      "z =   22.500\n"
     ]
    }
   ],
   "source": [
    "if res.success:\n",
    "    print('z = %8.3f' % -res.fun)"
   ]
  },
  {
   "cell_type": "markdown",
   "id": "bbb336ec",
   "metadata": {},
   "source": [
    "例題F"
   ]
  },
  {
   "cell_type": "code",
   "execution_count": 31,
   "id": "4f09e016",
   "metadata": {},
   "outputs": [],
   "source": [
    "c = numpy.array([-1, -3, -4])\n",
    "A = numpy.array([[2, 3, -4], [-2, -1, -4],[1, 1, 1]])\n",
    "b = numpy.array([4,-3,6])"
   ]
  },
  {
   "cell_type": "code",
   "execution_count": 32,
   "id": "df4b685f",
   "metadata": {},
   "outputs": [],
   "source": [
    "res = linprog(\n",
    "    c, A_ub=A, b_ub=b, \n",
    "    bounds=[(0, None), (0, None),(None, None)],\n",
    "     method='simplex'   \n",
    ")"
   ]
  },
  {
   "cell_type": "code",
   "execution_count": 33,
   "id": "0119c2b1",
   "metadata": {},
   "outputs": [
    {
     "data": {
      "text/plain": [
       "     con: array([], dtype=float64)\n",
       "     fun: -24.0\n",
       " message: 'Optimization terminated successfully.'\n",
       "     nit: 7\n",
       "   slack: array([28., 21.,  0.])\n",
       "  status: 0\n",
       " success: True\n",
       "       x: array([0., 0., 6.])"
      ]
     },
     "execution_count": 33,
     "metadata": {},
     "output_type": "execute_result"
    }
   ],
   "source": [
    "res"
   ]
  },
  {
   "cell_type": "code",
   "execution_count": 34,
   "id": "80b62089",
   "metadata": {},
   "outputs": [
    {
     "name": "stdout",
     "output_type": "stream",
     "text": [
      "z =   24.000\n"
     ]
    }
   ],
   "source": [
    "if res.success:\n",
    "    print('z = %8.3f' % -res.fun)"
   ]
  },
  {
   "cell_type": "markdown",
   "id": "48a7f601",
   "metadata": {},
   "source": [
    "例題G"
   ]
  },
  {
   "cell_type": "code",
   "execution_count": 35,
   "id": "9180e471",
   "metadata": {},
   "outputs": [],
   "source": [
    "c = numpy.array([2, 5])\n",
    "A = numpy.array([[1, 4], [-4, -3],[1, 2]])\n",
    "b = numpy.array([80,-30,10])"
   ]
  },
  {
   "cell_type": "code",
   "execution_count": 36,
   "id": "f48bb27c",
   "metadata": {},
   "outputs": [],
   "source": [
    "res = linprog(\n",
    "    c, A_ub=A, b_ub=b, \n",
    "    bounds=[(0, None), (0, None)],\n",
    "     method='simplex'   \n",
    ")"
   ]
  },
  {
   "cell_type": "code",
   "execution_count": 37,
   "id": "4ecb0c7d",
   "metadata": {},
   "outputs": [
    {
     "data": {
      "text/plain": [
       "     con: array([], dtype=float64)\n",
       "     fun: 15.0\n",
       " message: 'Optimization terminated successfully.'\n",
       "     nit: 4\n",
       "   slack: array([72.5,  0. ,  2.5])\n",
       "  status: 0\n",
       " success: True\n",
       "       x: array([7.5, 0. ])"
      ]
     },
     "execution_count": 37,
     "metadata": {},
     "output_type": "execute_result"
    }
   ],
   "source": [
    "res"
   ]
  },
  {
   "cell_type": "code",
   "execution_count": 44,
   "id": "38dc7366",
   "metadata": {},
   "outputs": [
    {
     "name": "stdout",
     "output_type": "stream",
     "text": [
      "z =   20.000\n"
     ]
    }
   ],
   "source": [
    "if res.success:\n",
    "    print('z = %8.3f' % res.fun)"
   ]
  },
  {
   "cell_type": "markdown",
   "id": "3ad7e036",
   "metadata": {},
   "source": [
    "例題H"
   ]
  },
  {
   "cell_type": "code",
   "execution_count": 39,
   "id": "ccb0fef7",
   "metadata": {},
   "outputs": [],
   "source": [
    "c = numpy.array([5, 8])\n",
    "A = numpy.array([[-2, -3], [0, -4],[-1, -5]])\n",
    "b = numpy.array([-6,-10,-12])"
   ]
  },
  {
   "cell_type": "code",
   "execution_count": 40,
   "id": "9b00af00",
   "metadata": {},
   "outputs": [],
   "source": [
    "res = linprog(\n",
    "    c, A_ub=A, b_ub=b, \n",
    "    bounds=[(0, None), (0, None)],\n",
    "     method='simplex'   \n",
    ")"
   ]
  },
  {
   "cell_type": "code",
   "execution_count": 41,
   "id": "623b4d47",
   "metadata": {},
   "outputs": [
    {
     "data": {
      "text/plain": [
       "     con: array([], dtype=float64)\n",
       "     fun: 20.0\n",
       " message: 'Optimization terminated successfully.'\n",
       "     nit: 2\n",
       "   slack: array([1.5, 0. , 0.5])\n",
       "  status: 0\n",
       " success: True\n",
       "       x: array([0. , 2.5])"
      ]
     },
     "execution_count": 41,
     "metadata": {},
     "output_type": "execute_result"
    }
   ],
   "source": [
    "res"
   ]
  },
  {
   "cell_type": "code",
   "execution_count": 43,
   "id": "dcdb1ba6",
   "metadata": {},
   "outputs": [
    {
     "name": "stdout",
     "output_type": "stream",
     "text": [
      "z =   20.000\n"
     ]
    }
   ],
   "source": [
    "if res.success:\n",
    "    print('z = %8.3f' % res.fun)"
   ]
  },
  {
   "cell_type": "markdown",
   "id": "6aec3f7a",
   "metadata": {},
   "source": [
    "例題I"
   ]
  },
  {
   "cell_type": "code",
   "execution_count": 68,
   "id": "489f5778",
   "metadata": {},
   "outputs": [],
   "source": [
    "c = numpy.array([2, 1, -1])\n",
    "A = numpy.array([[-1, 1, -2], [1, 1, 0],[1, 2, -1]])\n",
    "b = numpy.array([-3,4,2])"
   ]
  },
  {
   "cell_type": "code",
   "execution_count": 69,
   "id": "38b42e2a",
   "metadata": {},
   "outputs": [],
   "source": [
    "res = linprog(\n",
    "    c, A_ub=A, b_ub=b, \n",
    "    bounds=[(0, None), (None, 0),( None, None)],\n",
    "     method='simplex'   \n",
    ")"
   ]
  },
  {
   "cell_type": "code",
   "execution_count": 70,
   "id": "f02a10a3",
   "metadata": {},
   "outputs": [
    {
     "data": {
      "text/plain": [
       "     con: array([], dtype=float64)\n",
       "     fun: -1.4999999999999996\n",
       " message: 'Optimization failed. The problem appears to be unbounded.'\n",
       "     nit: 5\n",
       "   slack: array([-8.8817842e-16,  4.0000000e+00,  3.5000000e+00])\n",
       "  status: 3\n",
       " success: False\n",
       "       x: array([0. , 0. , 1.5])"
      ]
     },
     "execution_count": 70,
     "metadata": {},
     "output_type": "execute_result"
    }
   ],
   "source": [
    "res"
   ]
  },
  {
   "cell_type": "code",
   "execution_count": 54,
   "id": "b0f2420e",
   "metadata": {},
   "outputs": [],
   "source": [
    "if res.success:\n",
    "    print('z = %8.3f' % res.fun)"
   ]
  },
  {
   "cell_type": "code",
   "execution_count": 66,
   "id": "a9e8b1c6",
   "metadata": {},
   "outputs": [],
   "source": [
    "c = numpy.array([2, 1, -1])\n",
    "A_ub = numpy.array([[-1, 1, -2], [1, 1, 0]])\n",
    "b_ub = numpy.array([-3,4])\n",
    "A_eq = numpy.array([[1, 2, -1]])\n",
    "b_eq = numpy.array([2])"
   ]
  },
  {
   "cell_type": "code",
   "execution_count": 67,
   "id": "e250125c",
   "metadata": {},
   "outputs": [],
   "source": [
    "res = linprog(\n",
    "    c,A_ub,b_ub,A_eq,b_eq,\n",
    "    bounds=[(0, None), (None, 0),( None, None)],\n",
    "     method='simplex'   \n",
    ")"
   ]
  },
  {
   "cell_type": "code",
   "execution_count": 71,
   "id": "a4e5cd3b",
   "metadata": {},
   "outputs": [
    {
     "data": {
      "text/plain": [
       "     con: array([], dtype=float64)\n",
       "     fun: -1.4999999999999996\n",
       " message: 'Optimization failed. The problem appears to be unbounded.'\n",
       "     nit: 5\n",
       "   slack: array([-8.8817842e-16,  4.0000000e+00,  3.5000000e+00])\n",
       "  status: 3\n",
       " success: False\n",
       "       x: array([0. , 0. , 1.5])"
      ]
     },
     "execution_count": 71,
     "metadata": {},
     "output_type": "execute_result"
    }
   ],
   "source": [
    "res"
   ]
  },
  {
   "cell_type": "markdown",
   "id": "95215157",
   "metadata": {},
   "source": [
    "例題J"
   ]
  },
  {
   "cell_type": "code",
   "execution_count": 72,
   "id": "7812a9ee",
   "metadata": {},
   "outputs": [],
   "source": [
    "c = numpy.array([15, 8, 7, 10])\n",
    "A_ub = numpy.array([[0, -1, -1, 0], [2, 3, 4, 5],[3, 4, 5, 6]])\n",
    "b_ub = numpy.array([-60,350,400])\n",
    "A_eq = numpy.array([[1, 1, 1, 1]])\n",
    "b_eq = numpy.array([150])"
   ]
  },
  {
   "cell_type": "code",
   "execution_count": 73,
   "id": "e310336d",
   "metadata": {},
   "outputs": [],
   "source": [
    "res = linprog(\n",
    "    c,A_ub,b_ub,A_eq,b_eq,\n",
    "    bounds=[(0, None), (0, None),(0, None),(0, None)],\n",
    "     method='simplex'   \n",
    ")"
   ]
  },
  {
   "cell_type": "code",
   "execution_count": 74,
   "id": "b782dc4d",
   "metadata": {},
   "outputs": [
    {
     "data": {
      "text/plain": [
       "     con: array([36.66666667])\n",
       "     fun: 1280.0\n",
       " message: \"Phase 1 of the simplex method failed to find a feasible solution. The pseudo-objective function evaluates to 3.7e+01 which exceeds the required tolerance of 1e-09 for a solution to be considered 'close enough' to zero to be a basic solution. Consider increasing the tolerance to be greater than 3.7e+01. If this tolerance is unacceptably  large the problem may be infeasible.\"\n",
       "     nit: 4\n",
       "   slack: array([ 0.        , 63.33333333,  0.        ])\n",
       "  status: 2\n",
       " success: False\n",
       "       x: array([53.33333333, 60.        ,  0.        ,  0.        ])"
      ]
     },
     "execution_count": 74,
     "metadata": {},
     "output_type": "execute_result"
    }
   ],
   "source": [
    "res"
   ]
  },
  {
   "cell_type": "code",
   "execution_count": null,
   "id": "46f918fe",
   "metadata": {},
   "outputs": [],
   "source": []
  }
 ],
 "metadata": {
  "kernelspec": {
   "display_name": "Python 3 (ipykernel)",
   "language": "python",
   "name": "python3"
  },
  "language_info": {
   "codemirror_mode": {
    "name": "ipython",
    "version": 3
   },
   "file_extension": ".py",
   "mimetype": "text/x-python",
   "name": "python",
   "nbconvert_exporter": "python",
   "pygments_lexer": "ipython3",
   "version": "3.8.2"
  }
 },
 "nbformat": 4,
 "nbformat_minor": 5
}
