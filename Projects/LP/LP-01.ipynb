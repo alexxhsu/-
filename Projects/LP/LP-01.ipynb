{
 "cells": [
  {
   "cell_type": "code",
   "execution_count": 1,
   "id": "7622839c",
   "metadata": {},
   "outputs": [],
   "source": [
    "import numpy\n",
    "from scipy.optimize import linprog\n",
    "import matplotlib.pyplot as plt"
   ]
  },
  {
   "cell_type": "markdown",
   "id": "77f8caa5",
   "metadata": {},
   "source": [
    "<h3>求可生產最多產品數量</h3>\n",
    "<ul>\n",
    "    <li>生產要素: $x_1 \\geq 0$ 及 $ 0 \\leq x_2 \\leq 4$</li>\n",
    "    <li>每生產一單位 z 產品，需要消耗: $x_1$ 及 $2x_2$</li>\n",
    "    <li>$x_1$ 數量 $\\leq$ $10 - 2x_2$</li>\n",
    "    <li>$x_1$ 數量 $\\geq$ $1 - x_2$</li>\n",
    "</ul>"
   ]
  },
  {
   "cell_type": "markdown",
   "id": "7d968d4f",
   "metadata": {},
   "source": [
    "<table><tr><td>\n",
    "$ \n",
    "max \\\\\n",
    "\\: \\: \\: \\: z = x_1 + 2{x_2} \\\\\n",
    "s.t. \\\\\n",
    "\\: \\: \\: \\: x_1 + 2{x_2} \\leq 10 \\\\\n",
    "\\: \\: \\: \\: x_1 + x_2 \\geq 1 \\\\\n",
    "\\: \\: \\: \\: x_1 \\geq 0 \\\\\n",
    "\\: \\: \\: \\: 0 \\leq x_2 \\leq 4\n",
    "$\n",
    "    </td><td>\n",
    "$ \n",
    "min \\\\\n",
    "\\: \\: \\: \\: z^- = -x_1 - 2{x_2} \\\\\n",
    "s.t. \\\\\n",
    "\\: \\: \\: \\: x_1 + 2{x_2} \\leq 10 \\\\\n",
    "\\: \\: \\: \\: -x_1 - x_2 \\leq 1 \\\\\n",
    "\\: \\: \\: \\: x_1 \\geq 0 \\\\\n",
    "\\: \\: \\: \\: 0 \\leq x_2 \\leq 4\n",
    "$\n",
    "    <td></tr></table>"
   ]
  },
  {
   "cell_type": "markdown",
   "id": "34e6f982",
   "metadata": {},
   "source": [
    "<h3>指派係數</h3>"
   ]
  },
  {
   "cell_type": "code",
   "execution_count": 2,
   "id": "316685d1",
   "metadata": {},
   "outputs": [],
   "source": [
    "c = numpy.array([-1, -2])\n",
    "A = numpy.array([[1, 2], [-1, -1]])\n",
    "b = numpy.array([10, 1])"
   ]
  },
  {
   "cell_type": "markdown",
   "id": "4452f53c",
   "metadata": {},
   "source": [
    "<h3>求解</h3>"
   ]
  },
  {
   "cell_type": "code",
   "execution_count": 3,
   "id": "2a7175d2",
   "metadata": {},
   "outputs": [],
   "source": [
    "res = linprog(\n",
    "    c, A_ub=A, b_ub=b, \n",
    "    bounds=[(0, None), (0, 4)],\n",
    "    method='simplex'\n",
    ")"
   ]
  },
  {
   "cell_type": "markdown",
   "id": "f00c65e4",
   "metadata": {},
   "source": [
    "<h3>最佳化</h3>"
   ]
  },
  {
   "cell_type": "code",
   "execution_count": 4,
   "id": "299ee822",
   "metadata": {},
   "outputs": [
    {
     "data": {
      "text/plain": [
       "     con: array([], dtype=float64)\n",
       "     fun: -10.0\n",
       " message: 'Optimization terminated successfully.'\n",
       "     nit: 4\n",
       "   slack: array([0., 9.])\n",
       "  status: 0\n",
       " success: True\n",
       "       x: array([10.,  0.])"
      ]
     },
     "execution_count": 4,
     "metadata": {},
     "output_type": "execute_result"
    }
   ],
   "source": [
    "res"
   ]
  },
  {
   "cell_type": "markdown",
   "id": "e372bfd2",
   "metadata": {},
   "source": [
    "<h3>最大化 $fun = -z$</h3>"
   ]
  },
  {
   "cell_type": "code",
   "execution_count": 5,
   "id": "823c259b",
   "metadata": {},
   "outputs": [
    {
     "name": "stdout",
     "output_type": "stream",
     "text": [
      "z = 10.000000\n"
     ]
    }
   ],
   "source": [
    "if res.success:\n",
    "    print(r'z = %f' % -int(res.fun))"
   ]
  },
  {
   "cell_type": "markdown",
   "id": "0bc1d5c8",
   "metadata": {},
   "source": [
    "<h3>圖解</h3>"
   ]
  },
  {
   "cell_type": "code",
   "execution_count": 63,
   "id": "5c433e6a",
   "metadata": {},
   "outputs": [
    {
     "data": {
      "image/png": "[encoded data removed]",
      "text/plain": [
       "<Figure size 720x480 with 1 Axes>"
      ]
     },
     "metadata": {
      "needs_background": "light"
     },
     "output_type": "display_data"
    }
   ],
   "source": [
    "fig, ax = plt.subplots(dpi=120)\n",
    "\n",
    "x1 = numpy.linspace(0, 40, 10000)\n",
    "\n",
    "y1 = 5 - 0.5*x1\n",
    "y2 = 1 - x1\n",
    "y3 = [4] * len(x1)\n",
    "\n",
    "ax.plot(x1, y1, label=r'$x_1 + 2{x_2} \\leq 10$')\n",
    "ax.plot(x1, y2, label=r'$x_1 + x_2 \\geq 1$')\n",
    "ax.plot(x1, y3, label=r'$x_2 \\leq 4$')\n",
    "\n",
    "circle1 = plt.Circle((res.x[0], res.x[1]), 0.5, color='yellow')\n",
    "circle2 = plt.Circle((2, 4), 0.5, color='yellow')\n",
    "\n",
    "ax.add_patch(circle1)\n",
    "ax.add_patch(circle2)\n",
    "\n",
    "ax.text(2+0.5, 4+0.5, '(%d, %d)' % (2, 4), fontsize=8, color='green')\n",
    "ax.text(res.x[0]+0.5, res.x[1]+0.5, '(%d, %d)' % (int(res.x[0]), int(res.x[1])), fontsize=8, color='green')\n",
    "\n",
    "ax.fill_between(x1, y1, y2, where=y1 <= 4, facecolor='gray')\n",
    "ax.fill_between(x1, y2, y3, where=(x1 <= 2) & (y2 <= y1), facecolor='gray')\n",
    "\n",
    "ax.set_xlim(0, 15)\n",
    "ax.set_ylim(0, 8)\n",
    "\n",
    "ax.legend(bbox_to_anchor=(1.05, 1), loc=2, borderaxespad=0.)\n",
    "\n",
    "ax.set_xlabel(r'$x_1$')\n",
    "ax.set_ylabel(r'$x_2$')\n",
    "\n",
    "plt.show()"
   ]
  },
  {
   "cell_type": "code",
   "execution_count": null,
   "id": "3ced04cd",
   "metadata": {},
   "outputs": [],
   "source": []
  }
 ],
 "metadata": {
  "kernelspec": {
   "display_name": "Python 3",
   "language": "python",
   "name": "python3"
  },
  "language_info": {
   "codemirror_mode": {
    "name": "ipython",
    "version": 3
   },
   "file_extension": ".py",
   "mimetype": "text/x-python",
   "name": "python",
   "nbconvert_exporter": "python",
   "pygments_lexer": "ipython3",
   "version": "3.8.8"
  }
 },
 "nbformat": 4,
 "nbformat_minor": 5
}
