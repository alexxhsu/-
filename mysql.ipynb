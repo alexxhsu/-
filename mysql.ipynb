{
 "cells": [
  {
   "cell_type": "code",
   "execution_count": null,
   "metadata": {},
   "outputs": [],
   "source": [
    "import pandas\n",
    "import jaydebeapi\n",
    "import matplotlib.pyplot as plt\n",
    "import random"
   ]
  },
  {
   "cell_type": "code",
   "execution_count": null,
   "metadata": {},
   "outputs": [],
   "source": [
    "dbConnection =jaydebeapi.connect(\n",
    "    \"org.h2.Driver\",\n",
    "    \"jdbc:h2:/Users/justin/Project/h2\",\n",
    "    [\"sa\",\"\"],\n",
    "    \"/Users/justin/Project/h2/bin/h2-2.1.214.jar\"\n",
    ")"
   ]
  },
  {
   "cell_type": "code",
   "execution_count": null,
   "metadata": {},
   "outputs": [],
   "source": [
    "dbCursor=dbConnection.cursor()"
   ]
  },
  {
   "cell_type": "code",
   "execution_count": null,
   "metadata": {},
   "outputs": [],
   "source": [
    "_sql = [\n",
    "    \"INSERT INTO\",\n",
    "    \"STOCKINFO(STOCKID, STOCKDATE,\",\n",
    "    \"STOCKOPEN, STOCKHIGH, STOCKLOW,\",\n",
    "    \"STOCKCLOSE, STOCKADJCLOSE, STOCKVOL)\",\n",
    "    \"VALUES('%s', '%s', %f, %f, %f, %f, %f, %f);\"\n",
    "]"
   ]
  },
  {
   "cell_type": "code",
   "execution_count": null,
   "metadata": {},
   "outputs": [],
   "source": [
    "sql=\" \".join(_sql)"
   ]
  },
  {
   "cell_type": "code",
   "execution_count": null,
   "metadata": {},
   "outputs": [],
   "source": [
    "print(sql)"
   ]
  },
  {
   "cell_type": "code",
   "execution_count": null,
   "metadata": {},
   "outputs": [],
   "source": [
    "dbCursor.execute('TRUNCATE TABLE STOCKINFO;')"
   ]
  },
  {
   "cell_type": "markdown",
   "metadata": {},
   "source": [
    "## 讀取資料\n"
   ]
  },
  {
   "cell_type": "code",
   "execution_count": null,
   "metadata": {},
   "outputs": [],
   "source": [
    "my_data_path=\"/Users/justin/Desktop/資料庫管理/data/IBM-Stocks\"\n",
    "my_data_file = 'IBM-2017.csv'"
   ]
  },
  {
   "cell_type": "code",
   "execution_count": null,
   "metadata": {},
   "outputs": [],
   "source": [
    "my_dataset = pandas.read_csv('%s/%s' % (my_data_path, my_data_file))"
   ]
  },
  {
   "cell_type": "code",
   "execution_count": null,
   "metadata": {},
   "outputs": [],
   "source": [
    "for i in range(my_dataset.shape[0]):\n",
    "    #有幾筆資料就做幾次\n",
    "    row = my_dataset.iloc[i]\n",
    "    insert_sql = sql % ('IBM', row['Date'],\n",
    "                        row['Open'],\n",
    "                        row['High'],\n",
    "                        row['Low'],\n",
    "                        row['Close'],\n",
    "                        row['Adj Close'],\n",
    "                        row['Volume'] / 1000.0)\n",
    "\n",
    "    dbCursor.execute(insert_sql)"
   ]
  },
  {
   "cell_type": "code",
   "execution_count": null,
   "metadata": {},
   "outputs": [],
   "source": [
    "dbCursor.execute('SELECT * FROM STOCKINFO LIMIT 5;')"
   ]
  },
  {
   "cell_type": "code",
   "execution_count": null,
   "metadata": {},
   "outputs": [],
   "source": [
    "resultSet = dbCursor.fetchall()"
   ]
  },
  {
   "cell_type": "code",
   "execution_count": null,
   "metadata": {},
   "outputs": [],
   "source": [
    "print(resultSet)"
   ]
  },
  {
   "cell_type": "code",
   "execution_count": null,
   "metadata": {},
   "outputs": [],
   "source": [
    "def output_row(row):\n",
    "    print(\"%s\\t%s\\t%.2f\\t%.2f\\t%.2f\\t%.2f\\t%.2f\\t%.2f\" % row)"
   ]
  },
  {
   "cell_type": "code",
   "execution_count": null,
   "metadata": {},
   "outputs": [],
   "source": [
    "for row in resultSet:\n",
    "    output_row(row)"
   ]
  },
  {
   "cell_type": "code",
   "execution_count": null,
   "metadata": {},
   "outputs": [],
   "source": [
    "dbCursor.execute('SELECT * FROM STOCKINFO ORDER BY STOCKID, STOCKDATE DESC LIMIT 5;')\n",
    "resultSet = dbCursor.fetchall()"
   ]
  },
  {
   "cell_type": "code",
   "execution_count": null,
   "metadata": {},
   "outputs": [],
   "source": [
    "for row in resultSet:\n",
    "    output_row(row)"
   ]
  },
  {
   "cell_type": "code",
   "execution_count": null,
   "metadata": {},
   "outputs": [],
   "source": [
    "#dbCursor.close()"
   ]
  },
  {
   "cell_type": "code",
   "execution_count": null,
   "metadata": {},
   "outputs": [],
   "source": [
    "#dbConnection.close()"
   ]
  },
  {
   "cell_type": "markdown",
   "metadata": {},
   "source": [
    "## 將錯誤的資料格式對齊\n"
   ]
  },
  {
   "cell_type": "code",
   "execution_count": null,
   "metadata": {},
   "outputs": [],
   "source": [
    "from glob import glob\n",
    "import codecs\n",
    "from datetime import datetime\n",
    "import numpy"
   ]
  },
  {
   "cell_type": "code",
   "execution_count": null,
   "metadata": {},
   "outputs": [],
   "source": []
  }
 ],
 "metadata": {
  "interpreter": {
   "hash": "4e2d31777ba4f1ddbc3ccf89e85a767ec3de5af75506d71116af56afb6cb1dfa"
  },
  "kernelspec": {
   "display_name": "Python 3.8.2 64-bit ('db': conda)",
   "language": "python",
   "name": "python3"
  },
  "language_info": {
   "codemirror_mode": {
    "name": "ipython",
    "version": 3
   },
   "file_extension": ".py",
   "mimetype": "text/x-python",
   "name": "python",
   "nbconvert_exporter": "python",
   "pygments_lexer": "ipython3",
   "version": "3.8.2"
  },
  "orig_nbformat": 4
 },
 "nbformat": 4,
 "nbformat_minor": 2
}
