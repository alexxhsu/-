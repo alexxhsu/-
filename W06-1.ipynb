{
 "cells": [
  {
   "cell_type": "code",
   "execution_count": 216,
   "id": "9796937d",
   "metadata": {},
   "outputs": [],
   "source": [
    "from glob import glob\n",
    "import pandas\n",
    "from datetime import datetime\n",
    "import numpy"
   ]
  },
  {
   "cell_type": "markdown",
   "id": "3d4bce4e",
   "metadata": {},
   "source": [
    "將原始資料解析成正確形式\n",
    "\"-\"的處理,避免每一欄都是文字\n",
    "<h3>任務->產生SQL語句</h3>"
   ]
  },
  {
   "cell_type": "code",
   "execution_count": 217,
   "id": "e8ea3b14",
   "metadata": {},
   "outputs": [
    {
     "data": {
      "text/plain": [
       "['/Users/justin/Desktop/資料庫管理/data/W06_data/NQF-2017.txt',\n",
       " '/Users/justin/Desktop/資料庫管理/data/W06_data/NQF-2019.txt',\n",
       " '/Users/justin/Desktop/資料庫管理/data/W06_data/NQF-2018.txt',\n",
       " '/Users/justin/Desktop/資料庫管理/data/W06_data/NQF-2020.txt']"
      ]
     },
     "execution_count": 217,
     "metadata": {},
     "output_type": "execute_result"
    }
   ],
   "source": [
    "data_path='/Users/justin/Desktop/資料庫管理/data/W06_data'\n",
    "file_list=glob('%s/NQF-*.txt'% data_path)\n",
    "#會進行代換*\n",
    "file_list"
   ]
  },
  {
   "cell_type": "code",
   "execution_count": 218,
   "id": "3b494883",
   "metadata": {},
   "outputs": [],
   "source": [
    "datatable='StockInfo'"
   ]
  },
  {
   "cell_type": "code",
   "execution_count": 219,
   "id": "e5a69883",
   "metadata": {},
   "outputs": [],
   "source": [
    "data=pandas.read_csv(file_list[0],delimiter= '\\t')"
   ]
  },
  {
   "cell_type": "code",
   "execution_count": 220,
   "id": "fd2e21b8",
   "metadata": {},
   "outputs": [
    {
     "data": {
      "text/html": [
       "<div>\n",
       "<style scoped>\n",
       "    .dataframe tbody tr th:only-of-type {\n",
       "        vertical-align: middle;\n",
       "    }\n",
       "\n",
       "    .dataframe tbody tr th {\n",
       "        vertical-align: top;\n",
       "    }\n",
       "\n",
       "    .dataframe thead th {\n",
       "        text-align: right;\n",
       "    }\n",
       "</style>\n",
       "<table border=\"1\" class=\"dataframe\">\n",
       "  <thead>\n",
       "    <tr style=\"text-align: right;\">\n",
       "      <th></th>\n",
       "      <th>Date</th>\n",
       "      <th>Open</th>\n",
       "      <th>High</th>\n",
       "      <th>Low</th>\n",
       "      <th>Close</th>\n",
       "      <th>AdjClose</th>\n",
       "      <th>Volume</th>\n",
       "    </tr>\n",
       "  </thead>\n",
       "  <tbody>\n",
       "    <tr>\n",
       "      <th>0</th>\n",
       "      <td>Dec 29, 2017</td>\n",
       "      <td>6,444.50</td>\n",
       "      <td>6,467.75</td>\n",
       "      <td>6,383.25</td>\n",
       "      <td>6,408.75</td>\n",
       "      <td>6,408.75</td>\n",
       "      <td>210,114</td>\n",
       "    </tr>\n",
       "    <tr>\n",
       "      <th>1</th>\n",
       "      <td>Dec 28, 2017</td>\n",
       "      <td>6,452.25</td>\n",
       "      <td>6,477.50</td>\n",
       "      <td>6,442.25</td>\n",
       "      <td>6,446.25</td>\n",
       "      <td>6,446.25</td>\n",
       "      <td>138,254</td>\n",
       "    </tr>\n",
       "    <tr>\n",
       "      <th>2</th>\n",
       "      <td>Dec 27, 2017</td>\n",
       "      <td>6,461.25</td>\n",
       "      <td>6,475.50</td>\n",
       "      <td>6,442.00</td>\n",
       "      <td>6,454.00</td>\n",
       "      <td>6,454.00</td>\n",
       "      <td>158,481</td>\n",
       "    </tr>\n",
       "    <tr>\n",
       "      <th>3</th>\n",
       "      <td>Dec 26, 2017</td>\n",
       "      <td>6,482.50</td>\n",
       "      <td>6,492.00</td>\n",
       "      <td>6,432.25</td>\n",
       "      <td>6,460.00</td>\n",
       "      <td>6,460.00</td>\n",
       "      <td>135,130</td>\n",
       "    </tr>\n",
       "    <tr>\n",
       "      <th>4</th>\n",
       "      <td>Dec 22, 2017</td>\n",
       "      <td>6,489.75</td>\n",
       "      <td>6,501.75</td>\n",
       "      <td>6,467.50</td>\n",
       "      <td>6,483.75</td>\n",
       "      <td>6,483.75</td>\n",
       "      <td>130,810</td>\n",
       "    </tr>\n",
       "    <tr>\n",
       "      <th>...</th>\n",
       "      <td>...</td>\n",
       "      <td>...</td>\n",
       "      <td>...</td>\n",
       "      <td>...</td>\n",
       "      <td>...</td>\n",
       "      <td>...</td>\n",
       "      <td>...</td>\n",
       "    </tr>\n",
       "    <tr>\n",
       "      <th>246</th>\n",
       "      <td>Jan 09, 2017</td>\n",
       "      <td>5,004.50</td>\n",
       "      <td>5,029.50</td>\n",
       "      <td>5,002.50</td>\n",
       "      <td>5,022.00</td>\n",
       "      <td>5,022.00</td>\n",
       "      <td>148,112</td>\n",
       "    </tr>\n",
       "    <tr>\n",
       "      <th>247</th>\n",
       "      <td>Jan 06, 2017</td>\n",
       "      <td>4,962.50</td>\n",
       "      <td>5,017.50</td>\n",
       "      <td>4,952.50</td>\n",
       "      <td>5,004.00</td>\n",
       "      <td>5,004.00</td>\n",
       "      <td>183,315</td>\n",
       "    </tr>\n",
       "    <tr>\n",
       "      <th>248</th>\n",
       "      <td>Jan 05, 2017</td>\n",
       "      <td>4,934.75</td>\n",
       "      <td>4,964.25</td>\n",
       "      <td>4,920.50</td>\n",
       "      <td>4,962.00</td>\n",
       "      <td>4,962.00</td>\n",
       "      <td>169,565</td>\n",
       "    </tr>\n",
       "    <tr>\n",
       "      <th>249</th>\n",
       "      <td>Jan 04, 2017</td>\n",
       "      <td>4,906.50</td>\n",
       "      <td>4,942.50</td>\n",
       "      <td>4,903.00</td>\n",
       "      <td>4,933.50</td>\n",
       "      <td>4,933.50</td>\n",
       "      <td>171,952</td>\n",
       "    </tr>\n",
       "    <tr>\n",
       "      <th>250</th>\n",
       "      <td>Jan 03, 2017</td>\n",
       "      <td>4,876.75</td>\n",
       "      <td>4,927.50</td>\n",
       "      <td>4,876.75</td>\n",
       "      <td>4,906.25</td>\n",
       "      <td>4,906.25</td>\n",
       "      <td>215,983</td>\n",
       "    </tr>\n",
       "  </tbody>\n",
       "</table>\n",
       "<p>251 rows × 7 columns</p>\n",
       "</div>"
      ],
      "text/plain": [
       "             Date      Open      High       Low     Close  AdjClose   Volume\n",
       "0    Dec 29, 2017  6,444.50  6,467.75  6,383.25  6,408.75  6,408.75  210,114\n",
       "1    Dec 28, 2017  6,452.25  6,477.50  6,442.25  6,446.25  6,446.25  138,254\n",
       "2    Dec 27, 2017  6,461.25  6,475.50  6,442.00  6,454.00  6,454.00  158,481\n",
       "3    Dec 26, 2017  6,482.50  6,492.00  6,432.25  6,460.00  6,460.00  135,130\n",
       "4    Dec 22, 2017  6,489.75  6,501.75  6,467.50  6,483.75  6,483.75  130,810\n",
       "..            ...       ...       ...       ...       ...       ...      ...\n",
       "246  Jan 09, 2017  5,004.50  5,029.50  5,002.50  5,022.00  5,022.00  148,112\n",
       "247  Jan 06, 2017  4,962.50  5,017.50  4,952.50  5,004.00  5,004.00  183,315\n",
       "248  Jan 05, 2017  4,934.75  4,964.25  4,920.50  4,962.00  4,962.00  169,565\n",
       "249  Jan 04, 2017  4,906.50  4,942.50  4,903.00  4,933.50  4,933.50  171,952\n",
       "250  Jan 03, 2017  4,876.75  4,927.50  4,876.75  4,906.25  4,906.25  215,983\n",
       "\n",
       "[251 rows x 7 columns]"
      ]
     },
     "execution_count": 220,
     "metadata": {},
     "output_type": "execute_result"
    }
   ],
   "source": [
    "data"
   ]
  },
  {
   "cell_type": "markdown",
   "id": "b11b04f4",
   "metadata": {},
   "source": [
    "<h3>工具函數-依據輸入的不同做執行</h3>\n",
    "\n",
    "欄位間格為tab(\\t),\n",
    "將[0]解析為單獨的日期列(處理空格問題),\n",
    "推斷日期時間字符串的格式,\n",
    "header=0表示有檔頭,並將欄位名稱做相對應的代換\n",
    "\n",
    "新增衍生欄位stockID,\n",
    "由小到大排列,並將產生的index拆掉(drop),內部結構改變(inpalce)\n",
    "\n",
    "利用loc尋找沒有\"-\"的 資料(將-刪掉)\n",
    "\n",
    "定義數值欄,\n",
    "apply各個欄位都執行一件事:轉成字串,將\",\"replace掉,再轉為數值\n",
    "\n",
    "<h3>函數導向設計</h3>.\n",
    "lambda x:傳回變數,內容可代換(自行定義)->第二次期中"
   ]
  },
  {
   "cell_type": "code",
   "execution_count": 221,
   "id": "898f3fd8",
   "metadata": {},
   "outputs": [],
   "source": [
    "def import_data(stockID, file_name):\n",
    "    _dataset = pandas.read_csv(\n",
    "        file_name, delimiter='\\t', parse_dates=True, infer_datetime_format=True,\n",
    "        header=0, names=['StockDate', 'StockOpen', 'StockHigh', \n",
    "                         'StockLow', 'StockClose', 'StockAdjClose', 'StockVol'],\n",
    "    )\n",
    "    \n",
    "    _dataset['StockID'] = stockID\n",
    "    _dataset = _dataset.sort_values(by=['StockDate'])\n",
    "    \n",
    "    _dataset.reset_index(drop=True, inplace=True)\n",
    "    \n",
    "    _dataset = _dataset.loc[_dataset['StockOpen'] != '-']\n",
    "    \n",
    "    _number_fields = ['StockOpen', 'StockHigh', 'StockLow', 'StockClose', \n",
    "                      'StockAdjClose', 'StockVol']\n",
    "    \n",
    "    _dataset[_number_fields] = _dataset[_number_fields].apply(\n",
    "        lambda x: pandas.to_numeric(x.astype(str).str.replace(',', ''), errors='coerce')\n",
    "    )\n",
    "    \n",
    "    _dataset['StockVol'] = _dataset['StockVol'] / 1000.0\n",
    "            \n",
    "    return _dataset[['StockID', 'StockDate', \n",
    "                    'StockOpen', 'StockHigh', 'StockLow', 'StockClose', \n",
    "                    'StockAdjClose', 'StockVol']]"
   ]
  },
  {
   "cell_type": "markdown",
   "id": "8a2300d9",
   "metadata": {},
   "source": [
    "<h3>載入檔案</h3>"
   ]
  },
  {
   "cell_type": "code",
   "execution_count": 222,
   "id": "b15177c6",
   "metadata": {},
   "outputs": [],
   "source": [
    "_dataset=import_data('NQF',file_list[0])\n",
    "#呼叫工具程式傳入\"(NQF,檔名)\""
   ]
  },
  {
   "cell_type": "code",
   "execution_count": 223,
   "id": "49b9bc86",
   "metadata": {},
   "outputs": [
    {
     "data": {
      "text/html": [
       "<div>\n",
       "<style scoped>\n",
       "    .dataframe tbody tr th:only-of-type {\n",
       "        vertical-align: middle;\n",
       "    }\n",
       "\n",
       "    .dataframe tbody tr th {\n",
       "        vertical-align: top;\n",
       "    }\n",
       "\n",
       "    .dataframe thead th {\n",
       "        text-align: right;\n",
       "    }\n",
       "</style>\n",
       "<table border=\"1\" class=\"dataframe\">\n",
       "  <thead>\n",
       "    <tr style=\"text-align: right;\">\n",
       "      <th></th>\n",
       "      <th>StockID</th>\n",
       "      <th>StockDate</th>\n",
       "      <th>StockOpen</th>\n",
       "      <th>StockHigh</th>\n",
       "      <th>StockLow</th>\n",
       "      <th>StockClose</th>\n",
       "      <th>StockAdjClose</th>\n",
       "      <th>StockVol</th>\n",
       "    </tr>\n",
       "  </thead>\n",
       "  <tbody>\n",
       "    <tr>\n",
       "      <th>246</th>\n",
       "      <td>NQF</td>\n",
       "      <td>Sep 25, 2017</td>\n",
       "      <td>5930.75</td>\n",
       "      <td>5954.25</td>\n",
       "      <td>5842.00</td>\n",
       "      <td>5876.5</td>\n",
       "      <td>5876.5</td>\n",
       "      <td>447.828</td>\n",
       "    </tr>\n",
       "    <tr>\n",
       "      <th>247</th>\n",
       "      <td>NQF</td>\n",
       "      <td>Sep 26, 2017</td>\n",
       "      <td>5878.75</td>\n",
       "      <td>5912.50</td>\n",
       "      <td>5862.75</td>\n",
       "      <td>5892.5</td>\n",
       "      <td>5892.5</td>\n",
       "      <td>343.472</td>\n",
       "    </tr>\n",
       "    <tr>\n",
       "      <th>248</th>\n",
       "      <td>NQF</td>\n",
       "      <td>Sep 27, 2017</td>\n",
       "      <td>5889.75</td>\n",
       "      <td>5963.00</td>\n",
       "      <td>5886.50</td>\n",
       "      <td>5941.0</td>\n",
       "      <td>5941.0</td>\n",
       "      <td>349.282</td>\n",
       "    </tr>\n",
       "    <tr>\n",
       "      <th>249</th>\n",
       "      <td>NQF</td>\n",
       "      <td>Sep 28, 2017</td>\n",
       "      <td>5936.00</td>\n",
       "      <td>5948.25</td>\n",
       "      <td>5911.25</td>\n",
       "      <td>5938.5</td>\n",
       "      <td>5938.5</td>\n",
       "      <td>268.097</td>\n",
       "    </tr>\n",
       "    <tr>\n",
       "      <th>250</th>\n",
       "      <td>NQF</td>\n",
       "      <td>Sep 29, 2017</td>\n",
       "      <td>5939.25</td>\n",
       "      <td>5985.50</td>\n",
       "      <td>5933.00</td>\n",
       "      <td>5982.5</td>\n",
       "      <td>5982.5</td>\n",
       "      <td>275.661</td>\n",
       "    </tr>\n",
       "  </tbody>\n",
       "</table>\n",
       "</div>"
      ],
      "text/plain": [
       "    StockID     StockDate  StockOpen  StockHigh  StockLow  StockClose  \\\n",
       "246     NQF  Sep 25, 2017    5930.75    5954.25   5842.00      5876.5   \n",
       "247     NQF  Sep 26, 2017    5878.75    5912.50   5862.75      5892.5   \n",
       "248     NQF  Sep 27, 2017    5889.75    5963.00   5886.50      5941.0   \n",
       "249     NQF  Sep 28, 2017    5936.00    5948.25   5911.25      5938.5   \n",
       "250     NQF  Sep 29, 2017    5939.25    5985.50   5933.00      5982.5   \n",
       "\n",
       "     StockAdjClose  StockVol  \n",
       "246         5876.5   447.828  \n",
       "247         5892.5   343.472  \n",
       "248         5941.0   349.282  \n",
       "249         5938.5   268.097  \n",
       "250         5982.5   275.661  "
      ]
     },
     "execution_count": 223,
     "metadata": {},
     "output_type": "execute_result"
    }
   ],
   "source": [
    "_dataset.tail()"
   ]
  },
  {
   "cell_type": "markdown",
   "id": "9a334a60",
   "metadata": {},
   "source": [
    "<h3>建立表格SQL命令搞(樣板)</h3>\n",
    "用pandas函數將datasets傳入,並給一個table,用換行鍵(\\n)拆分,以向量形式輸出"
   ]
  },
  {
   "cell_type": "code",
   "execution_count": 224,
   "id": "891b619a",
   "metadata": {},
   "outputs": [
    {
     "data": {
      "text/plain": [
       "['CREATE TABLE \"StockInfo\" (',\n",
       " '\"StockID\" TEXT,',\n",
       " '  \"StockDate\" TEXT,',\n",
       " '  \"StockOpen\" REAL,',\n",
       " '  \"StockHigh\" REAL,',\n",
       " '  \"StockLow\" REAL,',\n",
       " '  \"StockClose\" REAL,',\n",
       " '  \"StockAdjClose\" REAL,',\n",
       " '  \"StockVol\" REAL',\n",
       " ')']"
      ]
     },
     "execution_count": 224,
     "metadata": {},
     "output_type": "execute_result"
    }
   ],
   "source": [
    "_create_table_sql=pandas.io.sql.get_schema(_dataset,datatable).split('\\n')\n",
    "_create_table_sql"
   ]
  },
  {
   "cell_type": "code",
   "execution_count": 225,
   "id": "595b90f1",
   "metadata": {},
   "outputs": [],
   "source": [
    "def StringtoDatetime(x):\n",
    "    date=datetime.strptime(x,\"%b %d, %Y\")\n",
    "    date=datetime.strftime(date,'%Y-%m-%d')\n",
    "    return date"
   ]
  },
  {
   "cell_type": "markdown",
   "id": "a7894158",
   "metadata": {},
   "source": [
    "<h3>新增筆錄至表格內SQL命令搞</h3>"
   ]
  },
  {
   "cell_type": "code",
   "execution_count": 226,
   "id": "f4b15512",
   "metadata": {},
   "outputs": [
    {
     "data": {
      "text/plain": [
       "\"INSERT INTO StockInfo (StockID, StockDate, StockOpen, StockHigh, StockLow, StockClose, StockAdjClose, StockVol) VALUES('NQF','2017-04-03',5436.75,5455.0,5403.25,5434.5,5434.5,264.74)\""
      ]
     },
     "execution_count": 226,
     "metadata": {},
     "output_type": "execute_result"
    }
   ],
   "source": [
    "_sql = 'INSERT INTO %s ' % datatable\n",
    "_sql = _sql + '(%s, %s, %s, %s, %s, %s, %s, %s) ' % tuple(_dataset.columns)\n",
    "#tuple格式化分配\n",
    "\n",
    "_insert_table_sql_list = []\n",
    "\n",
    "#用迴圈將每筆資料放入陣列,存入DB\n",
    "for i in range(_dataset.shape[0]):\n",
    "    #shape0是維度,表示資料有幾筆\n",
    "    #shape1表示欄位\n",
    "    _row = _dataset.iloc[i]\n",
    "    #第幾筆資料\n",
    "    _insert_table_sql = _sql + \"VALUES('%s','%s',%s,%s,%s,%s,%s,%s)\" % (\n",
    "        _row['StockID'], StringtoDatetime(_row['StockDate']), #字串轉日期 \n",
    "        _row['StockOpen'], _row['StockHigh'], _row['StockLow'], _row['StockClose'],\n",
    "        _row['StockAdjClose'], _row['StockVol']\n",
    "    )    \n",
    "    \n",
    "    _insert_table_sql_list.append(_insert_table_sql)\n",
    "\n",
    "_insert_table_sql_list[0]"
   ]
  },
  {
   "cell_type": "code",
   "execution_count": 227,
   "id": "9b1cb799",
   "metadata": {},
   "outputs": [
    {
     "data": {
      "text/plain": [
       "\"INSERT INTO StockInfo (StockID, StockDate, StockOpen, StockHigh, StockLow, StockClose, StockAdjClose, StockVol) VALUES('NQF','2017-04-05',5447.0,5481.25,5409.0,5416.25,5416.25,301.129)\""
      ]
     },
     "execution_count": 227,
     "metadata": {},
     "output_type": "execute_result"
    }
   ],
   "source": [
    "_insert_table_sql_list[2]"
   ]
  },
  {
   "cell_type": "code",
   "execution_count": 228,
   "id": "7be5d2f0",
   "metadata": {},
   "outputs": [
    {
     "data": {
      "text/plain": [
       "'INSERT INTO StockInfo (StockID, StockDate, StockOpen, StockHigh, StockLow, StockClose, StockAdjClose, StockVol) VALUES(NQF, 2020-12-24, -100.0, -100.0, -100.0, -100.0, -100.0, -100.0)'"
      ]
     },
     "execution_count": 228,
     "metadata": {},
     "output_type": "execute_result"
    }
   ],
   "source": [
    "#單筆資料寫法\n",
    "_insert_table_sql= _sql+\"VALUES(%s, %s, %s, %s, %s, %s, %s, %s)\"%(\n",
    "    'NQF','2020-12-24',-100.0,-100.0,-100.0,-100.0,-100.0,-100.0\n",
    "    )\n",
    "_insert_table_sql"
   ]
  },
  {
   "cell_type": "markdown",
   "id": "3dee6c70",
   "metadata": {},
   "source": [
    "<h3>異動筆錄至表格內SQL命令稿</h3>"
   ]
  },
  {
   "cell_type": "code",
   "execution_count": 229,
   "id": "f16f520e",
   "metadata": {},
   "outputs": [
    {
     "data": {
      "text/plain": [
       "\"UPDATE StockInfo SET StockVol=0.0 WHERE StockID='NQF' AND StockDate ='2020-12-24'\""
      ]
     },
     "execution_count": 229,
     "metadata": {},
     "output_type": "execute_result"
    }
   ],
   "source": [
    "_update_table_sql=\"UPDATE %s SET %s=%s WHERE StockID='%s' AND StockDate ='%s'\" %(\n",
    "    datatable,'StockVol',0.0,'NQF','2020-12-24')\n",
    "_update_table_sql"
   ]
  },
  {
   "cell_type": "markdown",
   "id": "40635b2b",
   "metadata": {},
   "source": [
    "<h3>刪除筆錄至表格內SQL命令稿</h3>"
   ]
  },
  {
   "cell_type": "code",
   "execution_count": 230,
   "id": "f7428451",
   "metadata": {},
   "outputs": [
    {
     "data": {
      "text/plain": [
       "\"DELETE FROM StockInfo WHERE StockID='NQF'AND StockDate='2020-12-24'\""
      ]
     },
     "execution_count": 230,
     "metadata": {},
     "output_type": "execute_result"
    }
   ],
   "source": [
    "_delete_table_sql=\"DELETE FROM %s WHERE StockID='%s'AND StockDate='%s'\"%(\n",
    "    datatable, 'NQF', '2020-12-24')\n",
    "_delete_table_sql"
   ]
  }
 ],
 "metadata": {
  "kernelspec": {
   "display_name": "Python 3 (ipykernel)",
   "language": "python",
   "name": "python3"
  },
  "language_info": {
   "codemirror_mode": {
    "name": "ipython",
    "version": 3
   },
   "file_extension": ".py",
   "mimetype": "text/x-python",
   "name": "python",
   "nbconvert_exporter": "python",
   "pygments_lexer": "ipython3",
   "version": "3.8.2"
  }
 },
 "nbformat": 4,
 "nbformat_minor": 5
}
