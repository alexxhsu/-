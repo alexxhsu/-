{
 "cells": [
  {
   "cell_type": "code",
   "execution_count": 1,
   "id": "1374f37c",
   "metadata": {},
   "outputs": [],
   "source": [
    "import jaydebeapi\n",
    "import numpy\n",
    "import pandas"
   ]
  },
  {
   "cell_type": "markdown",
   "id": "b94436d6",
   "metadata": {},
   "source": [
    "<h3>環境設置</h3>"
   ]
  },
  {
   "cell_type": "code",
   "execution_count": 2,
   "id": "467531bc",
   "metadata": {},
   "outputs": [],
   "source": [
    "stock_ID=\"NQF\"\n",
    "data_table=\"stockInfo\""
   ]
  },
  {
   "cell_type": "code",
   "execution_count": 3,
   "id": "a1489969",
   "metadata": {},
   "outputs": [],
   "source": [
    "field_names=[\n",
    "    'StockID', 'StockDate', \n",
    "    'StockOpen', 'StockHigh', 'StockLow', 'StockClose', \n",
    "    'StockAdjClose', 'StockVol'\n",
    "    ]"
   ]
  },
  {
   "cell_type": "markdown",
   "id": "bbf35336",
   "metadata": {},
   "source": [
    "<h3>開啟資料庫</h3>"
   ]
  },
  {
   "cell_type": "code",
   "execution_count": 2,
   "id": "e8ee8286",
   "metadata": {},
   "outputs": [],
   "source": [
    "dbConnection =jaydebeapi.connect(\n",
    "    \"org.h2.Driver\",\n",
    "    \"jdbc:h2:/Users/justin/Project/h2\",\n",
    "    [\"sa\",\"\"],\n",
    "    \"/Users/justin/Project/h2/bin/h2-2.1.214.jar\"\n",
    ")\n",
    "dbCursor = dbConnection.cursor()\n",
    "#作業空間"
   ]
  },
  {
   "cell_type": "markdown",
   "id": "6e730179",
   "metadata": {},
   "source": [
    "<h3>資料統計-按年月小計</h3>"
   ]
  },
  {
   "cell_type": "markdown",
   "id": "fc185e18",
   "metadata": {},
   "source": [
    "<h3>最大,最小值,平均數</h3>"
   ]
  },
  {
   "cell_type": "code",
   "execution_count": null,
   "id": "d5cb76ce",
   "metadata": {},
   "outputs": [],
   "source": [
    "#用SQL做\n",
    "_sql=[\n",
    "    \"SELECT LEFT(StockDate,7) AS YM,\", #字串函數(LEFT),前七位\n",
    "    \"MIN(StockOpen) AS MinstockOpen,AVG(StockOpen) AS AvgstockOpen,MAX(StockOpen) AS MaxstockOpen\",\n",
    "    \"FROM STOCKINFO\",\n",
    "    \"WHERE StockID= '%s'\" % stock_ID,\n",
    "    \"GROUP BY LEFT(StockDate,7)\" #小計\n",
    "]\n",
    "\n",
    "dbCursor.execute(' '.join(_sql)) #執行sql語句\n",
    "resultSet = dbCursor.fetchall() #tuple資料  #获取查询返回结果\n",
    "\n",
    "rows={\n",
    "    'YM':[],\n",
    "    'MIN_OPEN':[],\n",
    "    'AVG_OPEN':[],\n",
    "    'MAX_OPEN':[]    \n",
    "}\n",
    "#資料結構(陣列),初始化\n",
    "\n",
    "for row in resultSet:\n",
    "    rows['YM'].append(row[0]),\n",
    "    rows['MIN_OPEN'].append(row[1])\n",
    "    rows['AVG_OPEN'].append(row[2])\n",
    "    rows['MAX_OPEN'].append(row[3])\n",
    "\n",
    "results=pandas.DataFrame(data=rows).set_index(['YM'] )#把row指派到data裡面\n",
    "results.head()"
   ]
  },
  {
   "cell_type": "code",
   "execution_count": null,
   "id": "2302936a",
   "metadata": {},
   "outputs": [],
   "source": [
    "#用python做\n",
    "_sql=[\n",
    "    \"SELECT STOCKDATE ,LEFT(StockDate,7) AS YM, StockOpen\",\n",
    "    \"FROM STOCKINFO\",\n",
    "    \"WHERE StockID= '%s'\" % stock_ID\n",
    "]\n",
    "#資料量較大,運算負荷較少\n",
    "dbCursor.execute(' '.join(_sql))\n",
    "resultSet = dbCursor.fetchall()\n",
    "\n",
    "rows={\n",
    "    'STOCKDATE':[],\n",
    "    'YM':[],\n",
    "    'STOCKOPEN':[]\n",
    "}\n",
    "for row in resultSet:\n",
    "    rows['STOCKDATE'].append(row[0])\n",
    "    rows['YM'].append(row[1])\n",
    "    rows['STOCKOPEN'].append(row[2])\n",
    "    \n",
    "results=pandas.DataFrame(data=rows).set_index(['STOCKDATE']).groupby(by=['YM']).agg(['min','mean','max']) #agg計算統計量\n",
    "results.columns=[['MIN_OPEN','AVG_OPEN','MAX_OPEN']]                                                                         \n",
    "results.head()"
   ]
  },
  {
   "cell_type": "code",
   "execution_count": null,
   "id": "3529957f",
   "metadata": {},
   "outputs": [],
   "source": [
    "#針對年份(2019,2020)\n",
    "_sql=[\n",
    "    \"SELECT LEFT(StockDate,7) AS YM,\",\n",
    "    \"MIN(StockOpen) AS MinstockOpen,AVG(StockOpen) AS AvgstockOpen,MAX(StockOpen) AS MaxstockOpen\",\n",
    "    \"FROM STOCKINFO\",\n",
    "    \"WHERE LEFT(STOCKDATE,4)='2019' OR LEFT(STOCKDATE,4)='2020' AND StockID= '%s'\" % stock_ID, #更改條件\n",
    "    \"GROUP BY LEFT(StockDate,7)\"\n",
    "]\n",
    "\n",
    "dbCursor.execute(' '.join(_sql))\n",
    "resultSet = dbCursor.fetchall()\n",
    "\n",
    "rows={\n",
    "    'YM':[],\n",
    "    'MIN_OPEN':[],\n",
    "    'AVG_OPEN':[],\n",
    "    'MAX_OPEN':[]    \n",
    "}\n",
    "\n",
    "for row in resultSet:\n",
    "    rows['YM'].append(row[0]),\n",
    "    rows['MIN_OPEN'].append(row[1])\n",
    "    rows['AVG_OPEN'].append(row[2])\n",
    "    rows['MAX_OPEN'].append(row[3])\n",
    "\n",
    "results=pandas.DataFrame(data=rows).set_index(['YM'])\n",
    "results"
   ]
  },
  {
   "cell_type": "code",
   "execution_count": null,
   "id": "950c5e4e",
   "metadata": {},
   "outputs": [],
   "source": [
    "#宣告年份變數\n",
    "_year=2018\n",
    "_sql=[\n",
    "    \"SELECT STOCKDATE ,LEFT(StockDate,7) AS YM, StockOpen\",\n",
    "    \"FROM STOCKINFO\",\n",
    "    \"WHERE LEFT(STOCKDATE,4)='%s' AND StockID= '%s'\" % (_year,stock_ID), #更改指派條件\n",
    "    ]\n",
    "\n",
    "dbCursor.execute(' '.join(_sql))\n",
    "resultSet = dbCursor.fetchall()\n",
    "\n",
    "rows={\n",
    "    'STOCKDATE':[],\n",
    "    'YM':[],\n",
    "    'STOCKOPEN':[]\n",
    "}\n",
    "\n",
    "for row in resultSet:\n",
    "    rows['STOCKDATE'].append(row[0])\n",
    "    rows['YM'].append(row[1])\n",
    "    rows['STOCKOPEN'].append(row[2])\n",
    "\n",
    "results=pandas.DataFrame(data=rows).set_index(['STOCKDATE']).groupby(by=['YM']).agg(['min','mean','max'])\n",
    "results.columns=[['MIN_OPEN','AVG_OPEN','MAX_OPEN']]                                                                                   \n",
    "results.head()"
   ]
  },
  {
   "cell_type": "markdown",
   "id": "7df553a5",
   "metadata": {},
   "source": [
    "<h3>設計函式</h3>"
   ]
  },
  {
   "cell_type": "code",
   "execution_count": null,
   "id": "b2532fbf",
   "metadata": {},
   "outputs": [],
   "source": [
    "def Calc_Open(year,stock_id): #記得縮排,注意大小寫\n",
    "    _sql=[\n",
    "    \"SELECT STOCKDATE ,LEFT(StockDate,7) AS YM, StockOpen\",\n",
    "    \"FROM STOCKINFO\",\n",
    "    \"WHERE LEFT(STOCKDATE,4)='%s' AND StockID= '%s'\" % (year,stock_id), #更改指派條件\n",
    "    ]\n",
    "\n",
    "    dbCursor.execute(' '.join(_sql))\n",
    "    resultSet = dbCursor.fetchall()\n",
    "\n",
    "    rows={\n",
    "        'STOCKDATE':[],\n",
    "        'YM':[],\n",
    "        'STOCKOPEN':[]\n",
    "    }\n",
    "\n",
    "    for row in resultSet:\n",
    "        rows['STOCKDATE'].append(row[0])\n",
    "        rows['YM'].append(row[1])\n",
    "        rows['STOCKOPEN'].append(row[2])\n",
    "\n",
    "    results=pandas.DataFrame(data=rows).set_index(['STOCKDATE']).groupby(by=['YM']).agg(['min','mean','max'])\n",
    "    results.columns=[['MIN_OPEN','AVG_OPEN','MAX_OPEN']]           \n",
    "    \n",
    "    return results #return結果"
   ]
  },
  {
   "cell_type": "code",
   "execution_count": null,
   "id": "14234d74",
   "metadata": {},
   "outputs": [],
   "source": [
    "df_2019=Calc_Open(year=2019,stock_id='NQF')\n",
    "df_2019.tail()"
   ]
  },
  {
   "cell_type": "code",
   "execution_count": null,
   "id": "fd13a717",
   "metadata": {},
   "outputs": [],
   "source": [
    "df_all=[]\n",
    "for _year in [2017,2018,2019]:\n",
    "    _df=Calc_Open(year=_year,stock_id='IBM')\n",
    "    df_all.append(_df)\n",
    "df_all"
   ]
  },
  {
   "cell_type": "code",
   "execution_count": 3,
   "id": "20f49ae0",
   "metadata": {},
   "outputs": [
    {
     "ename": "NameError",
     "evalue": "name 'dbCursor' is not defined",
     "output_type": "error",
     "traceback": [
      "\u001b[0;31m---------------------------------------------------------------------------\u001b[0m",
      "\u001b[0;31mNameError\u001b[0m                                 Traceback (most recent call last)",
      "\u001b[0;32m/var/folders/hf/5tnp05ns7598nz_smm6l10tm0000gn/T/ipykernel_4608/4164340648.py\u001b[0m in \u001b[0;36m<module>\u001b[0;34m\u001b[0m\n\u001b[0;32m----> 1\u001b[0;31m \u001b[0mdbCursor\u001b[0m\u001b[0;34m.\u001b[0m\u001b[0mclose\u001b[0m\u001b[0;34m(\u001b[0m\u001b[0;34m)\u001b[0m\u001b[0;34m\u001b[0m\u001b[0;34m\u001b[0m\u001b[0m\n\u001b[0m\u001b[1;32m      2\u001b[0m \u001b[0mdbConnection\u001b[0m\u001b[0;34m.\u001b[0m\u001b[0mclose\u001b[0m\u001b[0;34m(\u001b[0m\u001b[0;34m)\u001b[0m\u001b[0;34m\u001b[0m\u001b[0;34m\u001b[0m\u001b[0m\n",
      "\u001b[0;31mNameError\u001b[0m: name 'dbCursor' is not defined"
     ]
    }
   ],
   "source": [
    "dbCursor.close()\n",
    "dbConnection.close()"
   ]
  }
 ],
 "metadata": {
  "kernelspec": {
   "display_name": "Python 3 (ipykernel)",
   "language": "python",
   "name": "python3"
  },
  "language_info": {
   "codemirror_mode": {
    "name": "ipython",
    "version": 3
   },
   "file_extension": ".py",
   "mimetype": "text/x-python",
   "name": "python",
   "nbconvert_exporter": "python",
   "pygments_lexer": "ipython3",
   "version": "3.8.2"
  }
 },
 "nbformat": 4,
 "nbformat_minor": 5
}
