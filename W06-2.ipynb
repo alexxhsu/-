{
 "cells": [
  {
   "cell_type": "code",
   "execution_count": 1,
   "id": "933dcaca",
   "metadata": {},
   "outputs": [],
   "source": [
    "from glob import glob\n",
    "import codecs\n",
    "from datetime import datetime"
   ]
  },
  {
   "cell_type": "code",
   "execution_count": 2,
   "id": "f3428122",
   "metadata": {},
   "outputs": [],
   "source": [
    "import numpy\n",
    "import pandas"
   ]
  },
  {
   "cell_type": "code",
   "execution_count": 3,
   "id": "77951f16",
   "metadata": {},
   "outputs": [],
   "source": [
    "import jaydebeapi"
   ]
  },
  {
   "cell_type": "markdown",
   "id": "a67e5875",
   "metadata": {},
   "source": [
    "<h3>資料樣例</h3>\n",
    "<pre>\n",
    "Date\tOpen\tHigh\tLow\tClose\tAdjClose\tVolume\n",
    "Dec 30, 2020\t12,860.75\t12,909.75\t12,820.50\t12,841.50\t12,841.50\t334,304\n",
    "Dec 29, 2020\t12,845.25\t12,918.25\t12,808.25\t12,841.00\t12,841.00\t393,995\n",
    "Dec 28, 2020\t12,676.25\t12,855.50\t12,655.25\t12,832.75\t12,832.75\t346,691\n",
    "Dec 24, 2020\t-\t-\t-\t-\t-\t-\n",
    "</pre>"
   ]
  },
  {
   "cell_type": "markdown",
   "id": "ca5b7937",
   "metadata": {},
   "source": [
    "<h3>環境設置</h3>"
   ]
  },
  {
   "cell_type": "code",
   "execution_count": 4,
   "id": "baf32173",
   "metadata": {},
   "outputs": [
    {
     "data": {
      "text/plain": [
       "['/Users/justin/Desktop/資料庫管理/data/W06_data/NQF-2017.txt',\n",
       " '/Users/justin/Desktop/資料庫管理/data/W06_data/NQF-2019.txt',\n",
       " '/Users/justin/Desktop/資料庫管理/data/W06_data/NQF-2018.txt',\n",
       " '/Users/justin/Desktop/資料庫管理/data/W06_data/NQF-2020.txt']"
      ]
     },
     "execution_count": 4,
     "metadata": {},
     "output_type": "execute_result"
    }
   ],
   "source": [
    "data_path = '/Users/justin/Desktop/資料庫管理/data/W06_data'\n",
    "file_list = glob('%s/NQF-*.txt' % data_path)\n",
    "file_list"
   ]
  },
  {
   "cell_type": "code",
   "execution_count": 7,
   "id": "c319287d",
   "metadata": {},
   "outputs": [],
   "source": [
    "stock_ID = 'NQF'\n",
    "data_table = 'STOCKINFO'"
   ]
  },
  {
   "cell_type": "code",
   "execution_count": 9,
   "id": "1ef2248e",
   "metadata": {},
   "outputs": [],
   "source": [
    "number_fields = [\n",
    "    'StockOpen', 'StockHigh', 'StockLow', 'StockClose', \n",
    "    'StockAdjClose', 'StockVol'\n",
    "]"
   ]
  },
  {
   "cell_type": "code",
   "execution_count": 10,
   "id": "2f9837e2",
   "metadata": {},
   "outputs": [
    {
     "data": {
      "text/plain": [
       "['StockID',\n",
       " 'StockDate',\n",
       " 'StockOpen',\n",
       " 'StockHigh',\n",
       " 'StockLow',\n",
       " 'StockClose',\n",
       " 'StockAdjClose',\n",
       " 'StockVol']"
      ]
     },
     "execution_count": 10,
     "metadata": {},
     "output_type": "execute_result"
    }
   ],
   "source": [
    "field_names = ['StockID', 'StockDate']\n",
    "field_names.extend(number_fields)\n",
    "field_names"
   ]
  },
  {
   "cell_type": "markdown",
   "id": "09e4b7d8",
   "metadata": {},
   "source": [
    "<h3>工具函數</h3>"
   ]
  },
  {
   "cell_type": "code",
   "execution_count": 11,
   "id": "e05578ae",
   "metadata": {},
   "outputs": [],
   "source": [
    "def import_data(stockID, file_name):\n",
    "    _dataset = pandas.read_csv(\n",
    "        file_name, delimiter='\\t', parse_dates=[0], infer_datetime_format=True,\n",
    "        header=0, names=field_names[1:] #用自己的欄位名稱,從1之後開始加入(尚無stockID)\n",
    "    )\n",
    "    \n",
    "    _dataset['StockID'] = stockID\n",
    "    _dataset = _dataset.sort_values(by=['StockDate'])\n",
    "    \n",
    "    _dataset.reset_index(drop=True, inplace=True)\n",
    "    \n",
    "    _dataset = _dataset.loc[_dataset['StockVol'] != '-']\n",
    "    \n",
    "    _dataset[number_fields] = _dataset[number_fields].apply(\n",
    "        lambda x: pandas.to_numeric(x.astype(str).str.replace(',', ''), errors='coerce')\n",
    "    )\n",
    "    \n",
    "    _dataset['StockVol'] = _dataset['StockVol'] / 1000.0\n",
    "            \n",
    "    return _dataset[field_names]"
   ]
  },
  {
   "cell_type": "code",
   "execution_count": 12,
   "id": "d47ea3d5",
   "metadata": {},
   "outputs": [],
   "source": [
    "def generate_insert_table_sql(stock_dataset, insert_table_sql_list):\n",
    "    _sql = 'INSERT INTO %s ' % data_table\n",
    "    _sql = _sql + '(%s, %s, %s, %s, %s, %s, %s, %s) ' % tuple(stock_dataset.columns)\n",
    "\n",
    "    for i in range(stock_dataset.shape[0]):\n",
    "        _row = stock_dataset.iloc[i]\n",
    "        _insert_table_sql = _sql + \"VALUES('%s','%s',%s,%s,%s,%s,%s,%s)\" % (\n",
    "            _row['StockID'], _row['StockDate'].strftime('%Y-%m-%d'), \n",
    "            _row['StockOpen'], _row['StockHigh'], _row['StockLow'], _row['StockClose'],\n",
    "            _row['StockAdjClose'], _row['StockVol']\n",
    "        )    \n",
    "\n",
    "        insert_table_sql_list.append(_insert_table_sql)"
   ]
  },
  {
   "cell_type": "markdown",
   "id": "66acbefb",
   "metadata": {},
   "source": [
    "<h3>載入檔案群，產生新增資料表格筆錄 SQL 命令稿</h3>"
   ]
  },
  {
   "cell_type": "code",
   "execution_count": 13,
   "id": "276e7000",
   "metadata": {},
   "outputs": [],
   "source": [
    "_insert_table_sql_list = []\n",
    "\n",
    "for _file in file_list:\n",
    "    stock_dataset = import_data(stock_ID, _file)\n",
    "    generate_insert_table_sql(stock_dataset, _insert_table_sql_list)\n",
    "\n",
    "insert_table_sql_list = numpy.array(_insert_table_sql_list)\n",
    "#轉換成numpy.array以便後續處理\n"
   ]
  },
  {
   "cell_type": "code",
   "execution_count": 14,
   "id": "488a3d70",
   "metadata": {},
   "outputs": [
    {
     "data": {
      "text/plain": [
       "993"
      ]
     },
     "execution_count": 14,
     "metadata": {},
     "output_type": "execute_result"
    }
   ],
   "source": [
    "insert_table_sql_list.shape[0]"
   ]
  },
  {
   "cell_type": "code",
   "execution_count": 15,
   "id": "c1950b80",
   "metadata": {},
   "outputs": [
    {
     "data": {
      "text/plain": [
       "\"INSERT INTO STOCKINFO (StockID, StockDate, StockOpen, StockHigh, StockLow, StockClose, StockAdjClose, StockVol) VALUES('NQF','2017-01-03',4876.75,4927.5,4876.75,4906.25,4906.25,215.983)\""
      ]
     },
     "execution_count": 15,
     "metadata": {},
     "output_type": "execute_result"
    }
   ],
   "source": [
    "insert_table_sql_list[0]"
   ]
  },
  {
   "cell_type": "markdown",
   "id": "f220c446",
   "metadata": {},
   "source": [
    "<h3>開啟資料庫(單人版)</h3>"
   ]
  },
  {
   "cell_type": "code",
   "execution_count": 13,
   "id": "6b91990a",
   "metadata": {},
   "outputs": [],
   "source": [
    "dbConnection = jaydebeapi.connect(\n",
    "    \"org.h2.Driver\",\n",
    "    \"jdbc:h2:C:/Users/user/anaconda3/Projects/data/H2\",\n",
    "    [\"SA\", \"\"],\n",
    "    \"C:/Java/h2/bin/h2-1.4.200.jar\")\n",
    "\n",
    "dbCursor = dbConnection.cursor()\n",
    "#作業空間"
   ]
  },
  {
   "cell_type": "markdown",
   "id": "fc0b2491",
   "metadata": {},
   "source": [
    "<h3>新增資料筆錄</h3>"
   ]
  },
  {
   "cell_type": "code",
   "execution_count": 14,
   "id": "2520da30",
   "metadata": {},
   "outputs": [
    {
     "name": "stdout",
     "output_type": "stream",
     "text": [
      "(993,)\n"
     ]
    }
   ],
   "source": [
    "_sql = \"DELETE FROM STOCKINFO WHERE StockID='%s'\" % stock_ID\n",
    "dbCursor.execute(_sql)\n",
    "#只要資料中有NQF的ID就先刪除\n",
    "\n",
    "for _sql in insert_table_sql_list:\n",
    "    try:\n",
    "        dbCursor.execute(_sql)\n",
    "    except Exception as err:\n",
    "        print(err)\n",
    "#一個個執行,有錯就顯示        \n",
    "\n",
    "_sql = \"SELECT COUNT(StockID) FROM STOCKINFO WHERE StockID='%s'\" % stock_ID\n",
    "#所有NQF的ID有幾筆,確認有正確輸入\n",
    "dbCursor.execute(_sql)\n",
    "\n",
    "resultSet = dbCursor.fetchall()\n",
    "\n",
    "for row in resultSet:\n",
    "    print(row)"
   ]
  },
  {
   "cell_type": "markdown",
   "id": "70096a2f",
   "metadata": {},
   "source": [
    "<h3>關閉資料庫</h3>"
   ]
  },
  {
   "cell_type": "code",
   "execution_count": 15,
   "id": "1be33de9",
   "metadata": {},
   "outputs": [],
   "source": [
    "dbCursor.close()\n",
    "dbConnection.close()"
   ]
  },
  {
   "cell_type": "code",
   "execution_count": null,
   "id": "304c412b",
   "metadata": {},
   "outputs": [],
   "source": []
  }
 ],
 "metadata": {
  "kernelspec": {
   "display_name": "Python 3 (ipykernel)",
   "language": "python",
   "name": "python3"
  },
  "language_info": {
   "codemirror_mode": {
    "name": "ipython",
    "version": 3
   },
   "file_extension": ".py",
   "mimetype": "text/x-python",
   "name": "python",
   "nbconvert_exporter": "python",
   "pygments_lexer": "ipython3",
   "version": "3.8.2"
  }
 },
 "nbformat": 4,
 "nbformat_minor": 5
}
