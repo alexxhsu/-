{
 "cells": [
  {
   "cell_type": "code",
   "execution_count": 1,
   "id": "cfed197b",
   "metadata": {},
   "outputs": [],
   "source": [
    "import jaydebeapi"
   ]
  },
  {
   "cell_type": "code",
   "execution_count": 2,
   "id": "00fc7849",
   "metadata": {},
   "outputs": [],
   "source": [
    "import numpy\n",
    "import pandas"
   ]
  },
  {
   "cell_type": "code",
   "execution_count": 3,
   "id": "b8cdb4a0",
   "metadata": {},
   "outputs": [],
   "source": [
    "stock_ID='NQF'\n",
    "data_table='StockInfo'"
   ]
  },
  {
   "cell_type": "code",
   "execution_count": 4,
   "id": "f8f7427d",
   "metadata": {},
   "outputs": [],
   "source": [
    "filed_names=[\n",
    "    'StockID', 'StockDate', 'StockOpen', 'StockHigh', \n",
    "    'StockLow', 'StockClose', 'StockAdjClose', 'StockVol'\n",
    "]"
   ]
  },
  {
   "cell_type": "markdown",
   "id": "954832a8",
   "metadata": {},
   "source": [
    "<h3>開啟資料庫</h3>"
   ]
  },
  {
   "cell_type": "code",
   "execution_count": 29,
   "id": "77fab062",
   "metadata": {},
   "outputs": [],
   "source": [
    "dbConnection = jaydebeapi.connect(\n",
    "    \"org.h2.Driver\",\n",
    "    \"jdbc:h2:C:/Users/user/anaconda3/Projects/data/H2\",\n",
    "    [\"SA\", \"\"],\n",
    "    \"C:/Java/h2/bin/h2-1.4.200.jar\")\n",
    "\n",
    "dbCursor = dbConnection.cursor()"
   ]
  },
  {
   "cell_type": "markdown",
   "id": "4894a4e1",
   "metadata": {},
   "source": [
    "<h3>刪除資料筆錄</h3>"
   ]
  },
  {
   "cell_type": "code",
   "execution_count": 30,
   "id": "e4dc2f90",
   "metadata": {},
   "outputs": [],
   "source": [
    "_sql=\"DELETE FROM STOCKINFO WHERE StockID='%s' AND StockDate='%s'\"%(\n",
    "    stock_ID,'2020-12-24')\n",
    "dbCursor.execute(_sql)"
   ]
  },
  {
   "cell_type": "code",
   "execution_count": 32,
   "id": "cd05f7a1",
   "metadata": {},
   "outputs": [],
   "source": [
    "_sql = 'INSERT INTO %s ' % data_table\n",
    "_sql = _sql + '(%s, %s, %s, %s, %s, %s, %s, %s) ' % tuple(filed_names)\n",
    "_sql = _sql + \"VALUES('%s', '%s', %s, %s, %s, %s, %s, %s)\" % (\n",
    "     'NQF', '2020-12-24',-100.0,-100.0,-100.0,-100.0,-100.0,-100.0\n",
    "    )\n",
    "dbCursor.execute(_sql)"
   ]
  },
  {
   "cell_type": "markdown",
   "id": "7017abbe",
   "metadata": {},
   "source": [
    "<h3>驗證新增資料筆錄</h3>"
   ]
  },
  {
   "cell_type": "code",
   "execution_count": 33,
   "id": "3ab580bb",
   "metadata": {},
   "outputs": [
    {
     "name": "stdout",
     "output_type": "stream",
     "text": [
      "('NQF', '2020-12-24', -100.0, -100.0, -100.0, -100.0, -100.0, -100.0)\n"
     ]
    }
   ],
   "source": [
    "_sql= \"SELECT * FROM STOCKINFO WHERE StockOpen< 0.0\"\n",
    "dbCursor.execute(_sql)\n",
    "resultSet=dbCursor.fetchall()\n",
    "\n",
    "for row in resultSet:\n",
    "    print(row)"
   ]
  },
  {
   "cell_type": "code",
   "execution_count": 34,
   "id": "bca29694",
   "metadata": {},
   "outputs": [],
   "source": [
    "dbCursor.close()\n",
    "dbConnection.close()"
   ]
  },
  {
   "cell_type": "code",
   "execution_count": null,
   "id": "2c194d19",
   "metadata": {},
   "outputs": [],
   "source": []
  }
 ],
 "metadata": {
  "kernelspec": {
   "display_name": "Python 3 (ipykernel)",
   "language": "python",
   "name": "python3"
  },
  "language_info": {
   "codemirror_mode": {
    "name": "ipython",
    "version": 3
   },
   "file_extension": ".py",
   "mimetype": "text/x-python",
   "name": "python",
   "nbconvert_exporter": "python",
   "pygments_lexer": "ipython3",
   "version": "3.8.11"
  }
 },
 "nbformat": 4,
 "nbformat_minor": 5
}
