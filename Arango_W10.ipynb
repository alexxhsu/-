{
 "cells": [
  {
   "cell_type": "code",
   "execution_count": 5,
   "id": "aa6aba3c",
   "metadata": {},
   "outputs": [],
   "source": [
    "import sqlite3\n",
    "import pandas"
   ]
  },
  {
   "cell_type": "markdown",
   "id": "741f5ea7",
   "metadata": {},
   "source": [
    "<h3>pip install pyArango</h3>"
   ]
  },
  {
   "cell_type": "code",
   "execution_count": 6,
   "id": "d5f6e911",
   "metadata": {},
   "outputs": [],
   "source": [
    "from pyArango.connection import*\n",
    "from pyArango.query import*"
   ]
  },
  {
   "cell_type": "markdown",
   "id": "6135f351",
   "metadata": {},
   "source": [
    "<h3>讀取sqlite3資料庫</h3>"
   ]
  },
  {
   "cell_type": "code",
   "execution_count": 1,
   "id": "cc0346ad",
   "metadata": {},
   "outputs": [],
   "source": [
    "data_path = '/Users/justin/Desktop/資料庫管理/data/W06_data'\n",
    "db_file='%s/StockInfo.sqlite3' % data_path"
   ]
  },
  {
   "cell_type": "code",
   "execution_count": 2,
   "id": "230a1c17",
   "metadata": {},
   "outputs": [],
   "source": [
    "file_names=[\n",
    "    'StockID','StockDate','StockOpen',\n",
    "    'StockHigh','StockLow','StockClose',\n",
    "    'StockAdjClose','Stockvol'\n",
    "]"
   ]
  },
  {
   "cell_type": "code",
   "execution_count": 12,
   "id": "9f3ccb89",
   "metadata": {},
   "outputs": [
    {
     "name": "stdout",
     "output_type": "stream",
     "text": [
      "SELECT StockID,StockDate,StockOpen,StockHigh,StockLow,StockClose,StockAdjClose,Stockvol FROM StockInfo ORDER BY StockID,StockDate \n"
     ]
    }
   ],
   "source": [
    "sql=\"SELECT %s FROM StockInfo ORDER BY StockID,StockDate \"%','.join(file_names)\n",
    "print(sql)"
   ]
  },
  {
   "cell_type": "markdown",
   "id": "80904213",
   "metadata": {},
   "source": [
    "db_conn_source=sqlite3.connect(db_file)\n",
    "data=pandas.read_sql_query(\"SELECT %s FROM StockInfo ORDER BY StockID,StockDate \"%','.join(file_names),db_conn_source)\n",
    "db_conn_source.close()"
   ]
  },
  {
   "cell_type": "code",
   "execution_count": 9,
   "id": "87bd4008",
   "metadata": {},
   "outputs": [],
   "source": [
    "def LoadDate(sql):\n",
    "    global db_file\n",
    "    _db_conn_source=sqlite3.connect(db_file)\n",
    "    _data=pandas.read_sql_query(sql,_db_conn_source)\n",
    "    _db_conn_source.close\n",
    "    return _data"
   ]
  },
  {
   "cell_type": "code",
   "execution_count": 10,
   "id": "9ee2c505",
   "metadata": {},
   "outputs": [
    {
     "ename": "DatabaseError",
     "evalue": "Execution failed on sql 'SELECT StockID,StockDate,StockOpen,StockHigh,StockLow,StockClose,StockAdjClose,Stockvol FROM StockInfo ORDER BY StockID,StockDate ': no such table: StockInfo",
     "output_type": "error",
     "traceback": [
      "\u001b[0;31m---------------------------------------------------------------------------\u001b[0m",
      "\u001b[0;31mOperationalError\u001b[0m                          Traceback (most recent call last)",
      "\u001b[0;32m~/opt/anaconda3/envs/db/lib/python3.8/site-packages/pandas/io/sql.py\u001b[0m in \u001b[0;36mexecute\u001b[0;34m(self, *args, **kwargs)\u001b[0m\n\u001b[1;32m   2055\u001b[0m         \u001b[0;32mtry\u001b[0m\u001b[0;34m:\u001b[0m\u001b[0;34m\u001b[0m\u001b[0;34m\u001b[0m\u001b[0m\n\u001b[0;32m-> 2056\u001b[0;31m             \u001b[0mcur\u001b[0m\u001b[0;34m.\u001b[0m\u001b[0mexecute\u001b[0m\u001b[0;34m(\u001b[0m\u001b[0;34m*\u001b[0m\u001b[0margs\u001b[0m\u001b[0;34m,\u001b[0m \u001b[0;34m**\u001b[0m\u001b[0mkwargs\u001b[0m\u001b[0;34m)\u001b[0m\u001b[0;34m\u001b[0m\u001b[0;34m\u001b[0m\u001b[0m\n\u001b[0m\u001b[1;32m   2057\u001b[0m             \u001b[0;32mreturn\u001b[0m \u001b[0mcur\u001b[0m\u001b[0;34m\u001b[0m\u001b[0;34m\u001b[0m\u001b[0m\n",
      "\u001b[0;31mOperationalError\u001b[0m: no such table: StockInfo",
      "\nThe above exception was the direct cause of the following exception:\n",
      "\u001b[0;31mDatabaseError\u001b[0m                             Traceback (most recent call last)",
      "\u001b[0;32m/var/folders/hf/5tnp05ns7598nz_smm6l10tm0000gn/T/ipykernel_65813/3619816828.py\u001b[0m in \u001b[0;36m<module>\u001b[0;34m\u001b[0m\n\u001b[0;32m----> 1\u001b[0;31m \u001b[0mdata\u001b[0m\u001b[0;34m=\u001b[0m\u001b[0mLoadDate\u001b[0m\u001b[0;34m(\u001b[0m\u001b[0msql\u001b[0m\u001b[0;34m)\u001b[0m\u001b[0;34m\u001b[0m\u001b[0;34m\u001b[0m\u001b[0m\n\u001b[0m",
      "\u001b[0;32m/var/folders/hf/5tnp05ns7598nz_smm6l10tm0000gn/T/ipykernel_65813/1744019179.py\u001b[0m in \u001b[0;36mLoadDate\u001b[0;34m(sql)\u001b[0m\n\u001b[1;32m      2\u001b[0m     \u001b[0;32mglobal\u001b[0m \u001b[0mdb_file\u001b[0m\u001b[0;34m\u001b[0m\u001b[0;34m\u001b[0m\u001b[0m\n\u001b[1;32m      3\u001b[0m     \u001b[0m_db_conn_source\u001b[0m\u001b[0;34m=\u001b[0m\u001b[0msqlite3\u001b[0m\u001b[0;34m.\u001b[0m\u001b[0mconnect\u001b[0m\u001b[0;34m(\u001b[0m\u001b[0mdb_file\u001b[0m\u001b[0;34m)\u001b[0m\u001b[0;34m\u001b[0m\u001b[0;34m\u001b[0m\u001b[0m\n\u001b[0;32m----> 4\u001b[0;31m     \u001b[0m_data\u001b[0m\u001b[0;34m=\u001b[0m\u001b[0mpandas\u001b[0m\u001b[0;34m.\u001b[0m\u001b[0mread_sql_query\u001b[0m\u001b[0;34m(\u001b[0m\u001b[0msql\u001b[0m\u001b[0;34m,\u001b[0m\u001b[0m_db_conn_source\u001b[0m\u001b[0;34m)\u001b[0m\u001b[0;34m\u001b[0m\u001b[0;34m\u001b[0m\u001b[0m\n\u001b[0m\u001b[1;32m      5\u001b[0m     \u001b[0m_db_conn_source\u001b[0m\u001b[0;34m.\u001b[0m\u001b[0mclose\u001b[0m\u001b[0;34m\u001b[0m\u001b[0;34m\u001b[0m\u001b[0m\n\u001b[1;32m      6\u001b[0m     \u001b[0;32mreturn\u001b[0m \u001b[0m_data\u001b[0m\u001b[0;34m\u001b[0m\u001b[0;34m\u001b[0m\u001b[0m\n",
      "\u001b[0;32m~/opt/anaconda3/envs/db/lib/python3.8/site-packages/pandas/io/sql.py\u001b[0m in \u001b[0;36mread_sql_query\u001b[0;34m(sql, con, index_col, coerce_float, params, parse_dates, chunksize, dtype)\u001b[0m\n\u001b[1;32m    434\u001b[0m     \"\"\"\n\u001b[1;32m    435\u001b[0m     \u001b[0mpandas_sql\u001b[0m \u001b[0;34m=\u001b[0m \u001b[0mpandasSQL_builder\u001b[0m\u001b[0;34m(\u001b[0m\u001b[0mcon\u001b[0m\u001b[0;34m)\u001b[0m\u001b[0;34m\u001b[0m\u001b[0;34m\u001b[0m\u001b[0m\n\u001b[0;32m--> 436\u001b[0;31m     return pandas_sql.read_query(\n\u001b[0m\u001b[1;32m    437\u001b[0m         \u001b[0msql\u001b[0m\u001b[0;34m,\u001b[0m\u001b[0;34m\u001b[0m\u001b[0;34m\u001b[0m\u001b[0m\n\u001b[1;32m    438\u001b[0m         \u001b[0mindex_col\u001b[0m\u001b[0;34m=\u001b[0m\u001b[0mindex_col\u001b[0m\u001b[0;34m,\u001b[0m\u001b[0;34m\u001b[0m\u001b[0;34m\u001b[0m\u001b[0m\n",
      "\u001b[0;32m~/opt/anaconda3/envs/db/lib/python3.8/site-packages/pandas/io/sql.py\u001b[0m in \u001b[0;36mread_query\u001b[0;34m(self, sql, index_col, coerce_float, params, parse_dates, chunksize, dtype)\u001b[0m\n\u001b[1;32m   2114\u001b[0m \u001b[0;34m\u001b[0m\u001b[0m\n\u001b[1;32m   2115\u001b[0m         \u001b[0margs\u001b[0m \u001b[0;34m=\u001b[0m \u001b[0m_convert_params\u001b[0m\u001b[0;34m(\u001b[0m\u001b[0msql\u001b[0m\u001b[0;34m,\u001b[0m \u001b[0mparams\u001b[0m\u001b[0;34m)\u001b[0m\u001b[0;34m\u001b[0m\u001b[0;34m\u001b[0m\u001b[0m\n\u001b[0;32m-> 2116\u001b[0;31m         \u001b[0mcursor\u001b[0m \u001b[0;34m=\u001b[0m \u001b[0mself\u001b[0m\u001b[0;34m.\u001b[0m\u001b[0mexecute\u001b[0m\u001b[0;34m(\u001b[0m\u001b[0;34m*\u001b[0m\u001b[0margs\u001b[0m\u001b[0;34m)\u001b[0m\u001b[0;34m\u001b[0m\u001b[0;34m\u001b[0m\u001b[0m\n\u001b[0m\u001b[1;32m   2117\u001b[0m         \u001b[0mcolumns\u001b[0m \u001b[0;34m=\u001b[0m \u001b[0;34m[\u001b[0m\u001b[0mcol_desc\u001b[0m\u001b[0;34m[\u001b[0m\u001b[0;36m0\u001b[0m\u001b[0;34m]\u001b[0m \u001b[0;32mfor\u001b[0m \u001b[0mcol_desc\u001b[0m \u001b[0;32min\u001b[0m \u001b[0mcursor\u001b[0m\u001b[0;34m.\u001b[0m\u001b[0mdescription\u001b[0m\u001b[0;34m]\u001b[0m\u001b[0;34m\u001b[0m\u001b[0;34m\u001b[0m\u001b[0m\n\u001b[1;32m   2118\u001b[0m \u001b[0;34m\u001b[0m\u001b[0m\n",
      "\u001b[0;32m~/opt/anaconda3/envs/db/lib/python3.8/site-packages/pandas/io/sql.py\u001b[0m in \u001b[0;36mexecute\u001b[0;34m(self, *args, **kwargs)\u001b[0m\n\u001b[1;32m   2066\u001b[0m \u001b[0;34m\u001b[0m\u001b[0m\n\u001b[1;32m   2067\u001b[0m             \u001b[0mex\u001b[0m \u001b[0;34m=\u001b[0m \u001b[0mDatabaseError\u001b[0m\u001b[0;34m(\u001b[0m\u001b[0;34mf\"Execution failed on sql '{args[0]}': {exc}\"\u001b[0m\u001b[0;34m)\u001b[0m\u001b[0;34m\u001b[0m\u001b[0;34m\u001b[0m\u001b[0m\n\u001b[0;32m-> 2068\u001b[0;31m             \u001b[0;32mraise\u001b[0m \u001b[0mex\u001b[0m \u001b[0;32mfrom\u001b[0m \u001b[0mexc\u001b[0m\u001b[0;34m\u001b[0m\u001b[0;34m\u001b[0m\u001b[0m\n\u001b[0m\u001b[1;32m   2069\u001b[0m \u001b[0;34m\u001b[0m\u001b[0m\n\u001b[1;32m   2070\u001b[0m     \u001b[0;34m@\u001b[0m\u001b[0mstaticmethod\u001b[0m\u001b[0;34m\u001b[0m\u001b[0;34m\u001b[0m\u001b[0m\n",
      "\u001b[0;31mDatabaseError\u001b[0m: Execution failed on sql 'SELECT StockID,StockDate,StockOpen,StockHigh,StockLow,StockClose,StockAdjClose,Stockvol FROM StockInfo ORDER BY StockID,StockDate ': no such table: StockInfo"
     ]
    }
   ],
   "source": [
    "data=LoadDate(sql)"
   ]
  },
  {
   "cell_type": "code",
   "execution_count": 28,
   "id": "d1893c2d",
   "metadata": {},
   "outputs": [],
   "source": [
    "df_index=[]\n",
    "for i in range(data.shape[0]):\n",
    "    row=data.iloc[i]\n",
    "    idx='%s-%s'%(row['StockDate'],row['StockID'])\n",
    "    df_index.append(idx)\n",
    "data.index=df_index"
   ]
  },
  {
   "cell_type": "code",
   "execution_count": 29,
   "id": "b7179962",
   "metadata": {},
   "outputs": [
    {
     "data": {
      "text/html": [
       "<div>\n",
       "<style scoped>\n",
       "    .dataframe tbody tr th:only-of-type {\n",
       "        vertical-align: middle;\n",
       "    }\n",
       "\n",
       "    .dataframe tbody tr th {\n",
       "        vertical-align: top;\n",
       "    }\n",
       "\n",
       "    .dataframe thead th {\n",
       "        text-align: right;\n",
       "    }\n",
       "</style>\n",
       "<table border=\"1\" class=\"dataframe\">\n",
       "  <thead>\n",
       "    <tr style=\"text-align: right;\">\n",
       "      <th></th>\n",
       "      <th>StockID</th>\n",
       "      <th>StockDate</th>\n",
       "      <th>StockOpen</th>\n",
       "      <th>StockHigh</th>\n",
       "      <th>StockLow</th>\n",
       "      <th>StockClose</th>\n",
       "      <th>StockAdjClose</th>\n",
       "      <th>StockVol</th>\n",
       "    </tr>\n",
       "  </thead>\n",
       "  <tbody>\n",
       "    <tr>\n",
       "      <th>2018-01-02-IBM</th>\n",
       "      <td>IBM</td>\n",
       "      <td>2018-01-02</td>\n",
       "      <td>154.500000</td>\n",
       "      <td>154.809998</td>\n",
       "      <td>153.539993</td>\n",
       "      <td>154.250000</td>\n",
       "      <td>149.454422</td>\n",
       "      <td>4202500</td>\n",
       "    </tr>\n",
       "    <tr>\n",
       "      <th>2018-01-03-IBM</th>\n",
       "      <td>IBM</td>\n",
       "      <td>2018-01-03</td>\n",
       "      <td>157.339996</td>\n",
       "      <td>159.809998</td>\n",
       "      <td>156.330002</td>\n",
       "      <td>158.490005</td>\n",
       "      <td>153.562622</td>\n",
       "      <td>9441600</td>\n",
       "    </tr>\n",
       "    <tr>\n",
       "      <th>2018-01-04-IBM</th>\n",
       "      <td>IBM</td>\n",
       "      <td>2018-01-04</td>\n",
       "      <td>159.649994</td>\n",
       "      <td>162.320007</td>\n",
       "      <td>159.369995</td>\n",
       "      <td>161.699997</td>\n",
       "      <td>156.672821</td>\n",
       "      <td>7556200</td>\n",
       "    </tr>\n",
       "    <tr>\n",
       "      <th>2018-01-05-IBM</th>\n",
       "      <td>IBM</td>\n",
       "      <td>2018-01-05</td>\n",
       "      <td>162.440002</td>\n",
       "      <td>162.899994</td>\n",
       "      <td>161.100006</td>\n",
       "      <td>162.490005</td>\n",
       "      <td>157.438263</td>\n",
       "      <td>5195800</td>\n",
       "    </tr>\n",
       "    <tr>\n",
       "      <th>2018-01-08-IBM</th>\n",
       "      <td>IBM</td>\n",
       "      <td>2018-01-08</td>\n",
       "      <td>162.660004</td>\n",
       "      <td>163.910004</td>\n",
       "      <td>161.699997</td>\n",
       "      <td>163.470001</td>\n",
       "      <td>158.387787</td>\n",
       "      <td>5237500</td>\n",
       "    </tr>\n",
       "  </tbody>\n",
       "</table>\n",
       "</div>"
      ],
      "text/plain": [
       "               StockID   StockDate   StockOpen   StockHigh    StockLow  \\\n",
       "2018-01-02-IBM     IBM  2018-01-02  154.500000  154.809998  153.539993   \n",
       "2018-01-03-IBM     IBM  2018-01-03  157.339996  159.809998  156.330002   \n",
       "2018-01-04-IBM     IBM  2018-01-04  159.649994  162.320007  159.369995   \n",
       "2018-01-05-IBM     IBM  2018-01-05  162.440002  162.899994  161.100006   \n",
       "2018-01-08-IBM     IBM  2018-01-08  162.660004  163.910004  161.699997   \n",
       "\n",
       "                StockClose  StockAdjClose  StockVol  \n",
       "2018-01-02-IBM  154.250000     149.454422   4202500  \n",
       "2018-01-03-IBM  158.490005     153.562622   9441600  \n",
       "2018-01-04-IBM  161.699997     156.672821   7556200  \n",
       "2018-01-05-IBM  162.490005     157.438263   5195800  \n",
       "2018-01-08-IBM  163.470001     158.387787   5237500  "
      ]
     },
     "execution_count": 29,
     "metadata": {},
     "output_type": "execute_result"
    }
   ],
   "source": [
    "data.head()"
   ]
  },
  {
   "cell_type": "markdown",
   "id": "acceaf76",
   "metadata": {},
   "source": [
    "<h3>ArangoDB 資料庫</h3>"
   ]
  },
  {
   "cell_type": "code",
   "execution_count": 11,
   "id": "d41d0c8d",
   "metadata": {},
   "outputs": [
    {
     "ename": "ConnectionError",
     "evalue": "Unauthorized access, you must supply a (username, password) with the correct credentials. URL: http://localhost:8529/_api/user/emprogria/database, status: 401. Errors: b'{\"error\":true,\"errorNum\":11,\"errorMessage\":\"not authorized to execute this request\",\"code\":401}'",
     "output_type": "error",
     "traceback": [
      "\u001b[0;31m---------------------------------------------------------------------------\u001b[0m",
      "\u001b[0;31mConnectionError\u001b[0m                           Traceback (most recent call last)",
      "\u001b[0;32m/var/folders/hf/5tnp05ns7598nz_smm6l10tm0000gn/T/ipykernel_65813/798215073.py\u001b[0m in \u001b[0;36m<module>\u001b[0;34m\u001b[0m\n\u001b[1;32m      1\u001b[0m \u001b[0mdb_ip\u001b[0m\u001b[0;34m=\u001b[0m\u001b[0;34m'localhost'\u001b[0m\u001b[0;34m\u001b[0m\u001b[0;34m\u001b[0m\u001b[0m\n\u001b[1;32m      2\u001b[0m \u001b[0;34m\u001b[0m\u001b[0m\n\u001b[0;32m----> 3\u001b[0;31m db_conn=Connection(\n\u001b[0m\u001b[1;32m      4\u001b[0m     \u001b[0marangoURL\u001b[0m\u001b[0;34m=\u001b[0m\u001b[0;34m'http://%s:8529'\u001b[0m\u001b[0;34m%\u001b[0m\u001b[0mdb_ip\u001b[0m\u001b[0;34m,\u001b[0m\u001b[0;34m\u001b[0m\u001b[0;34m\u001b[0m\u001b[0m\n\u001b[1;32m      5\u001b[0m     \u001b[0musername\u001b[0m\u001b[0;34m=\u001b[0m\u001b[0;34m'emprogria'\u001b[0m\u001b[0;34m,\u001b[0m\u001b[0;34m\u001b[0m\u001b[0;34m\u001b[0m\u001b[0m\n",
      "\u001b[0;32m~/opt/anaconda3/envs/db/lib/python3.8/site-packages/pyArango/connection.py\u001b[0m in \u001b[0;36m__init__\u001b[0;34m(self, arangoURL, username, password, verify, verbose, statsdClient, reportFileName, loadBalancing, use_grequests, use_jwt_authentication, use_lock_for_reseting_jwt, max_retries, max_conflict_retries)\u001b[0m\n\u001b[1;32m    221\u001b[0m \u001b[0;34m\u001b[0m\u001b[0m\n\u001b[1;32m    222\u001b[0m         \u001b[0mself\u001b[0m\u001b[0;34m.\u001b[0m\u001b[0mstatsdc\u001b[0m \u001b[0;34m=\u001b[0m \u001b[0mstatsdClient\u001b[0m\u001b[0;34m\u001b[0m\u001b[0;34m\u001b[0m\u001b[0m\n\u001b[0;32m--> 223\u001b[0;31m         \u001b[0mself\u001b[0m\u001b[0;34m.\u001b[0m\u001b[0mreload\u001b[0m\u001b[0;34m(\u001b[0m\u001b[0;34m)\u001b[0m\u001b[0;34m\u001b[0m\u001b[0;34m\u001b[0m\u001b[0m\n\u001b[0m\u001b[1;32m    224\u001b[0m \u001b[0;34m\u001b[0m\u001b[0m\n\u001b[1;32m    225\u001b[0m     \u001b[0;32mdef\u001b[0m \u001b[0mgetEndpointURL\u001b[0m\u001b[0;34m(\u001b[0m\u001b[0mself\u001b[0m\u001b[0;34m)\u001b[0m\u001b[0;34m:\u001b[0m\u001b[0;34m\u001b[0m\u001b[0;34m\u001b[0m\u001b[0m\n",
      "\u001b[0;32m~/opt/anaconda3/envs/db/lib/python3.8/site-packages/pyArango/connection.py\u001b[0m in \u001b[0;36mreload\u001b[0;34m(self)\u001b[0m\n\u001b[1;32m    290\u001b[0m         \"\"\"\n\u001b[1;32m    291\u001b[0m \u001b[0;34m\u001b[0m\u001b[0m\n\u001b[0;32m--> 292\u001b[0;31m         \u001b[0mr\u001b[0m \u001b[0;34m=\u001b[0m \u001b[0mself\u001b[0m\u001b[0;34m.\u001b[0m\u001b[0msession\u001b[0m\u001b[0;34m.\u001b[0m\u001b[0mget\u001b[0m\u001b[0;34m(\u001b[0m\u001b[0mself\u001b[0m\u001b[0;34m.\u001b[0m\u001b[0mgetDatabasesURL\u001b[0m\u001b[0;34m(\u001b[0m\u001b[0;34m)\u001b[0m\u001b[0;34m)\u001b[0m\u001b[0;34m\u001b[0m\u001b[0;34m\u001b[0m\u001b[0m\n\u001b[0m\u001b[1;32m    293\u001b[0m \u001b[0;34m\u001b[0m\u001b[0m\n\u001b[1;32m    294\u001b[0m         \u001b[0mdata\u001b[0m \u001b[0;34m=\u001b[0m \u001b[0mr\u001b[0m\u001b[0;34m.\u001b[0m\u001b[0mjson\u001b[0m\u001b[0;34m(\u001b[0m\u001b[0;34m)\u001b[0m\u001b[0;34m\u001b[0m\u001b[0;34m\u001b[0m\u001b[0m\n",
      "\u001b[0;32m~/opt/anaconda3/envs/db/lib/python3.8/site-packages/pyArango/connection.py\u001b[0m in \u001b[0;36m__call__\u001b[0;34m(self, *args, **kwargs)\u001b[0m\n\u001b[1;32m     72\u001b[0m                 \u001b[0;32mraise\u001b[0m \u001b[0mConnectionError\u001b[0m\u001b[0;34m(\u001b[0m\u001b[0;34m\"Empty server response\"\u001b[0m\u001b[0;34m,\u001b[0m \u001b[0mret\u001b[0m\u001b[0;34m.\u001b[0m\u001b[0murl\u001b[0m\u001b[0;34m,\u001b[0m \u001b[0mret\u001b[0m\u001b[0;34m.\u001b[0m\u001b[0mstatus_code\u001b[0m\u001b[0;34m,\u001b[0m \u001b[0mret\u001b[0m\u001b[0;34m.\u001b[0m\u001b[0mcontent\u001b[0m\u001b[0;34m)\u001b[0m\u001b[0;34m\u001b[0m\u001b[0;34m\u001b[0m\u001b[0m\n\u001b[1;32m     73\u001b[0m             \u001b[0;32melif\u001b[0m \u001b[0mret\u001b[0m\u001b[0;34m.\u001b[0m\u001b[0mstatus_code\u001b[0m \u001b[0;34m==\u001b[0m \u001b[0;36m401\u001b[0m\u001b[0;34m:\u001b[0m\u001b[0;34m\u001b[0m\u001b[0;34m\u001b[0m\u001b[0m\n\u001b[0;32m---> 74\u001b[0;31m                 \u001b[0;32mraise\u001b[0m \u001b[0mConnectionError\u001b[0m\u001b[0;34m(\u001b[0m\u001b[0;34m\"Unauthorized access, you must supply a (username, password) with the correct credentials\"\u001b[0m\u001b[0;34m,\u001b[0m \u001b[0mret\u001b[0m\u001b[0;34m.\u001b[0m\u001b[0murl\u001b[0m\u001b[0;34m,\u001b[0m \u001b[0mret\u001b[0m\u001b[0;34m.\u001b[0m\u001b[0mstatus_code\u001b[0m\u001b[0;34m,\u001b[0m \u001b[0mret\u001b[0m\u001b[0;34m.\u001b[0m\u001b[0mcontent\u001b[0m\u001b[0;34m)\u001b[0m\u001b[0;34m\u001b[0m\u001b[0;34m\u001b[0m\u001b[0m\n\u001b[0m\u001b[1;32m     75\u001b[0m \u001b[0;34m\u001b[0m\u001b[0m\n\u001b[1;32m     76\u001b[0m             \u001b[0mret\u001b[0m\u001b[0;34m.\u001b[0m\u001b[0mjson\u001b[0m \u001b[0;34m=\u001b[0m \u001b[0mJsonHook\u001b[0m\u001b[0;34m(\u001b[0m\u001b[0mret\u001b[0m\u001b[0;34m)\u001b[0m\u001b[0;34m\u001b[0m\u001b[0;34m\u001b[0m\u001b[0m\n",
      "\u001b[0;31mConnectionError\u001b[0m: Unauthorized access, you must supply a (username, password) with the correct credentials. URL: http://localhost:8529/_api/user/emprogria/database, status: 401. Errors: b'{\"error\":true,\"errorNum\":11,\"errorMessage\":\"not authorized to execute this request\",\"code\":401}'"
     ]
    }
   ],
   "source": [
    "db_ip='localhost'\n",
    "\n",
    "db_conn=Connection(\n",
    "    arangoURL='http://%s:8529'%db_ip,\n",
    "    username='emprogria',\n",
    "    password='emprogria'\n",
    ")"
   ]
  },
  {
   "cell_type": "code",
   "execution_count": 13,
   "id": "71193d52",
   "metadata": {},
   "outputs": [
    {
     "ename": "NameError",
     "evalue": "name 'db_conn' is not defined",
     "output_type": "error",
     "traceback": [
      "\u001b[0;31m---------------------------------------------------------------------------\u001b[0m",
      "\u001b[0;31mNameError\u001b[0m                                 Traceback (most recent call last)",
      "\u001b[0;32m/var/folders/hf/5tnp05ns7598nz_smm6l10tm0000gn/T/ipykernel_65813/996468866.py\u001b[0m in \u001b[0;36m<module>\u001b[0;34m\u001b[0m\n\u001b[0;32m----> 1\u001b[0;31m \u001b[0mdb\u001b[0m\u001b[0;34m=\u001b[0m\u001b[0mdb_conn\u001b[0m\u001b[0;34m[\u001b[0m\u001b[0;34m'Emprogria'\u001b[0m\u001b[0;34m]\u001b[0m\u001b[0;34m\u001b[0m\u001b[0;34m\u001b[0m\u001b[0m\n\u001b[0m\u001b[1;32m      2\u001b[0m \u001b[0mdb_collection\u001b[0m\u001b[0;34m=\u001b[0m\u001b[0mdb\u001b[0m\u001b[0;34m.\u001b[0m\u001b[0mcollections\u001b[0m\u001b[0;34m[\u001b[0m\u001b[0;34m'StockInfo2'\u001b[0m\u001b[0;34m]\u001b[0m\u001b[0;34m\u001b[0m\u001b[0;34m\u001b[0m\u001b[0m\n",
      "\u001b[0;31mNameError\u001b[0m: name 'db_conn' is not defined"
     ]
    }
   ],
   "source": [
    "db=db_conn['Emprogria']\n",
    "db_collection=db.collections['StockInfo2']"
   ]
  },
  {
   "cell_type": "markdown",
   "id": "29f6ae3b",
   "metadata": {},
   "source": [
    "<h3>儲存ArangoDB資料庫</h3>"
   ]
  },
  {
   "cell_type": "code",
   "execution_count": 50,
   "id": "c50ed603",
   "metadata": {},
   "outputs": [
    {
     "data": {
      "text/plain": [
       "StockID                 IBM\n",
       "StockDate        2018-01-02\n",
       "StockOpen             154.5\n",
       "StockHigh        154.809998\n",
       "StockLow         153.539993\n",
       "StockClose           154.25\n",
       "StockAdjClose    149.454422\n",
       "StockVol            4202500\n",
       "Name: 2018-01-02-IBM, dtype: object"
      ]
     },
     "execution_count": 50,
     "metadata": {},
     "output_type": "execute_result"
    }
   ],
   "source": [
    "db_result=db_collection.empty()\n",
    "data.iloc[0]"
   ]
  },
  {
   "cell_type": "code",
   "execution_count": 51,
   "id": "84b5f535",
   "metadata": {},
   "outputs": [],
   "source": [
    "for i in range(data.shape[0]):\n",
    "    row=data.iloc[i]\n",
    "    \n",
    "    _doc=db_collection.createDocument()\n",
    "    _doc['_key']=data.index[i]\n",
    "    \n",
    "    for col_name in data.columns:\n",
    "        _doc[col_name]=row[col_name]\n",
    "    _doc.save()"
   ]
  },
  {
   "cell_type": "code",
   "execution_count": 52,
   "id": "a09ef287",
   "metadata": {},
   "outputs": [
    {
     "ename": "AttributeError",
     "evalue": "'Connection' object has no attribute 'close'",
     "output_type": "error",
     "traceback": [
      "\u001b[1;31m---------------------------------------------------------------------------\u001b[0m",
      "\u001b[1;31mAttributeError\u001b[0m                            Traceback (most recent call last)",
      "\u001b[1;32m~\\AppData\\Local\\Temp/ipykernel_13140/4139101735.py\u001b[0m in \u001b[0;36m<module>\u001b[1;34m\u001b[0m\n\u001b[1;32m----> 1\u001b[1;33m \u001b[0mdb_conn\u001b[0m\u001b[1;33m.\u001b[0m\u001b[0mclose\u001b[0m\u001b[1;33m(\u001b[0m\u001b[1;33m)\u001b[0m\u001b[1;33m\u001b[0m\u001b[1;33m\u001b[0m\u001b[0m\n\u001b[0m",
      "\u001b[1;31mAttributeError\u001b[0m: 'Connection' object has no attribute 'close'"
     ]
    }
   ],
   "source": [
    "db_conn.close()"
   ]
  },
  {
   "cell_type": "code",
   "execution_count": null,
   "id": "52c3f1c2",
   "metadata": {},
   "outputs": [],
   "source": []
  },
  {
   "cell_type": "code",
   "execution_count": null,
   "id": "545cdda0",
   "metadata": {},
   "outputs": [],
   "source": []
  }
 ],
 "metadata": {
  "kernelspec": {
   "display_name": "Python 3 (ipykernel)",
   "language": "python",
   "name": "python3"
  },
  "language_info": {
   "codemirror_mode": {
    "name": "ipython",
    "version": 3
   },
   "file_extension": ".py",
   "mimetype": "text/x-python",
   "name": "python",
   "nbconvert_exporter": "python",
   "pygments_lexer": "ipython3",
   "version": "3.8.2"
  }
 },
 "nbformat": 4,
 "nbformat_minor": 5
}
