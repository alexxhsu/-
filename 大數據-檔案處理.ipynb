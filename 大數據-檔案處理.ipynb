{
 "cells": [
  {
   "cell_type": "code",
   "execution_count": 1,
   "id": "e6b1a164",
   "metadata": {},
   "outputs": [],
   "source": [
    "from glob import glob\n",
    "import os.path"
   ]
  },
  {
   "cell_type": "code",
   "execution_count": 2,
   "id": "d3c22158",
   "metadata": {},
   "outputs": [
    {
     "data": {
      "text/plain": [
       "True"
      ]
     },
     "execution_count": 2,
     "metadata": {},
     "output_type": "execute_result"
    }
   ],
   "source": [
    "os.path.isdir( 'My Documents') #是不是目錄"
   ]
  },
  {
   "cell_type": "code",
   "execution_count": 3,
   "id": "4b686948",
   "metadata": {},
   "outputs": [
    {
     "name": "stdout",
     "output_type": "stream",
     "text": [
      "目錄數:81\t檔案數:41\n"
     ]
    }
   ],
   "source": [
    "count_path=0\n",
    "count_file=0\n",
    "for f in glob(\"C:/Windows/*\"):\n",
    "    if os.path.isdir(f):\n",
    "        count_path+=1\n",
    "    else :\n",
    "        count_file+=1\n",
    "print(\"目錄數:%d\\t檔案數:%d\"%(count_path,count_file))"
   ]
  },
  {
   "cell_type": "code",
   "execution_count": 4,
   "id": "4f7978fd",
   "metadata": {},
   "outputs": [],
   "source": [
    "#函式\n",
    "def count_path_number(base_path):\n",
    "    count_path=0\n",
    "    count_file=0\n",
    "    \n",
    "    file_list=glob(\"%s/*\"%base_path)\n",
    "    \n",
    "    for f in file_list:\n",
    "        if os.path.isdir(f):\n",
    "            count_path+=1\n",
    "        else :\n",
    "            count_file+=1\n",
    "    return {\n",
    "        'file_list':file_list,\n",
    "        'count_path':count_path,\n",
    "        'count_file': count_file\n",
    "    }\n"
   ]
  },
  {
   "cell_type": "code",
   "execution_count": 5,
   "id": "bb0c41f0",
   "metadata": {},
   "outputs": [
    {
     "name": "stdout",
     "output_type": "stream",
     "text": [
      "目錄數:81\t檔案數:41\n"
     ]
    }
   ],
   "source": [
    "result=count_path_number(\"C:/Windows\")\n",
    "print(\"目錄數:%d\\t檔案數:%d\"%(result['count_path'],result['count_file']))"
   ]
  },
  {
   "cell_type": "code",
   "execution_count": 21,
   "id": "817edf95",
   "metadata": {},
   "outputs": [],
   "source": [
    "#函式\n",
    "def count_path_number(base_path,pattern='*'): #pattern='*'\n",
    "    count_path=0\n",
    "    count_file=0\n",
    "    \n",
    "    file_list=glob(\"%s/%s\"%(base_path,pattern))\n",
    "    \n",
    "    for f in file_list:\n",
    "        if os.path.isdir(f):\n",
    "            count_path+=1\n",
    "        else :\n",
    "            count_file+=1\n",
    "    return {\n",
    "        'file_list':file_list,\n",
    "        'count_path':count_path,\n",
    "        'count_file': count_file\n",
    "    }"
   ]
  },
  {
   "cell_type": "code",
   "execution_count": 32,
   "id": "4488278a",
   "metadata": {},
   "outputs": [
    {
     "name": "stdout",
     "output_type": "stream",
     "text": [
      "C:/Users/user/anaconda3/Projects/data\\H2.mv.db\n",
      "C:/Users/user/anaconda3/Projects/data\\H2.trace.db\n",
      "C:/Users/user/anaconda3/Projects/data\\IBM-Stocks\n",
      "C:/Users/user/anaconda3/Projects/data\\movies_data.csv\n",
      "C:/Users/user/anaconda3/Projects/data\\MRT.csv\n",
      "C:/Users/user/anaconda3/Projects/data\\MRT_ G.csv\n",
      "C:/Users/user/anaconda3/Projects/data\\MRT_ O.csv\n",
      "C:/Users/user/anaconda3/Projects/data\\MRT_ R.csv\n",
      "C:/Users/user/anaconda3/Projects/data\\MRT_ Y.csv\n",
      "C:/Users/user/anaconda3/Projects/data\\MRT_BL.csv\n",
      "C:/Users/user/anaconda3/Projects/data\\MRT_BR.csv\n",
      "C:/Users/user/anaconda3/Projects/data\\node_Info.csv\n",
      "C:/Users/user/anaconda3/Projects/data\\reddit_vm.csv\n",
      "C:/Users/user/anaconda3/Projects/data\\StockInfo.sqlite3\n",
      "C:/Users/user/anaconda3/Projects/data\\W06_data\n",
      "C:/Users/user/anaconda3/Projects/data\\臺北捷運系統票價資料.csv\n"
     ]
    }
   ],
   "source": [
    "result=count_path_number(\"C:/Users/user/anaconda3/Projects/data\",pattern=\"*\")\n",
    "for i in result['file_list']:\n",
    "    print(i)"
   ]
  },
  {
   "cell_type": "code",
   "execution_count": 34,
   "id": "dccc5475",
   "metadata": {},
   "outputs": [],
   "source": [
    "def count_all_path_number(results, base_path, pattern='*',file_pattern='ipynb'):\n",
    "    count_path = 0\n",
    "    count_file = 0\n",
    "    \n",
    "    print(base_path)\n",
    "    file_list = glob(\"%s/%s\" % (base_path, path_pattern))\n",
    "    \n",
    "    for f in file_list: #若檔案本身就是目錄,則再呼叫自己本身 -> 再深入尋找\n",
    "        if os.path.isdir(f):\n",
    "            count_all_path_number(results, '%s/%s' % (base_path, f), pattern)\n",
    "            count_path += 1\n",
    "        else:\n",
    "            count_file += 1\n",
    "\n",
    "    results.append({\n",
    "        'file_list': file_list,\n",
    "        'count_path': count_path,\n",
    "        'count_file': count_file\n",
    "    })"
   ]
  },
  {
   "cell_type": "code",
   "execution_count": 35,
   "id": "5ca84bf5",
   "metadata": {},
   "outputs": [
    {
     "name": "stdout",
     "output_type": "stream",
     "text": [
      "C:/Users/user/anaconda3/Projects/data\n",
      "C:/Users/user/anaconda3/Projects/data/C:/Users/user/anaconda3/Projects/data\\IBM-Stocks\n",
      "C:/Users/user/anaconda3/Projects/data/C:/Users/user/anaconda3/Projects/data\\W06_data\n"
     ]
    }
   ],
   "source": [
    "results=[]\n",
    "count_all_path_number(results, base_path='C:/Users/user/anaconda3/Projects/data', pattern='*')"
   ]
  },
  {
   "cell_type": "code",
   "execution_count": 36,
   "id": "52bd3d18",
   "metadata": {},
   "outputs": [],
   "source": [
    "def count_all_path_number(results, base_path, path_pattern='*', file_pattern='ipynb'):\n",
    "    file_list = []\n",
    "    count_path = 0\n",
    "    count_file = 0\n",
    "    \n",
    "    print(base_path)\n",
    "    \n",
    "    _file_list = glob(\"%s/%s\" % (base_path, path_pattern))\n",
    "    \n",
    "    for f in _file_list:\n",
    "        if os.path.isdir(f):\n",
    "            count_all_path_number(results, '%s/%s' % (base_path, f), \n",
    "                                  path_pattern, file_pattern)\n",
    "            count_path += 1\n",
    "        else:\n",
    "            if file_pattern in f:\n",
    "                file_list.append(f)\n",
    "                count_file += 1\n",
    "\n",
    "    if count_file > 0: \n",
    "        results.append({\n",
    "            'file_list': file_list,\n",
    "            'count_path': count_path,\n",
    "            'count_file': count_file\n",
    "        })"
   ]
  },
  {
   "cell_type": "code",
   "execution_count": 42,
   "id": "d0000205",
   "metadata": {},
   "outputs": [
    {
     "name": "stdout",
     "output_type": "stream",
     "text": [
      "C:/Users/user/anaconda3/Projects\n",
      "C:/Users/user/anaconda3/Projects/C:/Users/user/anaconda3/Projects\\data\n"
     ]
    },
    {
     "data": {
      "text/plain": [
       "[{'file_list': ['C:/Users/user/anaconda3/Projects\\\\圖論-01.ipynb',\n",
       "   'C:/Users/user/anaconda3/Projects\\\\圖論-02.ipynb',\n",
       "   'C:/Users/user/anaconda3/Projects\\\\圖論-03_距離.ipynb',\n",
       "   'C:/Users/user/anaconda3/Projects\\\\圖論-04.ipynb',\n",
       "   'C:/Users/user/anaconda3/Projects\\\\圖論-05.ipynb',\n",
       "   'C:/Users/user/anaconda3/Projects\\\\圖論-06.ipynb',\n",
       "   'C:/Users/user/anaconda3/Projects\\\\圖論.ipynb'],\n",
       "  'count_path': 1,\n",
       "  'count_file': 7}]"
      ]
     },
     "execution_count": 42,
     "metadata": {},
     "output_type": "execute_result"
    }
   ],
   "source": [
    "results=[]\n",
    "count_all_path_number(results, base_path='C:/Users/user/anaconda3/Projects',file_pattern='圖論')\n",
    "results"
   ]
  },
  {
   "cell_type": "code",
   "execution_count": 43,
   "id": "a59d8e2c",
   "metadata": {},
   "outputs": [
    {
     "name": "stdout",
     "output_type": "stream",
     "text": [
      "C:/Users/user/anaconda3/Projects\\圖論-01.ipynb\n",
      "C:/Users/user/anaconda3/Projects\\圖論-02.ipynb\n",
      "C:/Users/user/anaconda3/Projects\\圖論-03_距離.ipynb\n",
      "C:/Users/user/anaconda3/Projects\\圖論-04.ipynb\n",
      "C:/Users/user/anaconda3/Projects\\圖論-05.ipynb\n",
      "C:/Users/user/anaconda3/Projects\\圖論-06.ipynb\n",
      "C:/Users/user/anaconda3/Projects\\圖論.ipynb\n"
     ]
    }
   ],
   "source": [
    "for fobj in results:\n",
    "    for f in fobj['file_list']:\n",
    "        print(f)"
   ]
  }
 ],
 "metadata": {
  "kernelspec": {
   "display_name": "Python 3 (ipykernel)",
   "language": "python",
   "name": "python3"
  },
  "language_info": {
   "codemirror_mode": {
    "name": "ipython",
    "version": 3
   },
   "file_extension": ".py",
   "mimetype": "text/x-python",
   "name": "python",
   "nbconvert_exporter": "python",
   "pygments_lexer": "ipython3",
   "version": "3.8.12"
  }
 },
 "nbformat": 4,
 "nbformat_minor": 5
}
