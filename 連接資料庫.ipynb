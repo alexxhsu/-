{
 "cells": [
  {
   "cell_type": "code",
   "execution_count": 7,
   "metadata": {},
   "outputs": [],
   "source": [
    "import pandas\n",
    "import jaydebeapi"
   ]
  },
  {
   "cell_type": "code",
   "execution_count": 8,
   "metadata": {},
   "outputs": [],
   "source": [
    "_sql = [\n",
    "    \"CREATE TABLE IF NOT EXISTS\",\n",
    "    \"STOCKINFO(STOCKID CHAR(5), STOCKDATE CHAR(10),\",\n",
    "    \"STOCKOPEN NUMBER, STOCKHIGH NUMBER, STOCKLOW NUMBER,\",\n",
    "    \"STOCKCLOSE NUMBER, STOCKADJCLOSE NUMBER, STOCKVOL NUMBER);\",\n",
    "]\n"
   ]
  },
  {
   "cell_type": "code",
   "execution_count": 9,
   "metadata": {},
   "outputs": [
    {
     "name": "stdout",
     "output_type": "stream",
     "text": [
      "CREATE TABLE IF NOT EXISTS STOCKINFO(STOCKID CHAR(5), STOCKDATE CHAR(10), STOCKOPEN NUMBER, STOCKHIGH NUMBER, STOCKLOW NUMBER, STOCKCLOSE NUMBER, STOCKADJCLOSE NUMBER, STOCKVOL NUMBER);\n"
     ]
    }
   ],
   "source": [
    "sql = ' '.join(_sql)\n",
    "print(sql)"
   ]
  },
  {
   "cell_type": "code",
   "execution_count": 10,
   "metadata": {},
   "outputs": [
    {
     "ename": "OSError",
     "evalue": "[Errno 0] JVM DLL not found: /Library/Java/JavaVirtualMachines/jdk-17.jdk/Contents/Home/lib/libjli.dylib\n",
     "output_type": "error",
     "traceback": [
      "\u001b[0;31m---------------------------------------------------------------------------\u001b[0m",
      "\u001b[0;31mOSError\u001b[0m                                   Traceback (most recent call last)",
      "\u001b[0;32m/var/folders/hf/5tnp05ns7598nz_smm6l10tm0000gn/T/ipykernel_28971/337132597.py\u001b[0m in \u001b[0;36m<module>\u001b[0;34m\u001b[0m\n\u001b[0;32m----> 1\u001b[0;31m dbConnection = jaydebeapi.connect(\n\u001b[0m\u001b[1;32m      2\u001b[0m     \u001b[0;34m\"org.h2.Driver\"\u001b[0m\u001b[0;34m,\u001b[0m\u001b[0;34m\u001b[0m\u001b[0;34m\u001b[0m\u001b[0m\n\u001b[1;32m      3\u001b[0m     \u001b[0;34m\"jdbc:h2:/Users/justin/Projects/DB/data/H2\"\u001b[0m\u001b[0;34m,\u001b[0m\u001b[0;34m\u001b[0m\u001b[0;34m\u001b[0m\u001b[0m\n\u001b[1;32m      4\u001b[0m     \u001b[0;34m[\u001b[0m\u001b[0;34m\"SA\"\u001b[0m\u001b[0;34m,\u001b[0m \u001b[0;34m\"\"\u001b[0m\u001b[0;34m]\u001b[0m\u001b[0;34m,\u001b[0m\u001b[0;34m\u001b[0m\u001b[0;34m\u001b[0m\u001b[0m\n\u001b[1;32m      5\u001b[0m     \"C:/Java/h2/bin/h2-1.4.200.jar\")\n",
      "\u001b[0;32m~/opt/anaconda3/envs/DB/lib/python3.8/site-packages/jaydebeapi/__init__.py\u001b[0m in \u001b[0;36mconnect\u001b[0;34m(jclassname, url, driver_args, jars, libs)\u001b[0m\n\u001b[1;32m    410\u001b[0m     \u001b[0;32melse\u001b[0m\u001b[0;34m:\u001b[0m\u001b[0;34m\u001b[0m\u001b[0;34m\u001b[0m\u001b[0m\n\u001b[1;32m    411\u001b[0m         \u001b[0mlibs\u001b[0m \u001b[0;34m=\u001b[0m \u001b[0;34m[\u001b[0m\u001b[0;34m]\u001b[0m\u001b[0;34m\u001b[0m\u001b[0;34m\u001b[0m\u001b[0m\n\u001b[0;32m--> 412\u001b[0;31m     \u001b[0mjconn\u001b[0m \u001b[0;34m=\u001b[0m \u001b[0m_jdbc_connect\u001b[0m\u001b[0;34m(\u001b[0m\u001b[0mjclassname\u001b[0m\u001b[0;34m,\u001b[0m \u001b[0murl\u001b[0m\u001b[0;34m,\u001b[0m \u001b[0mdriver_args\u001b[0m\u001b[0;34m,\u001b[0m \u001b[0mjars\u001b[0m\u001b[0;34m,\u001b[0m \u001b[0mlibs\u001b[0m\u001b[0;34m)\u001b[0m\u001b[0;34m\u001b[0m\u001b[0;34m\u001b[0m\u001b[0m\n\u001b[0m\u001b[1;32m    413\u001b[0m     \u001b[0;32mreturn\u001b[0m \u001b[0mConnection\u001b[0m\u001b[0;34m(\u001b[0m\u001b[0mjconn\u001b[0m\u001b[0;34m,\u001b[0m \u001b[0m_converters\u001b[0m\u001b[0;34m)\u001b[0m\u001b[0;34m\u001b[0m\u001b[0;34m\u001b[0m\u001b[0m\n\u001b[1;32m    414\u001b[0m \u001b[0;34m\u001b[0m\u001b[0m\n",
      "\u001b[0;32m~/opt/anaconda3/envs/DB/lib/python3.8/site-packages/jaydebeapi/__init__.py\u001b[0m in \u001b[0;36m_jdbc_connect_jpype\u001b[0;34m(jclassname, url, driver_args, jars, libs)\u001b[0m\n\u001b[1;32m    196\u001b[0m             \u001b[0mjpype\u001b[0m\u001b[0;34m.\u001b[0m\u001b[0mstartJVM\u001b[0m\u001b[0;34m(\u001b[0m\u001b[0mjvm_path\u001b[0m\u001b[0;34m,\u001b[0m \u001b[0;34m*\u001b[0m\u001b[0margs\u001b[0m\u001b[0;34m)\u001b[0m\u001b[0;34m\u001b[0m\u001b[0;34m\u001b[0m\u001b[0m\n\u001b[1;32m    197\u001b[0m         \u001b[0;32melse\u001b[0m\u001b[0;34m:\u001b[0m\u001b[0;34m\u001b[0m\u001b[0;34m\u001b[0m\u001b[0m\n\u001b[0;32m--> 198\u001b[0;31m             jpype.startJVM(jvm_path, *args, ignoreUnrecognized=True,\n\u001b[0m\u001b[1;32m    199\u001b[0m                            convertStrings=True)\n\u001b[1;32m    200\u001b[0m     \u001b[0;32mif\u001b[0m \u001b[0;32mnot\u001b[0m \u001b[0mjpype\u001b[0m\u001b[0;34m.\u001b[0m\u001b[0misThreadAttachedToJVM\u001b[0m\u001b[0;34m(\u001b[0m\u001b[0;34m)\u001b[0m\u001b[0;34m:\u001b[0m\u001b[0;34m\u001b[0m\u001b[0;34m\u001b[0m\u001b[0m\n",
      "\u001b[0;32m~/opt/anaconda3/envs/DB/lib/python3.8/site-packages/jpype/_core.py\u001b[0m in \u001b[0;36mstartJVM\u001b[0;34m(*args, **kwargs)\u001b[0m\n\u001b[1;32m    219\u001b[0m \u001b[0;34m\u001b[0m\u001b[0m\n\u001b[1;32m    220\u001b[0m     \u001b[0;32mtry\u001b[0m\u001b[0;34m:\u001b[0m\u001b[0;34m\u001b[0m\u001b[0;34m\u001b[0m\u001b[0m\n\u001b[0;32m--> 221\u001b[0;31m         _jpype.startup(jvmpath, tuple(args),\n\u001b[0m\u001b[1;32m    222\u001b[0m                        ignoreUnrecognized, convertStrings, interrupt)\n\u001b[1;32m    223\u001b[0m         \u001b[0minitializeResources\u001b[0m\u001b[0;34m(\u001b[0m\u001b[0;34m)\u001b[0m\u001b[0;34m\u001b[0m\u001b[0;34m\u001b[0m\u001b[0m\n",
      "\u001b[0;31mOSError\u001b[0m: [Errno 0] JVM DLL not found: /Library/Java/JavaVirtualMachines/jdk-17.jdk/Contents/Home/lib/libjli.dylib\n"
     ]
    }
   ],
   "source": [
    "dbConnection = jaydebeapi.connect(\n",
    "    \"org.h2.Driver\",\n",
    "    \"jdbc:h2:/Users/justin/Projects/DB/data/H2\",\n",
    "    [\"SA\", \"\"],\n",
    "    \"C:/Java/h2/bin/h2-1.4.200.jar\")\n"
   ]
  }
 ],
 "metadata": {
  "interpreter": {
   "hash": "434086017e0ac4ea05da8756e88f3a007cf46d94ff0f603301dec5177bd9953c"
  },
  "kernelspec": {
   "display_name": "Python 3.8.8 64-bit ('base': conda)",
   "language": "python",
   "name": "python3"
  },
  "language_info": {
   "codemirror_mode": {
    "name": "ipython",
    "version": 3
   },
   "file_extension": ".py",
   "mimetype": "text/x-python",
   "name": "python",
   "nbconvert_exporter": "python",
   "pygments_lexer": "ipython3",
   "version": "3.8.2"
  },
  "orig_nbformat": 4
 },
 "nbformat": 4,
 "nbformat_minor": 2
}
